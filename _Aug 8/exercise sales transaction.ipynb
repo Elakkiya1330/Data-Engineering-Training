{
 "cells": [
  {
   "cell_type": "markdown",
   "metadata": {
    "application/vnd.databricks.v1+cell": {
     "cellMetadata": {
      "byteLimit": 2048000,
      "rowLimit": 10000
     },
     "inputWidgets": {},
     "nuid": "6b74b5b4-dd0a-4b34-940e-724373293938",
     "showTitle": false,
     "tableResultSettingsMap": {},
     "title": ""
    }
   },
   "source": [
    "#Task 1: Ingest and Save"
   ]
  },
  {
   "cell_type": "code",
   "execution_count": 0,
   "metadata": {
    "application/vnd.databricks.v1+cell": {
     "cellMetadata": {
      "byteLimit": 2048000,
      "rowLimit": 10000
     },
     "inputWidgets": {},
     "nuid": "18752ff6-1bb3-4d75-ba6d-5f3ff9fe90d7",
     "showTitle": false,
     "tableResultSettingsMap": {},
     "title": ""
    }
   },
   "outputs": [
    {
     "output_type": "stream",
     "name": "stdout",
     "output_type": "stream",
     "text": [
      "+--------------+-------------+------+---------------+-------------+--------+----------+----------+\n|transaction_id|customer_name|region|        product|     category|quantity|unit_price|      date|\n+--------------+-------------+------+---------------+-------------+--------+----------+----------+\n|             1|       Rajesh| North|         Laptop|  Electronics|       1|     55000|2024-01-12|\n|             2|        Sneha|  West|   Refrigerator|  Electronics|       1|     32000|2024-02-05|\n|             3|         Anil| South|        Shampoo|Personal Care|       5|       150|2024-01-17|\n|             4|        Divya| North|         Mobile|  Electronics|       2|     20000|2024-03-22|\n|             5|       Vikram|  East|Washing Machine|  Electronics|       1|     28000|2024-02-28|\n|             6|       Preeti|  West|       Sneakers|      Fashion|       2|      4000|2024-01-31|\n|             7|         Aman| South|             TV|  Electronics|       1|     45000|2024-02-15|\n|             8|         Isha| North|       Notebook|   Stationery|      10|        60|2024-01-10|\n|             9|        Kunal|  East|         Pencil|   Stationery|      20|        10|2024-03-05|\n|            10|        Tanvi|  West|     Face Cream|Personal Care|       3|       200|2024-03-19|\n+--------------+-------------+------+---------------+-------------+--------+----------+----------+\n\n"
     ]
    }
   ],
   "source": [
    "# Load the CSV into a PySpark DataFrame.\n",
    "# I have uploaded it as a csv file in dbfs\n",
    "df = spark.read.csv(\"dbfs:/FileStore/tables/sales_transaction.csv\", header=True, inferSchema=True)\n",
    "df.show()"
   ]
  },
  {
   "cell_type": "code",
   "execution_count": 0,
   "metadata": {
    "application/vnd.databricks.v1+cell": {
     "cellMetadata": {
      "byteLimit": 2048000,
      "rowLimit": 10000
     },
     "inputWidgets": {},
     "nuid": "45e0e132-24cf-4a0e-acb7-7bc2f5cbc96b",
     "showTitle": false,
     "tableResultSettingsMap": {},
     "title": ""
    }
   },
   "outputs": [],
   "source": [
    "# Save it in Parquet and Delta formats (in different folders).\n",
    "df.write.mode(\"overwrite\").parquet(\"/tmp/sales_transactions.parquet\")\n",
    "df.write.format(\"delta\").mode(\"overwrite\").save(\"/tmp/sales_transactions.delta\")"
   ]
  },
  {
   "cell_type": "code",
   "execution_count": 0,
   "metadata": {
    "application/vnd.databricks.v1+cell": {
     "cellMetadata": {
      "byteLimit": 2048000,
      "rowLimit": 10000
     },
     "inputWidgets": {},
     "nuid": "0cdcb8c6-4a18-4a4e-8044-c43e4db0fb9f",
     "showTitle": false,
     "tableResultSettingsMap": {},
     "title": ""
    }
   },
   "outputs": [
    {
     "output_type": "stream",
     "name": "stdout",
     "output_type": "stream",
     "text": [
      "+--------------+-------------+------+---------------+-------------+--------+----------+----------+\n|transaction_id|customer_name|region|        product|     category|quantity|unit_price|      date|\n+--------------+-------------+------+---------------+-------------+--------+----------+----------+\n|             1|       Rajesh| North|         Laptop|  Electronics|       1|     55000|2024-01-12|\n|             2|        Sneha|  West|   Refrigerator|  Electronics|       1|     32000|2024-02-05|\n|             3|         Anil| South|        Shampoo|Personal Care|       5|       150|2024-01-17|\n|             4|        Divya| North|         Mobile|  Electronics|       2|     20000|2024-03-22|\n|             5|       Vikram|  East|Washing Machine|  Electronics|       1|     28000|2024-02-28|\n|             6|       Preeti|  West|       Sneakers|      Fashion|       2|      4000|2024-01-31|\n|             7|         Aman| South|             TV|  Electronics|       1|     45000|2024-02-15|\n|             8|         Isha| North|       Notebook|   Stationery|      10|        60|2024-01-10|\n|             9|        Kunal|  East|         Pencil|   Stationery|      20|        10|2024-03-05|\n|            10|        Tanvi|  West|     Face Cream|Personal Care|       3|       200|2024-03-19|\n+--------------+-------------+------+---------------+-------------+--------+----------+----------+\n\n"
     ]
    }
   ],
   "source": [
    "# Create and register Delta Table called sales_transactions .\n",
    "df.write.format(\"delta\").mode(\"overwrite\").saveAsTable(\"sales_transactions\")\n",
    "spark.sql(\"SELECT * FROM sales_transactions\").show()"
   ]
  },
  {
   "cell_type": "markdown",
   "metadata": {
    "application/vnd.databricks.v1+cell": {
     "cellMetadata": {
      "byteLimit": 2048000,
      "rowLimit": 10000
     },
     "inputWidgets": {},
     "nuid": "409c06a3-a33f-4441-a391-bb663076d5f6",
     "showTitle": false,
     "tableResultSettingsMap": {},
     "title": ""
    }
   },
   "source": [
    "#Task 2: Data Transformation"
   ]
  },
  {
   "cell_type": "code",
   "execution_count": 0,
   "metadata": {
    "application/vnd.databricks.v1+cell": {
     "cellMetadata": {
      "byteLimit": 2048000,
      "rowLimit": 10000
     },
     "inputWidgets": {},
     "nuid": "c1afeb3b-9516-4545-8c42-affe07281a2c",
     "showTitle": false,
     "tableResultSettingsMap": {},
     "title": ""
    }
   },
   "outputs": [
    {
     "output_type": "stream",
     "name": "stdout",
     "output_type": "stream",
     "text": [
      "+--------------+-------------+------+---------------+-------------+--------+----------+----------+------------+\n|transaction_id|customer_name|region|        product|     category|quantity|unit_price|      date|total_amount|\n+--------------+-------------+------+---------------+-------------+--------+----------+----------+------------+\n|             1|       Rajesh| North|         Laptop|  Electronics|       1|     55000|2024-01-12|       55000|\n|             2|        Sneha|  West|   Refrigerator|  Electronics|       1|     32000|2024-02-05|       32000|\n|             3|         Anil| South|        Shampoo|Personal Care|       5|       150|2024-01-17|         750|\n|             4|        Divya| North|         Mobile|  Electronics|       2|     20000|2024-03-22|       40000|\n|             5|       Vikram|  East|Washing Machine|  Electronics|       1|     28000|2024-02-28|       28000|\n|             6|       Preeti|  West|       Sneakers|      Fashion|       2|      4000|2024-01-31|        8000|\n|             7|         Aman| South|             TV|  Electronics|       1|     45000|2024-02-15|       45000|\n|             8|         Isha| North|       Notebook|   Stationery|      10|        60|2024-01-10|         600|\n|             9|        Kunal|  East|         Pencil|   Stationery|      20|        10|2024-03-05|         200|\n|            10|        Tanvi|  West|     Face Cream|Personal Care|       3|       200|2024-03-19|         600|\n+--------------+-------------+------+---------------+-------------+--------+----------+----------+------------+\n\n"
     ]
    }
   ],
   "source": [
    "# Add a new column total_amount = quantity × unit_price .\n",
    "from pyspark.sql.functions import col\n",
    "df = df.withColumn('total_amount', col(\"quantity\") * col(\"unit_price\"))\n",
    "df.show()"
   ]
  },
  {
   "cell_type": "code",
   "execution_count": 0,
   "metadata": {
    "application/vnd.databricks.v1+cell": {
     "cellMetadata": {
      "byteLimit": 2048000,
      "rowLimit": 10000
     },
     "inputWidgets": {},
     "nuid": "fee95a56-054c-46e0-b04e-a6cfa6b797ce",
     "showTitle": false,
     "tableResultSettingsMap": {},
     "title": ""
    }
   },
   "outputs": [
    {
     "output_type": "stream",
     "name": "stdout",
     "output_type": "stream",
     "text": [
      "+--------------+-------------+------+---------------+-------------+--------+----------+----------+------------+-----+\n|transaction_id|customer_name|region|        product|     category|quantity|unit_price|      date|total_amount|month|\n+--------------+-------------+------+---------------+-------------+--------+----------+----------+------------+-----+\n|             1|       Rajesh| North|         Laptop|  Electronics|       1|     55000|2024-01-12|       55000|    1|\n|             2|        Sneha|  West|   Refrigerator|  Electronics|       1|     32000|2024-02-05|       32000|    2|\n|             3|         Anil| South|        Shampoo|Personal Care|       5|       150|2024-01-17|         750|    1|\n|             4|        Divya| North|         Mobile|  Electronics|       2|     20000|2024-03-22|       40000|    3|\n|             5|       Vikram|  East|Washing Machine|  Electronics|       1|     28000|2024-02-28|       28000|    2|\n|             6|       Preeti|  West|       Sneakers|      Fashion|       2|      4000|2024-01-31|        8000|    1|\n|             7|         Aman| South|             TV|  Electronics|       1|     45000|2024-02-15|       45000|    2|\n|             8|         Isha| North|       Notebook|   Stationery|      10|        60|2024-01-10|         600|    1|\n|             9|        Kunal|  East|         Pencil|   Stationery|      20|        10|2024-03-05|         200|    3|\n|            10|        Tanvi|  West|     Face Cream|Personal Care|       3|       200|2024-03-19|         600|    3|\n+--------------+-------------+------+---------------+-------------+--------+----------+----------+------------+-----+\n\n"
     ]
    }
   ],
   "source": [
    "# Add another column month extracted from the date.\n",
    "from pyspark.sql.functions import month\n",
    "df = df.withColumn('month', month(col(\"date\")))\n",
    "df.show()"
   ]
  },
  {
   "cell_type": "code",
   "execution_count": 0,
   "metadata": {
    "application/vnd.databricks.v1+cell": {
     "cellMetadata": {
      "byteLimit": 2048000,
      "rowLimit": 10000
     },
     "inputWidgets": {},
     "nuid": "a5a5f972-22cd-4fc4-9944-565deeccbef8",
     "showTitle": false,
     "tableResultSettingsMap": {},
     "title": ""
    }
   },
   "outputs": [
    {
     "output_type": "stream",
     "name": "stdout",
     "output_type": "stream",
     "text": [
      "+--------------+-------------+------+---------------+-------------+--------+----------+-----------+------------+-----+\n|transaction_id|customer_name|region|        product|     category|quantity|unit_price|       date|total_amount|month|\n+--------------+-------------+------+---------------+-------------+--------+----------+-----------+------------+-----+\n|             1|       Rajesh| North|         Laptop|  Electronics|       1|     55000|12-Jan-2024|       55000|    1|\n|             2|        Sneha|  West|   Refrigerator|  Electronics|       1|     32000|05-Feb-2024|       32000|    2|\n|             3|         Anil| South|        Shampoo|Personal Care|       5|       150|17-Jan-2024|         750|    1|\n|             4|        Divya| North|         Mobile|  Electronics|       2|     20000|22-Mar-2024|       40000|    3|\n|             5|       Vikram|  East|Washing Machine|  Electronics|       1|     28000|28-Feb-2024|       28000|    2|\n|             6|       Preeti|  West|       Sneakers|      Fashion|       2|      4000|31-Jan-2024|        8000|    1|\n|             7|         Aman| South|             TV|  Electronics|       1|     45000|15-Feb-2024|       45000|    2|\n|             8|         Isha| North|       Notebook|   Stationery|      10|        60|10-Jan-2024|         600|    1|\n|             9|        Kunal|  East|         Pencil|   Stationery|      20|        10|05-Mar-2024|         200|    3|\n|            10|        Tanvi|  West|     Face Cream|Personal Care|       3|       200|19-Mar-2024|         600|    3|\n+--------------+-------------+------+---------------+-------------+--------+----------+-----------+------------+-----+\n\n"
     ]
    }
   ],
   "source": [
    "# Format date as dd-MMM-yyyy and display.\n",
    "from pyspark.sql.functions import date_format\n",
    "df = df.withColumn('date', date_format(col(\"date\"), \"dd-MMM-yyyy\"))\n",
    "df.show()"
   ]
  },
  {
   "cell_type": "code",
   "execution_count": 0,
   "metadata": {
    "application/vnd.databricks.v1+cell": {
     "cellMetadata": {
      "byteLimit": 2048000,
      "rowLimit": 10000
     },
     "inputWidgets": {},
     "nuid": "d73d2d9d-fa64-4f32-84d7-02ef1d453c3e",
     "showTitle": false,
     "tableResultSettingsMap": {},
     "title": ""
    }
   },
   "outputs": [
    {
     "output_type": "stream",
     "name": "stdout",
     "output_type": "stream",
     "text": [
      "+--------------+-------------+------+---------------+-------------+--------+----------+-----------+------------+-----+----------+\n|transaction_id|customer_name|region|        product|     category|quantity|unit_price|       date|total_amount|month|high_value|\n+--------------+-------------+------+---------------+-------------+--------+----------+-----------+------------+-----+----------+\n|             1|       Rajesh| North|         Laptop|  Electronics|       1|     55000|12-Jan-2024|       55000|    1|      true|\n|             2|        Sneha|  West|   Refrigerator|  Electronics|       1|     32000|05-Feb-2024|       32000|    2|      true|\n|             3|         Anil| South|        Shampoo|Personal Care|       5|       150|17-Jan-2024|         750|    1|     false|\n|             4|        Divya| North|         Mobile|  Electronics|       2|     20000|22-Mar-2024|       40000|    3|      true|\n|             5|       Vikram|  East|Washing Machine|  Electronics|       1|     28000|28-Feb-2024|       28000|    2|     false|\n|             6|       Preeti|  West|       Sneakers|      Fashion|       2|      4000|31-Jan-2024|        8000|    1|     false|\n|             7|         Aman| South|             TV|  Electronics|       1|     45000|15-Feb-2024|       45000|    2|      true|\n|             8|         Isha| North|       Notebook|   Stationery|      10|        60|10-Jan-2024|         600|    1|     false|\n|             9|        Kunal|  East|         Pencil|   Stationery|      20|        10|05-Mar-2024|         200|    3|     false|\n|            10|        Tanvi|  West|     Face Cream|Personal Care|       3|       200|19-Mar-2024|         600|    3|     false|\n+--------------+-------------+------+---------------+-------------+--------+----------+-----------+------------+-----+----------+\n\n"
     ]
    }
   ],
   "source": [
    "# Create a column is_high_value (TRUE if total_amount > 30,000 , else FALSE).\n",
    "from pyspark.sql.functions import when\n",
    "df = df.withColumn(\"high_value\", when(col(\"total_amount\") > 30000, True).otherwise(False))\n",
    "df.show()"
   ]
  },
  {
   "cell_type": "markdown",
   "metadata": {
    "application/vnd.databricks.v1+cell": {
     "cellMetadata": {
      "byteLimit": 2048000,
      "rowLimit": 10000
     },
     "inputWidgets": {},
     "nuid": "15df088b-bb49-4dcb-b045-a0f55e09a7dc",
     "showTitle": false,
     "tableResultSettingsMap": {},
     "title": ""
    }
   },
   "source": [
    "#Task 3: Aggregations & Insights"
   ]
  },
  {
   "cell_type": "code",
   "execution_count": 0,
   "metadata": {
    "application/vnd.databricks.v1+cell": {
     "cellMetadata": {
      "byteLimit": 2048000,
      "rowLimit": 10000
     },
     "inputWidgets": {},
     "nuid": "e66ff9b8-6690-4c31-a4ca-85e22dee2224",
     "showTitle": false,
     "tableResultSettingsMap": {},
     "title": ""
    }
   },
   "outputs": [
    {
     "output_type": "stream",
     "name": "stdout",
     "output_type": "stream",
     "text": [
      "+------+-----+\n|region|count|\n+------+-----+\n| South|    2|\n|  East|    2|\n|  West|    3|\n| North|    3|\n+------+-----+\n\n"
     ]
    }
   ],
   "source": [
    "# Count transactions per region.\n",
    "df.groupBy(\"region\").count().show()"
   ]
  },
  {
   "cell_type": "code",
   "execution_count": 0,
   "metadata": {
    "application/vnd.databricks.v1+cell": {
     "cellMetadata": {
      "byteLimit": 2048000,
      "rowLimit": 10000
     },
     "inputWidgets": {},
     "nuid": "054d4ce9-bac6-45b4-aa66-293e172bb36f",
     "showTitle": false,
     "tableResultSettingsMap": {},
     "title": ""
    }
   },
   "outputs": [
    {
     "output_type": "stream",
     "name": "stdout",
     "output_type": "stream",
     "text": [
      "+-------------+-----------------+\n|     category|sum(total_amount)|\n+-------------+-----------------+\n|  Electronics|           200000|\n|      Fashion|             8000|\n|Personal Care|             1350|\n+-------------+-----------------+\n\n"
     ]
    }
   ],
   "source": [
    "# Get top 3 categories by total sales amount.\n",
    "df.groupBy(\"category\").sum(\"total_amount\").orderBy(col(\"sum(total_amount)\").desc()).limit(3).show()"
   ]
  },
  {
   "cell_type": "code",
   "execution_count": 0,
   "metadata": {
    "application/vnd.databricks.v1+cell": {
     "cellMetadata": {
      "byteLimit": 2048000,
      "rowLimit": 10000
     },
     "inputWidgets": {},
     "nuid": "764b6c0c-670b-457c-8be2-5006d81c0a91",
     "showTitle": false,
     "tableResultSettingsMap": {},
     "title": ""
    }
   },
   "outputs": [
    {
     "output_type": "stream",
     "name": "stdout",
     "output_type": "stream",
     "text": [
      "+-----+-----------------+\n|month|sum(total_amount)|\n+-----+-----------------+\n|    1|            64350|\n|    2|           105000|\n|    3|            40800|\n+-----+-----------------+\n\n"
     ]
    }
   ],
   "source": [
    "# Find month-wise revenue trend.\n",
    "df.groupBy(\"month\").sum(\"total_amount\").orderBy(col(\"month\")).show()"
   ]
  },
  {
   "cell_type": "code",
   "execution_count": 0,
   "metadata": {
    "application/vnd.databricks.v1+cell": {
     "cellMetadata": {
      "byteLimit": 2048000,
      "rowLimit": 10000
     },
     "inputWidgets": {},
     "nuid": "eebac7e1-eba7-4abb-9c60-080ef15c260a",
     "showTitle": false,
     "tableResultSettingsMap": {},
     "title": ""
    }
   },
   "outputs": [
    {
     "output_type": "stream",
     "name": "stdout",
     "output_type": "stream",
     "text": [
      "+--------------+-------------+------+-------+-----------+--------+----------+-----------+------------+-----+----------+\n|transaction_id|customer_name|region|product|   category|quantity|unit_price|       date|total_amount|month|high_value|\n+--------------+-------------+------+-------+-----------+--------+----------+-----------+------------+-----+----------+\n|             1|       Rajesh| North| Laptop|Electronics|       1|     55000|12-Jan-2024|       55000|    1|      true|\n+--------------+-------------+------+-------+-----------+--------+----------+-----------+------------+-----+----------+\n\n"
     ]
    }
   ],
   "source": [
    "# Show customer(s) who made the highest purchase in one transaction.\n",
    "df.orderBy(col(\"total_amount\").desc()).limit(1).show()"
   ]
  },
  {
   "cell_type": "code",
   "execution_count": 0,
   "metadata": {
    "application/vnd.databricks.v1+cell": {
     "cellMetadata": {
      "byteLimit": 2048000,
      "rowLimit": 10000
     },
     "inputWidgets": {},
     "nuid": "82ed038a-2197-4d4e-9baf-bd723877e721",
     "showTitle": false,
     "tableResultSettingsMap": {},
     "title": ""
    }
   },
   "outputs": [
    {
     "output_type": "stream",
     "name": "stdout",
     "output_type": "stream",
     "text": [
      "+-----------------+\n|sum(total_amount)|\n+-----------------+\n|           210150|\n+-----------------+\n\n"
     ]
    }
   ],
   "source": [
    "# Calculate total sales done in Q1 (Jan–Mar).\n",
    "df.filter(col(\"month\").isin([1,2,3])).groupBy().sum(\"total_amount\").show()"
   ]
  },
  {
   "cell_type": "markdown",
   "metadata": {
    "application/vnd.databricks.v1+cell": {
     "cellMetadata": {
      "byteLimit": 2048000,
      "rowLimit": 10000
     },
     "inputWidgets": {},
     "nuid": "8df5d1f8-f1ae-4768-b18f-e8f03341c4e7",
     "showTitle": false,
     "tableResultSettingsMap": {},
     "title": ""
    }
   },
   "source": [
    "#Task 4: Update & Delete Scenarios"
   ]
  },
  {
   "cell_type": "code",
   "execution_count": 0,
   "metadata": {
    "application/vnd.databricks.v1+cell": {
     "cellMetadata": {
      "byteLimit": 2048000,
      "rowLimit": 10000
     },
     "inputWidgets": {},
     "nuid": "eb55fd1e-8760-4b27-aca4-f1b1c581ca97",
     "showTitle": false,
     "tableResultSettingsMap": {},
     "title": ""
    }
   },
   "outputs": [],
   "source": [
    "# backup\n",
    "df_old = df\n",
    "# df.write.format(\"delta\").mode(\"overwrite\").saveAsTable(\"sales_transactions_backup\")"
   ]
  },
  {
   "cell_type": "code",
   "execution_count": 0,
   "metadata": {
    "application/vnd.databricks.v1+cell": {
     "cellMetadata": {
      "byteLimit": 2048000,
      "rowLimit": 10000
     },
     "inputWidgets": {},
     "nuid": "9624620b-8637-46e8-8160-909ccff9f508",
     "showTitle": false,
     "tableResultSettingsMap": {},
     "title": ""
    }
   },
   "outputs": [
    {
     "output_type": "stream",
     "name": "stdout",
     "output_type": "stream",
     "text": [
      "original:\n+--------------+-------------+------+---------------+-------------+--------+----------+----------+\n|transaction_id|customer_name|region|        product|     category|quantity|unit_price|      date|\n+--------------+-------------+------+---------------+-------------+--------+----------+----------+\n|             1|       Rajesh| North|         Laptop|  Electronics|       1|     55000|2024-01-12|\n|             2|        Sneha|  West|   Refrigerator|  Electronics|       1|     32000|2024-02-05|\n|             3|         Anil| South|        Shampoo|Personal Care|       5|       150|2024-01-17|\n|             4|        Divya| North|         Mobile|  Electronics|       2|     20000|2024-03-22|\n|             5|       Vikram|  East|Washing Machine|  Electronics|       1|     28000|2024-02-28|\n|             6|       Preeti|  West|       Sneakers|      Fashion|       2|      4000|2024-01-31|\n|             7|         Aman| South|             TV|  Electronics|       1|     45000|2024-02-15|\n|             8|         Isha| North|       Notebook|   Stationery|      10|        60|2024-01-10|\n|             9|        Kunal|  East|         Pencil|   Stationery|      20|        10|2024-03-05|\n|            10|        Tanvi|  West|     Face Cream|Personal Care|       3|       200|2024-03-19|\n+--------------+-------------+------+---------------+-------------+--------+----------+----------+\n\nAfter price update (+10%) for Stationery:\n+--------------+-------------+------+---------------+-------------+--------+----------+----------+\n|transaction_id|customer_name|region|        product|     category|quantity|unit_price|      date|\n+--------------+-------------+------+---------------+-------------+--------+----------+----------+\n|             1|       Rajesh| North|         Laptop|  Electronics|       1|     55000|2024-01-12|\n|             2|        Sneha|  West|   Refrigerator|  Electronics|       1|     32000|2024-02-05|\n|             3|         Anil| South|        Shampoo|Personal Care|       5|       150|2024-01-17|\n|             4|        Divya| North|         Mobile|  Electronics|       2|     20000|2024-03-22|\n|             5|       Vikram|  East|Washing Machine|  Electronics|       1|     28000|2024-02-28|\n|             6|       Preeti|  West|       Sneakers|      Fashion|       2|      4000|2024-01-31|\n|             7|         Aman| South|             TV|  Electronics|       1|     45000|2024-02-15|\n|            10|        Tanvi|  West|     Face Cream|Personal Care|       3|       200|2024-03-19|\n|             8|         Isha| North|       Notebook|   Stationery|      10|        66|2024-01-10|\n|             9|        Kunal|  East|         Pencil|   Stationery|      20|        11|2024-03-05|\n+--------------+-------------+------+---------------+-------------+--------+----------+----------+\n\n"
     ]
    }
   ],
   "source": [
    "# Update price of all Stationery items to increase by 10%.\n",
    "from delta.tables import DeltaTable\n",
    "delta_table = DeltaTable.forName(spark, \"sales_transactions\")\n",
    "print(\"original:\")\n",
    "delta_table.toDF().show()\n",
    "delta_table.update(\n",
    "    condition=col(\"category\") == \"Stationery\",\n",
    "    set={\"unit_price\": col(\"unit_price\") * 1.10}\n",
    ")\n",
    "print(\"After price update (+10%) for Stationery:\")\n",
    "delta_table.toDF().show()"
   ]
  },
  {
   "cell_type": "code",
   "execution_count": 0,
   "metadata": {
    "application/vnd.databricks.v1+cell": {
     "cellMetadata": {
      "byteLimit": 2048000,
      "rowLimit": 10000
     },
     "inputWidgets": {},
     "nuid": "795ecef4-3e9b-453a-8489-9a65643b4bf8",
     "showTitle": false,
     "tableResultSettingsMap": {},
     "title": ""
    }
   },
   "outputs": [
    {
     "output_type": "stream",
     "name": "stdout",
     "output_type": "stream",
     "text": [
      "After deleting records with quantity < 3:\n+--------------+-------------+------+----------+-------------+--------+----------+----------+\n|transaction_id|customer_name|region|   product|     category|quantity|unit_price|      date|\n+--------------+-------------+------+----------+-------------+--------+----------+----------+\n|             8|         Isha| North|  Notebook|   Stationery|      10|        66|2024-01-10|\n|             9|        Kunal|  East|    Pencil|   Stationery|      20|        11|2024-03-05|\n|             3|         Anil| South|   Shampoo|Personal Care|       5|       150|2024-01-17|\n|            10|        Tanvi|  West|Face Cream|Personal Care|       3|       200|2024-03-19|\n+--------------+-------------+------+----------+-------------+--------+----------+----------+\n\n"
     ]
    }
   ],
   "source": [
    "# Delete all records with quantity < 3 .\n",
    "delta_table.delete(col(\"quantity\") < 3)\n",
    "print(\"After deleting records with quantity < 3:\")\n",
    "delta_table.toDF().show()"
   ]
  },
  {
   "cell_type": "code",
   "execution_count": 0,
   "metadata": {
    "application/vnd.databricks.v1+cell": {
     "cellMetadata": {
      "byteLimit": 2048000,
      "rowLimit": 10000
     },
     "inputWidgets": {},
     "nuid": "5c54b53c-b18c-4104-942b-4c047d75945e",
     "showTitle": false,
     "tableResultSettingsMap": {},
     "title": ""
    }
   },
   "outputs": [
    {
     "output_type": "stream",
     "name": "stdout",
     "output_type": "stream",
     "text": [
      "+--------------+-------------+------+----------+-------------+--------+----------+----------+\n|transaction_id|customer_name|region|   product|     category|quantity|unit_price|      date|\n+--------------+-------------+------+----------+-------------+--------+----------+----------+\n|             8|         Isha| North|  Notebook|   Stationery|      10|        66|2024-01-10|\n|             9|        Kunal|  East|    Pencil|   Stationery|      20|        11|2024-03-05|\n|             3|         Anil| South|   Shampoo|Personal Care|       5|       150|2024-01-17|\n|            10|        Tanvi|  West|Face Cream|Personal Care|       3|       200|2024-03-19|\n|            11|        Meera| South|    Tablet|  Electronics|       1|     25000|2025-08-08|\n+--------------+-------------+------+----------+-------------+--------+----------+----------+\n\n"
     ]
    }
   ],
   "source": [
    "# Add a new row into the Delta Table with today's transaction data.\n",
    "from datetime import date\n",
    "today = date.today().strftime(\"%Y-%m-%d\")\n",
    "new_row = [(11, \"Meera\", \"South\", \"Tablet\", \"Electronics\", 1, 25000, today)]\n",
    "columns = [\"transaction_id\", \"customer_name\", \"region\", \"product\", \"category\", \"quantity\", \"unit_price\", \"date\"]\n",
    "new_df = spark.createDataFrame(new_row, columns)\n",
    "new_df.write.format(\"delta\").mode(\"append\").insertInto(\"sales_transactions\")\n",
    "spark.table(\"sales_transactions\").show()"
   ]
  },
  {
   "cell_type": "markdown",
   "metadata": {
    "application/vnd.databricks.v1+cell": {
     "cellMetadata": {
      "byteLimit": 2048000,
      "rowLimit": 10000
     },
     "inputWidgets": {},
     "nuid": "b4689459-ff3e-481a-b87d-6222d7759167",
     "showTitle": false,
     "tableResultSettingsMap": {},
     "title": ""
    }
   },
   "source": [
    "#Task 5: Partitioning & Optimization (Bonus)"
   ]
  },
  {
   "cell_type": "code",
   "execution_count": 0,
   "metadata": {
    "application/vnd.databricks.v1+cell": {
     "cellMetadata": {
      "byteLimit": 2048000,
      "rowLimit": 10000
     },
     "inputWidgets": {},
     "nuid": "7d5fef8c-46ff-4da1-a3b8-90ac96c92bf0",
     "showTitle": false,
     "tableResultSettingsMap": {},
     "title": ""
    }
   },
   "outputs": [
    {
     "output_type": "stream",
     "name": "stdout",
     "output_type": "stream",
     "text": [
      "+--------------+-------------+------+---------------+-------------+--------+----------+-----------+------------+-----+----------+\n|transaction_id|customer_name|region|        product|     category|quantity|unit_price|       date|total_amount|month|high_value|\n+--------------+-------------+------+---------------+-------------+--------+----------+-----------+------------+-----+----------+\n|             8|         Isha| North|       Notebook|   Stationery|      10|        60|10-Jan-2024|         600|    1|     false|\n|             4|        Divya| North|         Mobile|  Electronics|       2|     20000|22-Mar-2024|       40000|    3|      true|\n|             1|       Rajesh| North|         Laptop|  Electronics|       1|     55000|12-Jan-2024|       55000|    1|      true|\n|            10|        Tanvi|  West|     Face Cream|Personal Care|       3|       200|19-Mar-2024|         600|    3|     false|\n|             6|       Preeti|  West|       Sneakers|      Fashion|       2|      4000|31-Jan-2024|        8000|    1|     false|\n|             2|        Sneha|  West|   Refrigerator|  Electronics|       1|     32000|05-Feb-2024|       32000|    2|      true|\n|             9|        Kunal|  East|         Pencil|   Stationery|      20|        10|05-Mar-2024|         200|    3|     false|\n|             5|       Vikram|  East|Washing Machine|  Electronics|       1|     28000|28-Feb-2024|       28000|    2|     false|\n|             7|         Aman| South|             TV|  Electronics|       1|     45000|15-Feb-2024|       45000|    2|      true|\n|             3|         Anil| South|        Shampoo|Personal Care|       5|       150|17-Jan-2024|         750|    1|     false|\n+--------------+-------------+------+---------------+-------------+--------+----------+-----------+------------+-----+----------+\n\n"
     ]
    }
   ],
   "source": [
    "# Re-write the Delta table partitioned by region .\n",
    "df_old.write.format(\"delta\").mode(\"overwrite\").partitionBy(\"region\").saveAsTable(\"partioned_sales_transactions\")\n",
    "spark.table(\"partioned_sales_transactions\").show()"
   ]
  },
  {
   "cell_type": "code",
   "execution_count": 0,
   "metadata": {
    "application/vnd.databricks.v1+cell": {
     "cellMetadata": {
      "byteLimit": 2048000,
      "rowLimit": 10000
     },
     "inputWidgets": {},
     "nuid": "44475b72-e6ed-4451-b89c-09d9da6220cb",
     "showTitle": false,
     "tableResultSettingsMap": {},
     "title": ""
    }
   },
   "outputs": [
    {
     "output_type": "stream",
     "name": "stdout",
     "output_type": "stream",
     "text": [
      "+--------------+-------------+------+---------------+-------------+--------+----------+-----------+------------+-----+----------+\n|transaction_id|customer_name|region|        product|     category|quantity|unit_price|       date|total_amount|month|high_value|\n+--------------+-------------+------+---------------+-------------+--------+----------+-----------+------------+-----+----------+\n|             8|         Isha| North|       Notebook|   Stationery|      10|        60|10-Jan-2024|         600|    1|     false|\n|             6|       Preeti|  West|       Sneakers|      Fashion|       2|      4000|31-Jan-2024|        8000|    1|     false|\n|             3|         Anil| South|        Shampoo|Personal Care|       5|       150|17-Jan-2024|         750|    1|     false|\n|             1|       Rajesh| North|         Laptop|  Electronics|       1|     55000|12-Jan-2024|       55000|    1|      true|\n|             7|         Aman| South|             TV|  Electronics|       1|     45000|15-Feb-2024|       45000|    2|      true|\n|             5|       Vikram|  East|Washing Machine|  Electronics|       1|     28000|28-Feb-2024|       28000|    2|     false|\n|             2|        Sneha|  West|   Refrigerator|  Electronics|       1|     32000|05-Feb-2024|       32000|    2|      true|\n|            10|        Tanvi|  West|     Face Cream|Personal Care|       3|       200|19-Mar-2024|         600|    3|     false|\n|             9|        Kunal|  East|         Pencil|   Stationery|      20|        10|05-Mar-2024|         200|    3|     false|\n|             4|        Divya| North|         Mobile|  Electronics|       2|     20000|22-Mar-2024|       40000|    3|      true|\n+--------------+-------------+------+---------------+-------------+--------+----------+-----------+------------+-----+----------+\n\n"
     ]
    }
   ],
   "source": [
    "# Create a second Delta table partitioned by month .\n",
    "df_old.write.format(\"delta\").mode(\"overwrite\").partitionBy(\"month\").saveAsTable(\"partioned_sales_transactions_month\")\n",
    "spark.table(\"partioned_sales_transactions_month\").show()"
   ]
  }
 ],
 "metadata": {
  "application/vnd.databricks.v1+notebook": {
   "computePreferences": null,
   "dashboards": [],
   "environmentMetadata": {
    "base_environment": "",
    "environment_version": "2"
   },
   "inputWidgetPreferences": null,
   "language": "python",
   "notebookMetadata": {
    "mostRecentlyExecutedCommandWithImplicitDF": {
     "commandId": 8170536373091545,
     "dataframes": [
      "_sqldf"
     ]
    },
    "pythonIndentUnit": 4
   },
   "notebookName": "exercise sales transaction",
   "widgets": {}
  },
  "language_info": {
   "name": "python"
  }
 },
 "nbformat": 4,
 "nbformat_minor": 0
}