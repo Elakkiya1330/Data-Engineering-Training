{
 "cells": [
  {
   "cell_type": "code",
   "execution_count": 0,
   "metadata": {
    "application/vnd.databricks.v1+cell": {
     "cellMetadata": {
      "byteLimit": 2048000,
      "rowLimit": 10000
     },
     "inputWidgets": {},
     "nuid": "e3896699-0f99-4516-a2c0-517d34fe0608",
     "showTitle": false,
     "tableResultSettingsMap": {},
     "title": ""
    }
   },
   "outputs": [],
   "source": [
    "from pyspark.sql.types import StructType, StringType, IntegerType\n",
    "\n",
    "schema = StructType() \\\n",
    "    .add(\"order_id\", StringType()) \\\n",
    "    .add(\"customer_id\", StringType()) \\\n",
    "    .add(\"product\", StringType()) \\\n",
    "    .add(\"quantity\", IntegerType()) \\\n",
    "    .add(\"region\", StringType())\n",
    "\n",
    "initial_data = [\n",
    "    (\"1\", \"C101\", \"Laptop\", 2, \"South\"),\n",
    "    (\"2\", \"C102\", \"Chair\", 6, \"North\"),\n",
    "    (\"3\", \"C103\", \"Mobile\", 1, \"East\")\n",
    "]\n",
    "\n",
    "df = spark.createDataFrame(initial_data, schema)\n",
    "\n",
    "df.write \\\n",
    "  .mode(\"overwrite\") \\\n",
    "  .option(\"header\", True) \\\n",
    "  .csv(\"dbfs:/tmp/stream/orders\")"
   ]
  },
  {
   "cell_type": "code",
   "execution_count": 0,
   "metadata": {
    "application/vnd.databricks.v1+cell": {
     "cellMetadata": {
      "byteLimit": 2048000,
      "rowLimit": 10000
     },
     "inputWidgets": {},
     "nuid": "49e8aa3d-1271-49c2-ad91-696bebb066e1",
     "showTitle": false,
     "tableResultSettingsMap": {},
     "title": ""
    }
   },
   "outputs": [],
   "source": [
    "order_stream = (spark.readStream.option(\"header\", True).schema(schema).csv(\"dbfs:/tmp/stream/orders\"))"
   ]
  },
  {
   "cell_type": "code",
   "execution_count": 0,
   "metadata": {
    "application/vnd.databricks.v1+cell": {
     "cellMetadata": {
      "byteLimit": 2048000,
      "rowLimit": 10000
     },
     "inputWidgets": {},
     "nuid": "dd2da5c9-aaf1-40dd-9195-8113a3323286",
     "showTitle": false,
     "tableResultSettingsMap": {},
     "title": ""
    }
   },
   "outputs": [
    {
     "output_type": "display_data",
     "data": {
      "text/html": [
       "<style scoped>\n",
       "  .table-result-container {\n",
       "    max-height: 300px;\n",
       "    overflow: auto;\n",
       "  }\n",
       "  table, th, td {\n",
       "    border: 1px solid black;\n",
       "    border-collapse: collapse;\n",
       "  }\n",
       "  th, td {\n",
       "    padding: 5px;\n",
       "  }\n",
       "  th {\n",
       "    text-align: left;\n",
       "  }\n",
       "</style><div class='table-result-container'><table class='table-result'><thead style='background-color: white'><tr><th>order_id</th><th>customer_id</th><th>product</th><th>quantity</th><th>region</th><th>bulk_order</th></tr></thead><tbody><tr><td>1</td><td>C101</td><td>Laptop</td><td>2</td><td>South</td><td>false</td></tr><tr><td>2</td><td>C102</td><td>Chair</td><td>6</td><td>North</td><td>true</td></tr><tr><td>3</td><td>C103</td><td>Mobile</td><td>1</td><td>East</td><td>false</td></tr></tbody></table></div>"
      ]
     },
     "metadata": {
      "application/vnd.databricks.v1+output": {
       "addedWidgets": {},
       "aggData": [],
       "aggError": "",
       "aggOverflow": false,
       "aggSchema": [],
       "aggSeriesLimitReached": false,
       "aggType": "",
       "arguments": {},
       "columnCustomDisplayInfos": {},
       "data": [
        [
         "1",
         "C101",
         "Laptop",
         2,
         "South",
         false
        ],
        [
         "2",
         "C102",
         "Chair",
         6,
         "North",
         true
        ],
        [
         "3",
         "C103",
         "Mobile",
         1,
         "East",
         false
        ]
       ],
       "datasetInfos": [],
       "dbfsResultPath": null,
       "isJsonSchema": true,
       "metadata": {
        "isDbfsCommandResult": false
       },
       "overflow": false,
       "plotOptions": {
        "customPlotOptions": {},
        "displayType": "table",
        "pivotAggregation": null,
        "pivotColumns": null,
        "xColumns": null,
        "yColumns": null
       },
       "removedWidgets": [],
       "schema": [
        {
         "metadata": "{}",
         "name": "order_id",
         "type": "\"string\""
        },
        {
         "metadata": "{}",
         "name": "customer_id",
         "type": "\"string\""
        },
        {
         "metadata": "{}",
         "name": "product",
         "type": "\"string\""
        },
        {
         "metadata": "{}",
         "name": "quantity",
         "type": "\"integer\""
        },
        {
         "metadata": "{}",
         "name": "region",
         "type": "\"string\""
        },
        {
         "metadata": "{}",
         "name": "bulk_order",
         "type": "\"boolean\""
        }
       ],
       "type": "table"
      }
     },
     "output_type": "display_data"
    }
   ],
   "source": [
    "from pyspark.sql.functions import when\n",
    "transformed_orders = order_stream.withColumn(\"bulk_order\", when(order_stream[\"quantity\"] > 5, True).otherwise(False))\n",
    "display(transformed_orders)"
   ]
  },
  {
   "cell_type": "code",
   "execution_count": 0,
   "metadata": {
    "application/vnd.databricks.v1+cell": {
     "cellMetadata": {
      "byteLimit": 2048000,
      "rowLimit": 10000
     },
     "inputWidgets": {},
     "nuid": "19435925-22fe-4dca-a0ca-6cf9f0bf7ac7",
     "showTitle": false,
     "tableResultSettingsMap": {},
     "title": ""
    }
   },
   "outputs": [],
   "source": [
    "# Same rate stream and transformation\n",
    "from pyspark.sql.functions import col\n",
    "rate_df = (\n",
    "    spark.readStream\n",
    "    .format(\"rate\")\n",
    "    .option(\"rowsPerSecond\", 1)\n",
    "    .load()\n",
    ")\n",
    "\n",
    "transformed_df = rate_df.withColumn(\"is_even\", (col(\"value\") % 2 == 0))\n",
    "\n",
    "# Write to memory (temp table)\n",
    "query = (\n",
    "    transformed_df.writeStream\n",
    "    .format(\"memory\")  # \uD83D\uDC48 this is key\n",
    "    .queryName(\"rate_table\")  # \uD83D\uDC48 table name to query later\n",
    "    .outputMode(\"append\")\n",
    "    .start()\n",
    ")"
   ]
  },
  {
   "cell_type": "code",
   "execution_count": 0,
   "metadata": {
    "application/vnd.databricks.v1+cell": {
     "cellMetadata": {
      "byteLimit": 2048000,
      "rowLimit": 10000
     },
     "inputWidgets": {},
     "nuid": "e660c730-1ba6-48c6-80cc-6c975a4acf5a",
     "showTitle": false,
     "tableResultSettingsMap": {},
     "title": ""
    }
   },
   "outputs": [
    {
     "output_type": "stream",
     "name": "stdout",
     "output_type": "stream",
     "text": [
      "+--------------------+-----+-------+\n|           timestamp|value|is_even|\n+--------------------+-----+-------+\n|2025-08-08 11:08:...|    0|   true|\n|2025-08-08 11:08:...|    1|  false|\n|2025-08-08 11:08:...|    2|   true|\n|2025-08-08 11:08:...|    3|  false|\n|2025-08-08 11:08:...|    4|   true|\n|2025-08-08 11:08:...|    5|  false|\n|2025-08-08 11:08:...|    6|   true|\n|2025-08-08 11:08:...|    7|  false|\n|2025-08-08 11:08:...|    8|   true|\n|2025-08-08 11:08:...|    9|  false|\n|2025-08-08 11:08:...|   10|   true|\n|2025-08-08 11:08:...|   11|  false|\n|2025-08-08 11:08:...|   12|   true|\n|2025-08-08 11:08:...|   13|  false|\n|2025-08-08 11:08:...|   14|   true|\n|2025-08-08 11:08:...|   15|  false|\n|2025-08-08 11:08:...|   16|   true|\n|2025-08-08 11:08:...|   17|  false|\n|2025-08-08 11:08:...|   18|   true|\n|2025-08-08 11:08:...|   19|  false|\n+--------------------+-----+-------+\nonly showing top 20 rows\n"
     ]
    }
   ],
   "source": [
    "spark.sql(\"SELECT * FROM rate_table\").show()"
   ]
  },
  {
   "cell_type": "code",
   "execution_count": 0,
   "metadata": {
    "application/vnd.databricks.v1+cell": {
     "cellMetadata": {
      "byteLimit": 2048000,
      "rowLimit": 10000
     },
     "inputWidgets": {},
     "nuid": "03fb6e0b-a312-46fc-b44e-dbfdda60f268",
     "showTitle": false,
     "tableResultSettingsMap": {},
     "title": ""
    }
   },
   "outputs": [],
   "source": [
    "from pyspark.sql.functions import col, current_timestamp\n",
    "\n",
    "rate_df = (\n",
    "    spark.readStream\n",
    "    .format(\"rate\")\n",
    "    .option(\"rowsPerSecond\", 1)\n",
    "    .load()\n",
    ")\n",
    "\n",
    "# Variation\n",
    "transformed_df = rate_df.withColumn(\"processing_time\", current_timestamp())\n",
    "\n",
    "# Write to memory (temp table)\n",
    "query = (\n",
    "    transformed_df.writeStream\n",
    "    .format(\"memory\")\n",
    "    .queryName(\"rate_table\")\n",
    "    .outputMode(\"append\")\n",
    "    .start()\n",
    ")\n",
    "\n",
    "\n"
   ]
  },
  {
   "cell_type": "code",
   "execution_count": 0,
   "metadata": {
    "application/vnd.databricks.v1+cell": {
     "cellMetadata": {
      "byteLimit": 2048000,
      "rowLimit": 10000
     },
     "inputWidgets": {},
     "nuid": "c689dddd-16fb-42dd-a78c-e5ff6f2ab7b2",
     "showTitle": false,
     "tableResultSettingsMap": {},
     "title": ""
    }
   },
   "outputs": [
    {
     "output_type": "stream",
     "name": "stdout",
     "output_type": "stream",
     "text": [
      "+--------------------+-----+--------------------+\n|           timestamp|value|     processing_time|\n+--------------------+-----+--------------------+\n|2025-08-08 11:23:...|    0|2025-08-08 11:23:...|\n|2025-08-08 11:23:...|    1|2025-08-08 11:23:...|\n|2025-08-08 11:23:...|    2|2025-08-08 11:23:...|\n|2025-08-08 11:23:...|    3|2025-08-08 11:23:...|\n|2025-08-08 11:23:...|    4|2025-08-08 11:23:...|\n|2025-08-08 11:23:...|    5|2025-08-08 11:23:...|\n|2025-08-08 11:23:...|    6|2025-08-08 11:23:...|\n+--------------------+-----+--------------------+\n\n"
     ]
    }
   ],
   "source": [
    "spark.sql(\"SELECT * FROM rate_table\").show()"
   ]
  }
 ],
 "metadata": {
  "application/vnd.databricks.v1+notebook": {
   "computePreferences": null,
   "dashboards": [],
   "environmentMetadata": {
    "base_environment": "",
    "environment_version": "2"
   },
   "inputWidgetPreferences": null,
   "language": "python",
   "notebookMetadata": {
    "pythonIndentUnit": 4
   },
   "notebookName": "streaming workout",
   "widgets": {}
  },
  "language_info": {
   "name": "python"
  }
 },
 "nbformat": 4,
 "nbformat_minor": 0
}