{
 "cells": [
  {
   "cell_type": "code",
   "execution_count": 0,
   "metadata": {
    "application/vnd.databricks.v1+cell": {
     "cellMetadata": {
      "byteLimit": 2048000,
      "rowLimit": 10000
     },
     "inputWidgets": {},
     "nuid": "94cd22f6-87cc-4d55-a9b8-5176b71e94fc",
     "showTitle": false,
     "tableResultSettingsMap": {},
     "title": ""
    }
   },
   "outputs": [
    {
     "output_type": "stream",
     "name": "stdout",
     "output_type": "stream",
     "text": [
      "+----------+-----+-------+-----+-----+\n|student_id| name|subject|score|grade|\n+----------+-----+-------+-----+-----+\n|         1|Ankit|   Math|   85|    A|\n|         2|Divya|Science|   92|    A|\n|         3|Rahul|English|   78|    B|\n|         4|Sneha|   Math|   65|    C|\n|         5|Aryan|Science|   55|    D|\n|         6| Isha|English|   88|    A|\n|         7|Tanvi|   Math|   91|    A|\n|         8|Kunal|Science|   72|    B|\n|         9|Megha|English|   60|    C|\n|        10|Rohan|   Math|   40|    F|\n+----------+-----+-------+-----+-----+\n\n"
     ]
    },
    {
     "output_type": "execute_result",
     "data": {
      "text/plain": [
       "DataFrame[]"
      ]
     },
     "execution_count": 2,
     "metadata": {},
     "output_type": "execute_result"
    }
   ],
   "source": [
    "\n",
    "df = spark.read.option(\"header\", True).option(\"inferSchema\", True).csv(\"dbfs:/FileStore/tables/student_scores.csv\")\n",
    "df.show()\n",
    "df_delta = df.write.format(\"delta\").mode(\"overwrite\").save(\"/tmp/delta/student_scores\")\n",
    "spark.sql(\"DROP TABLE IF EXISTS student_scores\")"
   ]
  },
  {
   "cell_type": "code",
   "execution_count": 0,
   "metadata": {
    "application/vnd.databricks.v1+cell": {
     "cellMetadata": {
      "byteLimit": 2048000,
      "rowLimit": 10000
     },
     "inputWidgets": {},
     "nuid": "a794e502-48fe-44e7-b268-a3e34cadb9ca",
     "showTitle": false,
     "tableResultSettingsMap": {},
     "title": ""
    }
   },
   "outputs": [
    {
     "output_type": "stream",
     "name": "stdout",
     "output_type": "stream",
     "text": [
      "+----------+-----+-------+-----+-----+\n|student_id| name|subject|score|grade|\n+----------+-----+-------+-----+-----+\n|         1|Ankit|   Math|   85|    A|\n|         2|Divya|Science|   92|    A|\n|         3|Rahul|English|   78|    B|\n|         4|Sneha|   Math|   65|    C|\n|         5|Aryan|Science|   55|    D|\n|         6| Isha|English|   88|    A|\n|         7|Tanvi|   Math|   91|    A|\n|         8|Kunal|Science|   72|    B|\n|         9|Megha|English|   60|    C|\n|        10|Rohan|   Math|   40|    F|\n+----------+-----+-------+-----+-----+\n\n"
     ]
    }
   ],
   "source": [
    "# Create and register Delta Table called sales_transactions .\n",
    "df.write.format(\"delta\").mode(\"overwrite\").saveAsTable(\"student_scores\")\n",
    "spark.sql(\"select * from student_scores\").show()"
   ]
  },
  {
   "cell_type": "markdown",
   "metadata": {
    "application/vnd.databricks.v1+cell": {
     "cellMetadata": {},
     "inputWidgets": {},
     "nuid": "3e4c8a2a-eb18-40c8-871e-02cda73df9b2",
     "showTitle": false,
     "tableResultSettingsMap": {},
     "title": ""
    }
   },
   "source": [
    "#Basic Tasks"
   ]
  },
  {
   "cell_type": "code",
   "execution_count": 0,
   "metadata": {
    "application/vnd.databricks.v1+cell": {
     "cellMetadata": {
      "byteLimit": 2048000,
      "rowLimit": 10000
     },
     "inputWidgets": {},
     "nuid": "bdbbe5ba-33df-4c8e-8b63-778e0903a782",
     "showTitle": false,
     "tableResultSettingsMap": {},
     "title": ""
    }
   },
   "outputs": [
    {
     "output_type": "stream",
     "name": "stdout",
     "output_type": "stream",
     "text": [
      "+-----+-----+\n| name|score|\n+-----+-----+\n|Ankit|   85|\n|Divya|   92|\n|Rahul|   78|\n|Sneha|   65|\n|Aryan|   55|\n| Isha|   88|\n|Tanvi|   91|\n|Kunal|   72|\n|Megha|   60|\n|Rohan|   40|\n+-----+-----+\n\n"
     ]
    }
   ],
   "source": [
    "# 1. Show all students and their scores.\n",
    "spark.sql(\"select name, score from student_scores\").show()"
   ]
  },
  {
   "cell_type": "code",
   "execution_count": 0,
   "metadata": {
    "application/vnd.databricks.v1+cell": {
     "cellMetadata": {
      "byteLimit": 2048000,
      "rowLimit": 10000
     },
     "inputWidgets": {},
     "nuid": "ee2eefc9-d09b-4793-9c88-31ef4441528e",
     "showTitle": false,
     "tableResultSettingsMap": {},
     "title": ""
    }
   },
   "outputs": [
    {
     "output_type": "stream",
     "name": "stdout",
     "output_type": "stream",
     "text": [
      "+-------+--------+\n|subject|count(1)|\n+-------+--------+\n|Science|       3|\n|   Math|       4|\n|English|       3|\n+-------+--------+\n\n"
     ]
    }
   ],
   "source": [
    "# 2. Count number of students in each subject.\n",
    "spark.sql(\"select subject, count(*) from student_scores group by subject\").show()"
   ]
  },
  {
   "cell_type": "code",
   "execution_count": 0,
   "metadata": {
    "application/vnd.databricks.v1+cell": {
     "cellMetadata": {
      "byteLimit": 2048000,
      "rowLimit": 10000
     },
     "inputWidgets": {},
     "nuid": "cdbe09b3-b2d6-4fc0-b46c-7dfe47662c8d",
     "showTitle": false,
     "tableResultSettingsMap": {},
     "title": ""
    }
   },
   "outputs": [
    {
     "output_type": "stream",
     "name": "stdout",
     "output_type": "stream",
     "text": [
      "+-------+---------+\n|subject|avg_score|\n+-------+---------+\n|Science|     73.0|\n|   Math|    70.25|\n|English|    75.33|\n+-------+---------+\n\n"
     ]
    }
   ],
   "source": [
    "# 3. Find average score per subject.\n",
    "spark.sql(\"select subject, round(avg(score),2) as avg_score from student_scores group by subject\").show()"
   ]
  },
  {
   "cell_type": "code",
   "execution_count": 0,
   "metadata": {
    "application/vnd.databricks.v1+cell": {
     "cellMetadata": {
      "byteLimit": 2048000,
      "rowLimit": 10000
     },
     "inputWidgets": {},
     "nuid": "cd44b253-d2e6-49f1-a820-dfeb48964b97",
     "showTitle": false,
     "tableResultSettingsMap": {},
     "title": ""
    }
   },
   "outputs": [
    {
     "output_type": "stream",
     "name": "stdout",
     "output_type": "stream",
     "text": [
      "+-----+-----+\n| name|score|\n+-----+-----+\n|Ankit|   85|\n|Divya|   92|\n| Isha|   88|\n|Tanvi|   91|\n+-----+-----+\n\n"
     ]
    }
   ],
   "source": [
    "# 4. List all students who scored more than 80.\n",
    "spark.sql(\"select name, score from student_scores where score > 80\").show()"
   ]
  },
  {
   "cell_type": "markdown",
   "metadata": {
    "application/vnd.databricks.v1+cell": {
     "cellMetadata": {},
     "inputWidgets": {},
     "nuid": "a807670f-6048-4eec-a4d0-855af8b2717e",
     "showTitle": false,
     "tableResultSettingsMap": {},
     "title": ""
    }
   },
   "source": [
    "#Advanced Queries"
   ]
  },
  {
   "cell_type": "code",
   "execution_count": 0,
   "metadata": {
    "application/vnd.databricks.v1+cell": {
     "cellMetadata": {
      "byteLimit": 2048000,
      "rowLimit": 10000
     },
     "inputWidgets": {},
     "nuid": "df66e7e8-0397-44fe-a9dc-de144329cdb0",
     "showTitle": false,
     "tableResultSettingsMap": {},
     "title": ""
    }
   },
   "outputs": [
    {
     "output_type": "stream",
     "name": "stdout",
     "output_type": "stream",
     "text": [
      "+-------+-----+-----+\n|subject| name|score|\n+-------+-----+-----+\n|English| Isha|   88|\n|   Math|Tanvi|   91|\n|Science|Divya|   92|\n+-------+-----+-----+\n\n"
     ]
    }
   ],
   "source": [
    "# 5. Show student(s) with the highest score in each subject.\n",
    "spark.sql(\"select subject, name, score from (select subject, name, score, rank() over (partition by subject order by score desc) as rnk from student_scores) where rnk = 1\").show()"
   ]
  },
  {
   "cell_type": "code",
   "execution_count": 0,
   "metadata": {
    "application/vnd.databricks.v1+cell": {
     "cellMetadata": {
      "byteLimit": 2048000,
      "rowLimit": 10000
     },
     "inputWidgets": {},
     "nuid": "deb1e2b4-a44f-449b-bd70-fffcf476480c",
     "showTitle": false,
     "tableResultSettingsMap": {},
     "title": ""
    }
   },
   "outputs": [
    {
     "output_type": "stream",
     "name": "stdout",
     "output_type": "stream",
     "text": [
      "+-----+--------------+\n|grade|students_count|\n+-----+--------------+\n|    F|             1|\n|    B|             2|\n|    D|             1|\n|    C|             2|\n|    A|             4|\n+-----+--------------+\n\n"
     ]
    }
   ],
   "source": [
    "# 6. Display grades with count of students in each.\n",
    "spark.sql(\"select grade, count(*) as students_count from student_scores group by grade\").show()"
   ]
  },
  {
   "cell_type": "code",
   "execution_count": 0,
   "metadata": {
    "application/vnd.databricks.v1+cell": {
     "cellMetadata": {
      "byteLimit": 2048000,
      "rowLimit": 10000
     },
     "inputWidgets": {},
     "nuid": "9eedc54f-e0bc-4a4e-a2f9-962cedbf727c",
     "showTitle": false,
     "tableResultSettingsMap": {},
     "title": ""
    }
   },
   "outputs": [
    {
     "output_type": "stream",
     "name": "stdout",
     "output_type": "stream",
     "text": [
      "+-----+\n| name|\n+-----+\n|Rohan|\n+-----+\n\n"
     ]
    }
   ],
   "source": [
    "# 7. Show names of students who failed (grade F).\n",
    "spark.sql(\"select name from student_scores where grade = 'F'\").show()"
   ]
  },
  {
   "cell_type": "code",
   "execution_count": 0,
   "metadata": {
    "application/vnd.databricks.v1+cell": {
     "cellMetadata": {
      "byteLimit": 2048000,
      "rowLimit": 10000
     },
     "inputWidgets": {},
     "nuid": "e9c1862c-b7fb-4ef8-bd95-05dbf7eb120c",
     "showTitle": false,
     "tableResultSettingsMap": {},
     "title": ""
    }
   },
   "outputs": [
    {
     "output_type": "stream",
     "name": "stdout",
     "output_type": "stream",
     "text": [
      "+-----+-----+\n| name|score|\n+-----+-----+\n|Ankit|   85|\n|Rahul|   78|\n|Sneha|   65|\n| Isha|   88|\n|Kunal|   72|\n|Megha|   60|\n+-----+-----+\n\n"
     ]
    }
   ],
   "source": [
    "# 8. List students with score between 60 and 90.\n",
    "spark.sql(\"select name, score from student_scores where score between 60 and 90\").show()"
   ]
  },
  {
   "cell_type": "code",
   "execution_count": 0,
   "metadata": {
    "application/vnd.databricks.v1+cell": {
     "cellMetadata": {
      "byteLimit": 2048000,
      "rowLimit": 10000
     },
     "inputWidgets": {},
     "nuid": "431fa4b2-d3ba-4688-a346-247c8c719d24",
     "showTitle": false,
     "tableResultSettingsMap": {},
     "title": ""
    }
   },
   "outputs": [
    {
     "output_type": "stream",
     "name": "stdout",
     "output_type": "stream",
     "text": [
      "+-------+-----+-----+----+\n|subject| name|score|rank|\n+-------+-----+-----+----+\n|English| Isha|   88|   1|\n|English|Rahul|   78|   2|\n|English|Megha|   60|   3|\n|   Math|Tanvi|   91|   1|\n|   Math|Ankit|   85|   2|\n|   Math|Sneha|   65|   3|\n|   Math|Rohan|   40|   4|\n|Science|Divya|   92|   1|\n|Science|Kunal|   72|   2|\n|Science|Aryan|   55|   3|\n+-------+-----+-----+----+\n\n"
     ]
    }
   ],
   "source": [
    "# 9. Rank students within each subject based on scores.\n",
    "spark.sql(\"select subject, name, score, rank() over (partition by subject order by score desc) as rank from student_scores\").show()"
   ]
  },
  {
   "cell_type": "markdown",
   "metadata": {
    "application/vnd.databricks.v1+cell": {
     "cellMetadata": {},
     "inputWidgets": {},
     "nuid": "0c0af77c-b81b-4ae6-addd-aa2cc3754c7c",
     "showTitle": false,
     "tableResultSettingsMap": {},
     "title": ""
    }
   },
   "source": [
    "#Update & Delete Tasks"
   ]
  },
  {
   "cell_type": "code",
   "execution_count": 0,
   "metadata": {
    "application/vnd.databricks.v1+cell": {
     "cellMetadata": {
      "byteLimit": 2048000,
      "rowLimit": 10000
     },
     "inputWidgets": {},
     "nuid": "26dea7d8-1b18-46ec-b9f3-8c1f36a63c89",
     "showTitle": false,
     "tableResultSettingsMap": {},
     "title": ""
    }
   },
   "outputs": [
    {
     "output_type": "stream",
     "name": "stdout",
     "output_type": "stream",
     "text": [
      "+----------+-----+-------+-----+-----+\n|student_id| name|subject|score|grade|\n+----------+-----+-------+-----+-----+\n|         1|Ankit|   Math|   85|    A|\n|         2|Divya|Science|   92|    A|\n|         4|Sneha|   Math|   65|    C|\n|         5|Aryan|Science|   55|    D|\n|         7|Tanvi|   Math|   91|    A|\n|         8|Kunal|Science|   72|    B|\n|        10|Rohan|   Math|   40|    F|\n|         3|Rahul|English|   83|    B|\n|         6| Isha|English|   93|    A|\n|         9|Megha|English|   65|    C|\n+----------+-----+-------+-----+-----+\n\n"
     ]
    }
   ],
   "source": [
    "# 10.Increase score of all English subject students by 5.\n",
    "from delta.tables import DeltaTable\n",
    "delta_table = DeltaTable.forName(spark, \"student_scores\")\n",
    "delta_table.update(\n",
    "    condition=\"subject = 'English'\",\n",
    "    set={\"score\": \"score + 5\"}\n",
    ")\n",
    "delta_table.toDF().show()"
   ]
  },
  {
   "cell_type": "code",
   "execution_count": 0,
   "metadata": {
    "application/vnd.databricks.v1+cell": {
     "cellMetadata": {
      "byteLimit": 2048000,
      "rowLimit": 10000
     },
     "inputWidgets": {},
     "nuid": "c0def4a8-9e71-49f2-a379-109af64eb4b0",
     "showTitle": false,
     "tableResultSettingsMap": {},
     "title": ""
    }
   },
   "outputs": [
    {
     "output_type": "stream",
     "name": "stdout",
     "output_type": "stream",
     "text": [
      "+----------+-----+-------+-----+-----+\n|student_id| name|subject|score|grade|\n+----------+-----+-------+-----+-----+\n|         3|Rahul|English|   83|    B|\n|         6| Isha|English|   93|    A|\n|         9|Megha|English|   65|    C|\n|         1|Ankit|   Math|   85|    A|\n|         2|Divya|Science|   92|    A|\n|         4|Sneha|   Math|   65|    C|\n|         5|Aryan|Science|   55|    D|\n|         7|Tanvi|   Math|   91|    A|\n|         8|Kunal|Science|   72|    B|\n+----------+-----+-------+-----+-----+\n\n"
     ]
    }
   ],
   "source": [
    "# 11.Delete all records where score is less than 50.\n",
    "delta_table.delete(\"score < 50\")\n",
    "delta_table.toDF().show()"
   ]
  },
  {
   "cell_type": "code",
   "execution_count": 0,
   "metadata": {
    "application/vnd.databricks.v1+cell": {
     "cellMetadata": {
      "byteLimit": 2048000,
      "rowLimit": 10000
     },
     "inputWidgets": {},
     "nuid": "70389e32-2454-428e-a8ae-b2a7d223b639",
     "showTitle": false,
     "tableResultSettingsMap": {},
     "title": ""
    }
   },
   "outputs": [
    {
     "output_type": "stream",
     "name": "stdout",
     "output_type": "stream",
     "text": [
      "+----------+-----+-------+-----+-----+-----------+\n|student_id| name|subject|score|grade|pass_status|\n+----------+-----+-------+-----+-----+-----------+\n|         3|Rahul|English|   83|    B|       PASS|\n|         6| Isha|English|   93|    A|       PASS|\n|         9|Megha|English|   65|    C|       PASS|\n|         1|Ankit|   Math|   85|    A|       PASS|\n|         2|Divya|Science|   92|    A|       PASS|\n|         4|Sneha|   Math|   65|    C|       PASS|\n|         5|Aryan|Science|   55|    D|       PASS|\n|         7|Tanvi|   Math|   91|    A|       PASS|\n|         8|Kunal|Science|   72|    B|       PASS|\n+----------+-----+-------+-----+-----+-----------+\n\n"
     ]
    }
   ],
   "source": [
    "# 12. Add a new column pass_status (PASS if score >= 50 else FAIL).\n",
    "spark.sql(\"select *, case when score >= 50 then 'PASS' else 'FAIL' end as pass_status from student_scores\").show()"
   ]
  },
  {
   "cell_type": "markdown",
   "metadata": {
    "application/vnd.databricks.v1+cell": {
     "cellMetadata": {},
     "inputWidgets": {},
     "nuid": "95a47b05-c995-4ff4-b07b-9cb6e39c73e5",
     "showTitle": false,
     "tableResultSettingsMap": {},
     "title": ""
    }
   },
   "source": [
    "#Data Transformation & Views"
   ]
  },
  {
   "cell_type": "code",
   "execution_count": 0,
   "metadata": {
    "application/vnd.databricks.v1+cell": {
     "cellMetadata": {
      "byteLimit": 2048000,
      "rowLimit": 10000
     },
     "inputWidgets": {},
     "nuid": "e2a6bb6b-4765-4dc5-b75c-6121b986e7f0",
     "showTitle": false,
     "tableResultSettingsMap": {},
     "title": ""
    }
   },
   "outputs": [],
   "source": [
    "# 13. Create a temporary view and run SQL to get average scores.\n",
    "df.createOrReplaceTempView(\"student_scores_temp\")"
   ]
  },
  {
   "cell_type": "code",
   "execution_count": 0,
   "metadata": {
    "application/vnd.databricks.v1+cell": {
     "cellMetadata": {
      "byteLimit": 2048000,
      "rowLimit": 10000
     },
     "inputWidgets": {},
     "nuid": "f0814a61-f1c6-4e9d-a95d-db88c75dd3ed",
     "showTitle": false,
     "tableResultSettingsMap": {},
     "title": ""
    }
   },
   "outputs": [
    {
     "output_type": "stream",
     "name": "stdout",
     "output_type": "stream",
     "text": [
      "+-------+---------+\n|subject|avg_score|\n+-------+---------+\n|Science|     73.0|\n|   Math|    70.25|\n|English|    75.33|\n+-------+---------+\n\n"
     ]
    }
   ],
   "source": [
    "spark.sql(\"select subject, round(avg(score),2) as avg_score from student_scores_temp group by subject\").show()"
   ]
  },
  {
   "cell_type": "code",
   "execution_count": 0,
   "metadata": {
    "application/vnd.databricks.v1+cell": {
     "cellMetadata": {
      "byteLimit": 2048000,
      "rowLimit": 10000
     },
     "inputWidgets": {},
     "nuid": "5d05b21b-0306-49d5-85f1-5311816bc8c9",
     "showTitle": false,
     "tableResultSettingsMap": {},
     "title": ""
    }
   },
   "outputs": [],
   "source": [
    "# 14. Convert updated DataFrame into a new Delta table called student_scores_v2 .\n",
    "df.write.format(\"delta\").mode(\"overwrite\").saveAsTable(\"student_scores_v2\")"
   ]
  },
  {
   "cell_type": "code",
   "execution_count": 0,
   "metadata": {
    "application/vnd.databricks.v1+cell": {
     "cellMetadata": {
      "byteLimit": 2048000,
      "rowLimit": 10000
     },
     "inputWidgets": {},
     "nuid": "9f6e7f98-d0fa-4fcd-9091-5cc047b7226d",
     "showTitle": false,
     "tableResultSettingsMap": {},
     "title": ""
    }
   },
   "outputs": [],
   "source": [
    "# 15. Write the final data to Parquet and JSON formats.\n",
    "df.write.parquet(\"/tmp/student_scores.parquet\")\n",
    "df.write.json(\"/tmp/student_scores.json\")"
   ]
  }
 ],
 "metadata": {
  "application/vnd.databricks.v1+notebook": {
   "computePreferences": null,
   "dashboards": [],
   "environmentMetadata": {
    "base_environment": "",
    "environment_version": "2"
   },
   "inputWidgetPreferences": null,
   "language": "python",
   "notebookMetadata": {
    "pythonIndentUnit": 4
   },
   "notebookName": "exercise student_scores",
   "widgets": {}
  },
  "language_info": {
   "name": "python"
  }
 },
 "nbformat": 4,
 "nbformat_minor": 0
}