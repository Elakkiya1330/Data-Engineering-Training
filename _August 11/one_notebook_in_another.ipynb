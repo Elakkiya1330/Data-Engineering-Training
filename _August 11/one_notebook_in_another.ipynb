{
  "nbformat": 4,
  "nbformat_minor": 0,
  "metadata": {
    "colab": {
      "provenance": []
    },
    "kernelspec": {
      "name": "python3",
      "display_name": "Python 3"
    },
    "language_info": {
      "name": "python"
    }
  },
  "cells": [
    {
      "cell_type": "code",
      "execution_count": null,
      "metadata": {
        "id": "ljl9CILG7ojR"
      },
      "outputs": [],
      "source": [
        "from google.colab import drive\n",
        "drive.mount('/content/drive')"
      ]
    },
    {
      "cell_type": "code",
      "source": [
        "# converts ipynb to py\n",
        "!jupyter nbconvert --to script \"/content/drive/MyDrive/Colab Notebooks/notebook_A.ipynb\" \\\n",
        "    --output /content/other_notebook"
      ],
      "metadata": {
        "id": "EiuLs82W75aj"
      },
      "execution_count": null,
      "outputs": []
    },
    {
      "cell_type": "code",
      "source": [
        "# as it was continuous stored as .txt converted .txt to py\n",
        "!mv /content/other_notebook.txt /content/other_notebook.py"
      ],
      "metadata": {
        "id": "FBO5Jiuj-H2E"
      },
      "execution_count": 18,
      "outputs": []
    },
    {
      "cell_type": "code",
      "source": [
        "%run -i /content/other_notebook.py"
      ],
      "metadata": {
        "colab": {
          "base_uri": "https://localhost:8080/"
        },
        "id": "2qZiTVj6-a7N",
        "outputId": "469807c3-e185-426d-db31-4c1a04b7b4ef"
      },
      "execution_count": 20,
      "outputs": [
        {
          "output_type": "stream",
          "name": "stdout",
          "text": [
            "Hello  Elakkiya\n"
          ]
        }
      ]
    },
    {
      "cell_type": "code",
      "source": [
        "print(name)"
      ],
      "metadata": {
        "colab": {
          "base_uri": "https://localhost:8080/"
        },
        "id": "kJTVnE0e-cUw",
        "outputId": "3f61bdf3-74a2-4518-be99-7dc7840167b9"
      },
      "execution_count": 21,
      "outputs": [
        {
          "output_type": "stream",
          "name": "stdout",
          "text": [
            "Elakkiya\n"
          ]
        }
      ]
    }
  ]
}