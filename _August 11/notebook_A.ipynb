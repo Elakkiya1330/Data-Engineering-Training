{
  "nbformat": 4,
  "nbformat_minor": 0,
  "metadata": {
    "colab": {
      "provenance": []
    },
    "kernelspec": {
      "name": "python3",
      "display_name": "Python 3"
    },
    "language_info": {
      "name": "python"
    }
  },
  "cells": [
    {
      "cell_type": "code",
      "execution_count": 2,
      "metadata": {
        "colab": {
          "base_uri": "https://localhost:8080/"
        },
        "id": "Ovms6SE27Lyo",
        "outputId": "7cec580f-e970-4d7a-b7e0-fedcc20a4f13"
      },
      "outputs": [
        {
          "output_type": "stream",
          "name": "stdout",
          "text": [
            "Hello  Elakkiya\n"
          ]
        }
      ],
      "source": [
        "name = \"Elakkiya\"\n",
        "print(\"Hello \",name)"
      ]
    }
  ]
}