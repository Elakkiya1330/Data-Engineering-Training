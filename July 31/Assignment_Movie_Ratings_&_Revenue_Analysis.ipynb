{
  "nbformat": 4,
  "nbformat_minor": 0,
  "metadata": {
    "colab": {
      "provenance": []
    },
    "kernelspec": {
      "name": "python3",
      "display_name": "Python 3"
    },
    "language_info": {
      "name": "python"
    }
  },
  "cells": [
    {
      "cell_type": "markdown",
      "source": [
        "#Assignment: Movie Ratings & Revenue Analysis\n",
        "##Step 1: Create a CSV – movies.csv"
      ],
      "metadata": {
        "id": "T7gBzJefMF4_"
      }
    },
    {
      "cell_type": "code",
      "execution_count": 1,
      "metadata": {
        "id": "F1N3YRb7Lff8"
      },
      "outputs": [],
      "source": [
        "data = \"\"\"MovieID,Title,Genre,ReleaseDate,Rating,Revenue,Budget\n",
        "1,Inception,Sci-Fi,2010-07-16,8.8,825532764,160000000\n",
        "2,The Dark Knight,Action,2008-07-18,9.0,1004558444,185000000\n",
        "3,Titanic,Romance,1997-12-19,7.8,2187463944,200000000\n",
        "4,Interstellar,Sci-Fi,2014-11-07,8.6,677471339,165000000\n",
        "5,Joker,Drama,2019-10-04,8.4,1074251311,55000000\n",
        "6,The Notebook,Romance,2004-06-25,7.9,,29000000\n",
        "7,Avengers: Endgame,Action,2019-04-26,8.4,2797800564,356000000\"\"\"\n",
        "with open(\"movies.csv\", \"w\") as f:\n",
        "    f.write(data)"
      ]
    },
    {
      "cell_type": "markdown",
      "source": [
        "#PART 1: Pandas Operations\n"
      ],
      "metadata": {
        "id": "_AT8yAZgMOTb"
      }
    },
    {
      "cell_type": "code",
      "source": [
        "# 1. Load movies.csv into a Pandas DataFrame.\n",
        "import pandas as pd\n",
        "df = pd.read_csv('movies.csv')\n",
        "print(df)"
      ],
      "metadata": {
        "colab": {
          "base_uri": "https://localhost:8080/"
        },
        "id": "Rv42Za0PMUPf",
        "outputId": "a53a7f71-3531-44a0-9ced-fa2dd43ed1a5"
      },
      "execution_count": 2,
      "outputs": [
        {
          "output_type": "stream",
          "name": "stdout",
          "text": [
            "   MovieID              Title    Genre ReleaseDate  Rating       Revenue  \\\n",
            "0        1          Inception   Sci-Fi  2010-07-16     8.8  8.255328e+08   \n",
            "1        2    The Dark Knight   Action  2008-07-18     9.0  1.004558e+09   \n",
            "2        3            Titanic  Romance  1997-12-19     7.8  2.187464e+09   \n",
            "3        4       Interstellar   Sci-Fi  2014-11-07     8.6  6.774713e+08   \n",
            "4        5              Joker    Drama  2019-10-04     8.4  1.074251e+09   \n",
            "5        6       The Notebook  Romance  2004-06-25     7.9           NaN   \n",
            "6        7  Avengers: Endgame   Action  2019-04-26     8.4  2.797801e+09   \n",
            "\n",
            "      Budget  \n",
            "0  160000000  \n",
            "1  185000000  \n",
            "2  200000000  \n",
            "3  165000000  \n",
            "4   55000000  \n",
            "5   29000000  \n",
            "6  356000000  \n"
          ]
        }
      ]
    },
    {
      "cell_type": "code",
      "source": [
        "# 2. Convert ReleaseDate to datetime.\n",
        "df['ReleaseDate'] = pd.to_datetime(df['ReleaseDate'])"
      ],
      "metadata": {
        "id": "iQyJ4j55MaRz"
      },
      "execution_count": null,
      "outputs": []
    },
    {
      "cell_type": "code",
      "source": [
        "# 3. Calculate Profit = Revenue - Budget .\n",
        "df['Profit'] = df['Revenue'] - df['Budget']\n",
        "print(df)"
      ],
      "metadata": {
        "colab": {
          "base_uri": "https://localhost:8080/"
        },
        "id": "6e9Olzf3MndQ",
        "outputId": "b84c4c2f-81f0-4050-86c3-6815d248519b"
      },
      "execution_count": 7,
      "outputs": [
        {
          "output_type": "stream",
          "name": "stdout",
          "text": [
            "   MovieID              Title    Genre ReleaseDate  Rating       Revenue  \\\n",
            "0        1          Inception   Sci-Fi  2010-07-16     8.8  8.255328e+08   \n",
            "1        2    The Dark Knight   Action  2008-07-18     9.0  1.004558e+09   \n",
            "2        3            Titanic  Romance  1997-12-19     7.8  2.187464e+09   \n",
            "3        4       Interstellar   Sci-Fi  2014-11-07     8.6  6.774713e+08   \n",
            "4        5              Joker    Drama  2019-10-04     8.4  1.074251e+09   \n",
            "5        6       The Notebook  Romance  2004-06-25     7.9           NaN   \n",
            "6        7  Avengers: Endgame   Action  2019-04-26     8.4  2.797801e+09   \n",
            "\n",
            "      Budget        Profit  \n",
            "0  160000000  6.655328e+08  \n",
            "1  185000000  8.195584e+08  \n",
            "2  200000000  1.987464e+09  \n",
            "3  165000000  5.124713e+08  \n",
            "4   55000000  1.019251e+09  \n",
            "5   29000000           NaN  \n",
            "6  356000000  2.441801e+09  \n"
          ]
        }
      ]
    },
    {
      "cell_type": "code",
      "source": [
        "# 4. Add a column \"Era\" :\n",
        "# Before 2000 → Classic\n",
        "# 2000-2010 → Mid\n",
        "# After 2010 → Modern\n",
        "def classify_era(date):\n",
        "    year = date.year\n",
        "    if year < 2000:\n",
        "        return 'Classic'\n",
        "    elif 2000 <= year <= 2010:\n",
        "        return 'Mid'\n",
        "    else:\n",
        "        return 'Modern'\n",
        "\n",
        "df['Era'] = df['ReleaseDate'].apply(classify_era)\n",
        "print(df)"
      ],
      "metadata": {
        "colab": {
          "base_uri": "https://localhost:8080/"
        },
        "id": "1PJvYIpCNOQy",
        "outputId": "0d3f0734-adee-4a05-ebad-c75c21b00c10"
      },
      "execution_count": 9,
      "outputs": [
        {
          "output_type": "stream",
          "name": "stdout",
          "text": [
            "   MovieID              Title    Genre ReleaseDate  Rating       Revenue  \\\n",
            "0        1          Inception   Sci-Fi  2010-07-16     8.8  8.255328e+08   \n",
            "1        2    The Dark Knight   Action  2008-07-18     9.0  1.004558e+09   \n",
            "2        3            Titanic  Romance  1997-12-19     7.8  2.187464e+09   \n",
            "3        4       Interstellar   Sci-Fi  2014-11-07     8.6  6.774713e+08   \n",
            "4        5              Joker    Drama  2019-10-04     8.4  1.074251e+09   \n",
            "5        6       The Notebook  Romance  2004-06-25     7.9           NaN   \n",
            "6        7  Avengers: Endgame   Action  2019-04-26     8.4  2.797801e+09   \n",
            "\n",
            "      Budget        Profit      Era  \n",
            "0  160000000  6.655328e+08      Mid  \n",
            "1  185000000  8.195584e+08      Mid  \n",
            "2  200000000  1.987464e+09  Classic  \n",
            "3  165000000  5.124713e+08   Modern  \n",
            "4   55000000  1.019251e+09   Modern  \n",
            "5   29000000           NaN      Mid  \n",
            "6  356000000  2.441801e+09   Modern  \n"
          ]
        }
      ]
    },
    {
      "cell_type": "code",
      "source": [
        "# 5. Handle nulls in Revenue by filling with average revenue.\n",
        "df['Revenue'] = df['Revenue'].fillna(df['Revenue'].mean())\n",
        "print(df)"
      ],
      "metadata": {
        "colab": {
          "base_uri": "https://localhost:8080/"
        },
        "id": "kun6UaeENeRX",
        "outputId": "11819291-dd80-4578-80c3-1d5b5b5b2677"
      },
      "execution_count": 12,
      "outputs": [
        {
          "output_type": "stream",
          "name": "stdout",
          "text": [
            "   MovieID              Title    Genre ReleaseDate  Rating       Revenue  \\\n",
            "0        1          Inception   Sci-Fi  2010-07-16     8.8  8.255328e+08   \n",
            "1        2    The Dark Knight   Action  2008-07-18     9.0  1.004558e+09   \n",
            "2        3            Titanic  Romance  1997-12-19     7.8  2.187464e+09   \n",
            "3        4       Interstellar   Sci-Fi  2014-11-07     8.6  6.774713e+08   \n",
            "4        5              Joker    Drama  2019-10-04     8.4  1.074251e+09   \n",
            "5        6       The Notebook  Romance  2004-06-25     7.9  1.427846e+09   \n",
            "6        7  Avengers: Endgame   Action  2019-04-26     8.4  2.797801e+09   \n",
            "\n",
            "      Budget        Profit      Era  \n",
            "0  160000000  6.655328e+08      Mid  \n",
            "1  185000000  8.195584e+08      Mid  \n",
            "2  200000000  1.987464e+09  Classic  \n",
            "3  165000000  5.124713e+08   Modern  \n",
            "4   55000000  1.019251e+09   Modern  \n",
            "5   29000000           NaN      Mid  \n",
            "6  356000000  2.441801e+09   Modern  \n"
          ]
        }
      ]
    },
    {
      "cell_type": "code",
      "source": [
        "# 6. Sort by Rating descending.\n",
        "print(df.sort_values(by='Rating',ascending= False))"
      ],
      "metadata": {
        "colab": {
          "base_uri": "https://localhost:8080/"
        },
        "id": "etWuPIoJNpDn",
        "outputId": "72fc19d5-33d9-4bb9-e441-d91b16aa6b70"
      },
      "execution_count": 13,
      "outputs": [
        {
          "output_type": "stream",
          "name": "stdout",
          "text": [
            "   MovieID              Title    Genre ReleaseDate  Rating       Revenue  \\\n",
            "1        2    The Dark Knight   Action  2008-07-18     9.0  1.004558e+09   \n",
            "0        1          Inception   Sci-Fi  2010-07-16     8.8  8.255328e+08   \n",
            "3        4       Interstellar   Sci-Fi  2014-11-07     8.6  6.774713e+08   \n",
            "6        7  Avengers: Endgame   Action  2019-04-26     8.4  2.797801e+09   \n",
            "4        5              Joker    Drama  2019-10-04     8.4  1.074251e+09   \n",
            "5        6       The Notebook  Romance  2004-06-25     7.9  1.427846e+09   \n",
            "2        3            Titanic  Romance  1997-12-19     7.8  2.187464e+09   \n",
            "\n",
            "      Budget        Profit      Era  \n",
            "1  185000000  8.195584e+08      Mid  \n",
            "0  160000000  6.655328e+08      Mid  \n",
            "3  165000000  5.124713e+08   Modern  \n",
            "6  356000000  2.441801e+09   Modern  \n",
            "4   55000000  1.019251e+09   Modern  \n",
            "5   29000000           NaN      Mid  \n",
            "2  200000000  1.987464e+09  Classic  \n"
          ]
        }
      ]
    },
    {
      "cell_type": "code",
      "source": [
        "# 7. Group by Genre → average Rating & total Revenue.\n",
        "print(df.groupby('Genre').agg({'Rating': 'mean', 'Revenue': 'sum'}))"
      ],
      "metadata": {
        "colab": {
          "base_uri": "https://localhost:8080/"
        },
        "id": "ZQwkea8DOAh2",
        "outputId": "a3b9221d-5ac2-4a42-dd27-2339bc91e174"
      },
      "execution_count": 14,
      "outputs": [
        {
          "output_type": "stream",
          "name": "stdout",
          "text": [
            "         Rating       Revenue\n",
            "Genre                        \n",
            "Action     8.70  3.802359e+09\n",
            "Drama      8.40  1.074251e+09\n",
            "Romance    7.85  3.615310e+09\n",
            "Sci-Fi     8.70  1.503004e+09\n"
          ]
        }
      ]
    },
    {
      "cell_type": "code",
      "source": [
        "# 8. Filter movies with Rating ≥ 8.5 and Profit > 500M.\n",
        "print(df[(df['Rating']>=8.5) & (df['Profit']> 500000000)])"
      ],
      "metadata": {
        "colab": {
          "base_uri": "https://localhost:8080/"
        },
        "id": "sDkhEoqfOMQL",
        "outputId": "1556519a-52b4-4825-d357-3d8661b92641"
      },
      "execution_count": 19,
      "outputs": [
        {
          "output_type": "stream",
          "name": "stdout",
          "text": [
            "   MovieID            Title   Genre ReleaseDate  Rating       Revenue  \\\n",
            "0        1        Inception  Sci-Fi  2010-07-16     8.8  8.255328e+08   \n",
            "1        2  The Dark Knight  Action  2008-07-18     9.0  1.004558e+09   \n",
            "3        4     Interstellar  Sci-Fi  2014-11-07     8.6  6.774713e+08   \n",
            "\n",
            "      Budget       Profit     Era  \n",
            "0  160000000  665532764.0     Mid  \n",
            "1  185000000  819558444.0     Mid  \n",
            "3  165000000  512471339.0  Modern  \n"
          ]
        }
      ]
    },
    {
      "cell_type": "code",
      "source": [
        "# 9. Plot bar chart of Movie Title vs Profit.\n",
        "import matplotlib.pyplot as plt\n",
        "df.plot(kind='bar', x='Title', y='Profit', color='skyblue', figsize=(10, 5))\n",
        "plt.title(\"Movie Profit by Title\")\n",
        "plt.ylabel(\"Profit\")\n",
        "plt.xticks(rotation=45)\n",
        "plt.tight_layout()\n",
        "plt.show()\n"
      ],
      "metadata": {
        "colab": {
          "base_uri": "https://localhost:8080/",
          "height": 507
        },
        "id": "gNqsp9KOPATy",
        "outputId": "c8964926-e77a-45c4-91f6-43a86b9472e7"
      },
      "execution_count": 21,
      "outputs": [
        {
          "output_type": "display_data",
          "data": {
            "text/plain": [
              "<Figure size 1000x500 with 1 Axes>"
            ],
            "image/png": "[encoded data removed]"
          },
          "metadata": {}
        }
      ]
    },
    {
      "cell_type": "markdown",
      "source": [
        "#PART 2: PySpark Operations"
      ],
      "metadata": {
        "id": "an2dK0fnPT_t"
      }
    },
    {
      "cell_type": "code",
      "source": [
        "# 1. Read the same CSV using PySpark.\n",
        "from pyspark.sql import SparkSession\n",
        "spark = SparkSession.builder.appName(\"MovieRatingsAnalysis\").getOrCreate()\n",
        "df = spark.read.option(\"header\", True).option(\"inferSchema\", True).csv(\"movies.csv\")\n",
        "df.show()"
      ],
      "metadata": {
        "colab": {
          "base_uri": "https://localhost:8080/"
        },
        "id": "Ws_TmbavPNjJ",
        "outputId": "f4776e53-abe1-4017-8dfe-7b3d7dd58fb2"
      },
      "execution_count": 118,
      "outputs": [
        {
          "output_type": "stream",
          "name": "stdout",
          "text": [
            "+-------+-----------------+-------+-----------+------+----------+---------+\n",
            "|MovieID|            Title|  Genre|ReleaseDate|Rating|   Revenue|   Budget|\n",
            "+-------+-----------------+-------+-----------+------+----------+---------+\n",
            "|      1|        Inception| Sci-Fi| 2010-07-16|   8.8| 825532764|160000000|\n",
            "|      2|  The Dark Knight| Action| 2008-07-18|   9.0|1004558444|185000000|\n",
            "|      3|          Titanic|Romance| 1997-12-19|   7.8|2187463944|200000000|\n",
            "|      4|     Interstellar| Sci-Fi| 2014-11-07|   8.6| 677471339|165000000|\n",
            "|      5|            Joker|  Drama| 2019-10-04|   8.4|1074251311| 55000000|\n",
            "|      6|     The Notebook|Romance| 2004-06-25|   7.9|      NULL| 29000000|\n",
            "|      7|Avengers: Endgame| Action| 2019-04-26|   8.4|2797800564|356000000|\n",
            "+-------+-----------------+-------+-----------+------+----------+---------+\n",
            "\n"
          ]
        }
      ]
    },
    {
      "cell_type": "code",
      "source": [
        "# 2. Create Profit column ( Revenue - Budget ).\n",
        "df1 = df # for future use\n",
        "from pyspark.sql.functions import col\n",
        "df = df.withColumn(\"Profit\", col(\"Revenue\") - col(\"Budget\"))\n",
        "df.show()\n"
      ],
      "metadata": {
        "colab": {
          "base_uri": "https://localhost:8080/"
        },
        "id": "rDXQkoNoPk_8",
        "outputId": "b7d91f58-8a6d-4ed9-fc8d-e2e3be777ab7"
      },
      "execution_count": 120,
      "outputs": [
        {
          "output_type": "stream",
          "name": "stdout",
          "text": [
            "+-------+-----------------+-------+-----------+------+----------+---------+----------+\n",
            "|MovieID|            Title|  Genre|ReleaseDate|Rating|   Revenue|   Budget|    Profit|\n",
            "+-------+-----------------+-------+-----------+------+----------+---------+----------+\n",
            "|      1|        Inception| Sci-Fi| 2010-07-16|   8.8| 825532764|160000000| 665532764|\n",
            "|      2|  The Dark Knight| Action| 2008-07-18|   9.0|1004558444|185000000| 819558444|\n",
            "|      3|          Titanic|Romance| 1997-12-19|   7.8|2187463944|200000000|1987463944|\n",
            "|      4|     Interstellar| Sci-Fi| 2014-11-07|   8.6| 677471339|165000000| 512471339|\n",
            "|      5|            Joker|  Drama| 2019-10-04|   8.4|1074251311| 55000000|1019251311|\n",
            "|      6|     The Notebook|Romance| 2004-06-25|   7.9|      NULL| 29000000|      NULL|\n",
            "|      7|Avengers: Endgame| Action| 2019-04-26|   8.4|2797800564|356000000|2441800564|\n",
            "+-------+-----------------+-------+-----------+------+----------+---------+----------+\n",
            "\n"
          ]
        }
      ]
    },
    {
      "cell_type": "code",
      "source": [
        "# 3. Filter where Genre == 'Sci-Fi' and Profit > 500000000 .\n",
        "df.filter((col(\"Genre\") == \"Sci-Fi\") & (col(\"Profit\") > 500000000)).show()"
      ],
      "metadata": {
        "colab": {
          "base_uri": "https://localhost:8080/"
        },
        "id": "jVKCE8FfPsnn",
        "outputId": "c3d781e6-e530-4e69-9b4c-2fad27492b2a"
      },
      "execution_count": 121,
      "outputs": [
        {
          "output_type": "stream",
          "name": "stdout",
          "text": [
            "+-------+------------+------+-----------+------+---------+---------+---------+\n",
            "|MovieID|       Title| Genre|ReleaseDate|Rating|  Revenue|   Budget|   Profit|\n",
            "+-------+------------+------+-----------+------+---------+---------+---------+\n",
            "|      1|   Inception|Sci-Fi| 2010-07-16|   8.8|825532764|160000000|665532764|\n",
            "|      4|Interstellar|Sci-Fi| 2014-11-07|   8.6|677471339|165000000|512471339|\n",
            "+-------+------------+------+-----------+------+---------+---------+---------+\n",
            "\n"
          ]
        }
      ]
    },
    {
      "cell_type": "code",
      "source": [
        "# 4. Group by Genre → avg(Rating) , sum(Profit)\n",
        "df.groupBy(\"Genre\").agg({\"Rating\": \"avg\", \"Profit\": \"sum\"}).show()"
      ],
      "metadata": {
        "colab": {
          "base_uri": "https://localhost:8080/"
        },
        "id": "SaDky9g4P0MC",
        "outputId": "ba4dcf1a-7c96-4323-e4af-725720f7803c"
      },
      "execution_count": 122,
      "outputs": [
        {
          "output_type": "stream",
          "name": "stdout",
          "text": [
            "+-------+-----------+-----------+\n",
            "|  Genre|avg(Rating)|sum(Profit)|\n",
            "+-------+-----------+-----------+\n",
            "|Romance|       7.85| 1987463944|\n",
            "|  Drama|        8.4| 1019251311|\n",
            "| Action|        8.7| 3261359008|\n",
            "| Sci-Fi|        8.7| 1178004103|\n",
            "+-------+-----------+-----------+\n",
            "\n"
          ]
        }
      ]
    },
    {
      "cell_type": "code",
      "source": [
        "# 5. Use when().otherwise() to classify Rating as:\n",
        "# =9 → Blockbuster\n",
        "# 8–9 → Hit\n",
        "# below 8 → Average\n",
        "from pyspark.sql.functions import when\n",
        "df = df.withColumn(\"Category\", when(col(\"Rating\") == 9.0, \"Blockbuster\").when((col(\"Rating\") >= 8.0) & (col(\"Rating\") < 9.0), \"Hit\").otherwise(\"Average\"))\n",
        "df.select(\"Title\", \"Rating\", \"Category\").show()"
      ],
      "metadata": {
        "colab": {
          "base_uri": "https://localhost:8080/"
        },
        "id": "LSNq_vbbP_tu",
        "outputId": "28c61b50-98bb-47e0-d9da-5830aa7bd03d"
      },
      "execution_count": 124,
      "outputs": [
        {
          "output_type": "stream",
          "name": "stdout",
          "text": [
            "+-----------------+------+-----------+\n",
            "|            Title|Rating|   Category|\n",
            "+-----------------+------+-----------+\n",
            "|        Inception|   8.8|        Hit|\n",
            "|  The Dark Knight|   9.0|Blockbuster|\n",
            "|          Titanic|   7.8|    Average|\n",
            "|     Interstellar|   8.6|        Hit|\n",
            "|            Joker|   8.4|        Hit|\n",
            "|     The Notebook|   7.9|    Average|\n",
            "|Avengers: Endgame|   8.4|        Hit|\n",
            "+-----------------+------+-----------+\n",
            "\n"
          ]
        }
      ]
    },
    {
      "cell_type": "code",
      "source": [
        "# 6. Drop the Budget column.\n",
        "df = df.drop('Budget')\n",
        "df.show()"
      ],
      "metadata": {
        "colab": {
          "base_uri": "https://localhost:8080/"
        },
        "id": "gl2YJvkkQN8u",
        "outputId": "fa98b67c-f16c-426f-b3a6-53e331a69339"
      },
      "execution_count": 125,
      "outputs": [
        {
          "output_type": "stream",
          "name": "stdout",
          "text": [
            "+-------+-----------------+-------+-----------+------+----------+----------+-----------+\n",
            "|MovieID|            Title|  Genre|ReleaseDate|Rating|   Revenue|    Profit|   Category|\n",
            "+-------+-----------------+-------+-----------+------+----------+----------+-----------+\n",
            "|      1|        Inception| Sci-Fi| 2010-07-16|   8.8| 825532764| 665532764|        Hit|\n",
            "|      2|  The Dark Knight| Action| 2008-07-18|   9.0|1004558444| 819558444|Blockbuster|\n",
            "|      3|          Titanic|Romance| 1997-12-19|   7.8|2187463944|1987463944|    Average|\n",
            "|      4|     Interstellar| Sci-Fi| 2014-11-07|   8.6| 677471339| 512471339|        Hit|\n",
            "|      5|            Joker|  Drama| 2019-10-04|   8.4|1074251311|1019251311|        Hit|\n",
            "|      6|     The Notebook|Romance| 2004-06-25|   7.9|      NULL|      NULL|    Average|\n",
            "|      7|Avengers: Endgame| Action| 2019-04-26|   8.4|2797800564|2441800564|        Hit|\n",
            "+-------+-----------------+-------+-----------+------+----------+----------+-----------+\n",
            "\n"
          ]
        }
      ]
    },
    {
      "cell_type": "code",
      "source": [
        "# 7. Fill null revenue with average (use na.fill() or na.replace() ).\n",
        "from pyspark.sql.functions import avg\n",
        "avg_rev = df.select(avg(\"Revenue\")).collect()[0][0]\n",
        "df = df.fillna({\"Revenue\": avg_rev})\n",
        "df.show()"
      ],
      "metadata": {
        "colab": {
          "base_uri": "https://localhost:8080/"
        },
        "id": "CHfjtti3QbaA",
        "outputId": "5d704720-7a0a-4a07-d6e1-02189d2fd830"
      },
      "execution_count": 126,
      "outputs": [
        {
          "output_type": "stream",
          "name": "stdout",
          "text": [
            "+-------+-----------------+-------+-----------+------+----------+----------+-----------+\n",
            "|MovieID|            Title|  Genre|ReleaseDate|Rating|   Revenue|    Profit|   Category|\n",
            "+-------+-----------------+-------+-----------+------+----------+----------+-----------+\n",
            "|      1|        Inception| Sci-Fi| 2010-07-16|   8.8| 825532764| 665532764|        Hit|\n",
            "|      2|  The Dark Knight| Action| 2008-07-18|   9.0|1004558444| 819558444|Blockbuster|\n",
            "|      3|          Titanic|Romance| 1997-12-19|   7.8|2187463944|1987463944|    Average|\n",
            "|      4|     Interstellar| Sci-Fi| 2014-11-07|   8.6| 677471339| 512471339|        Hit|\n",
            "|      5|            Joker|  Drama| 2019-10-04|   8.4|1074251311|1019251311|        Hit|\n",
            "|      6|     The Notebook|Romance| 2004-06-25|   7.9|1427846394|      NULL|    Average|\n",
            "|      7|Avengers: Endgame| Action| 2019-04-26|   8.4|2797800564|2441800564|        Hit|\n",
            "+-------+-----------------+-------+-----------+------+----------+----------+-----------+\n",
            "\n"
          ]
        }
      ]
    },
    {
      "cell_type": "code",
      "source": [
        "# 8. Convert ReleaseDate to date type, extract year and month .\n",
        "from pyspark.sql.functions import to_date , year, month\n",
        "df = df.withColumn(\"ReleaseDate\", to_date(\"ReleaseDate\", \"yyyy-MM-dd\"))\n",
        "df = df.withColumn(\"Year\", year(\"ReleaseDate\"))\n",
        "df = df.withColumn(\"Month\", month(\"ReleaseDate\"))\n",
        "df.show()"
      ],
      "metadata": {
        "colab": {
          "base_uri": "https://localhost:8080/"
        },
        "id": "J4BkJGoiTKlD",
        "outputId": "7802007c-3f34-4721-c2e0-d8ad05e8e7ad"
      },
      "execution_count": 127,
      "outputs": [
        {
          "output_type": "stream",
          "name": "stdout",
          "text": [
            "+-------+-----------------+-------+-----------+------+----------+----------+-----------+----+-----+\n",
            "|MovieID|            Title|  Genre|ReleaseDate|Rating|   Revenue|    Profit|   Category|Year|Month|\n",
            "+-------+-----------------+-------+-----------+------+----------+----------+-----------+----+-----+\n",
            "|      1|        Inception| Sci-Fi| 2010-07-16|   8.8| 825532764| 665532764|        Hit|2010|    7|\n",
            "|      2|  The Dark Knight| Action| 2008-07-18|   9.0|1004558444| 819558444|Blockbuster|2008|    7|\n",
            "|      3|          Titanic|Romance| 1997-12-19|   7.8|2187463944|1987463944|    Average|1997|   12|\n",
            "|      4|     Interstellar| Sci-Fi| 2014-11-07|   8.6| 677471339| 512471339|        Hit|2014|   11|\n",
            "|      5|            Joker|  Drama| 2019-10-04|   8.4|1074251311|1019251311|        Hit|2019|   10|\n",
            "|      6|     The Notebook|Romance| 2004-06-25|   7.9|1427846394|      NULL|    Average|2004|    6|\n",
            "|      7|Avengers: Endgame| Action| 2019-04-26|   8.4|2797800564|2441800564|        Hit|2019|    4|\n",
            "+-------+-----------------+-------+-----------+------+----------+----------+-----------+----+-----+\n",
            "\n"
          ]
        }
      ]
    },
    {
      "cell_type": "code",
      "source": [
        "# 9. Use a window function to rank movies within each genre by profit.\n",
        "from pyspark.sql.window import Window\n",
        "from pyspark.sql.functions import rank\n",
        "windowSpec = Window.partitionBy(\"Genre\").orderBy(col(\"Profit\").desc())\n",
        "df = df.withColumn(\"Rank\", rank().over(windowSpec))\n",
        "df.select(\"Title\", \"Genre\", \"Profit\", \"Rank\").show()"
      ],
      "metadata": {
        "colab": {
          "base_uri": "https://localhost:8080/"
        },
        "id": "eU4iNqhzUAE3",
        "outputId": "3163063e-7167-4213-ccef-0cbb2fe80484"
      },
      "execution_count": 128,
      "outputs": [
        {
          "output_type": "stream",
          "name": "stdout",
          "text": [
            "+-----------------+-------+----------+----+\n",
            "|            Title|  Genre|    Profit|Rank|\n",
            "+-----------------+-------+----------+----+\n",
            "|Avengers: Endgame| Action|2441800564|   1|\n",
            "|  The Dark Knight| Action| 819558444|   2|\n",
            "|            Joker|  Drama|1019251311|   1|\n",
            "|          Titanic|Romance|1987463944|   1|\n",
            "|     The Notebook|Romance|      NULL|   2|\n",
            "|        Inception| Sci-Fi| 665532764|   1|\n",
            "|     Interstellar| Sci-Fi| 512471339|   2|\n",
            "+-----------------+-------+----------+----+\n",
            "\n"
          ]
        }
      ]
    },
    {
      "cell_type": "markdown",
      "source": [
        "#PART 3: JSON + Union Example"
      ],
      "metadata": {
        "id": "ZdEQDNZvWv7n"
      }
    },
    {
      "cell_type": "code",
      "source": [
        "json_data = '''\n",
        "[\n",
        "{\"MovieID\": 8, \"Title\": \"Barbie\", \"Genre\": \"Drama\", \"Rating\": 7.5, \"Revenue\":\n",
        "1456000000, \"Budget\": 145000000},\n",
        "{\"MovieID\": 9, \"Title\": \"Oppenheimer\", \"Genre\": \"Drama\", \"Rating\": 8.6, \"Revenue\":\n",
        "950000000, \"Budget\": 100000000}\n",
        "]\n",
        "'''\n",
        "\n",
        "with open(\"movies_bonus.json\", \"w\") as f:\n",
        "    f.write(json_data)\n"
      ],
      "metadata": {
        "id": "vbQ3HDDfWyER"
      },
      "execution_count": 158,
      "outputs": []
    },
    {
      "cell_type": "code",
      "source": [
        "# 1. Read this JSON using PySpark.\n",
        "bonus_df = spark.read.option(\"multiline\", True).json(\"movies_bonus.json\")\n",
        "bonus_df.show()"
      ],
      "metadata": {
        "colab": {
          "base_uri": "https://localhost:8080/"
        },
        "id": "1-h5yApBXHx1",
        "outputId": "3eb69447-b550-4e53-a803-0ac815913790"
      },
      "execution_count": 159,
      "outputs": [
        {
          "output_type": "stream",
          "name": "stdout",
          "text": [
            "+---------+-----+-------+------+----------+-----------+\n",
            "|   Budget|Genre|MovieID|Rating|   Revenue|      Title|\n",
            "+---------+-----+-------+------+----------+-----------+\n",
            "|145000000|Drama|      8|   7.5|1456000000|     Barbie|\n",
            "|100000000|Drama|      9|   8.6| 950000000|Oppenheimer|\n",
            "+---------+-----+-------+------+----------+-----------+\n",
            "\n"
          ]
        }
      ]
    },
    {
      "cell_type": "code",
      "source": [
        "# 2. Union it with your original movies DataFrame.\n",
        "from pyspark.sql.functions import lit\n",
        "bonus_df = bonus_df.withColumn(\"Profit\", lit(None)).withColumn(\"ReleaseDate\", lit(None))\n",
        "# here i am using df1 which is a saved copy of df before droping budget\n",
        "merged_df = df1.unionByName(bonus_df)\n",
        "merged_df.show()"
      ],
      "metadata": {
        "colab": {
          "base_uri": "https://localhost:8080/"
        },
        "id": "KOtE835Dn8F9",
        "outputId": "6de59029-e0ca-461a-f288-afa525177059"
      },
      "execution_count": 160,
      "outputs": [
        {
          "output_type": "stream",
          "name": "stdout",
          "text": [
            "+-------+-----------------+-------+-----------+------+----------+---------+----------+\n",
            "|MovieID|            Title|  Genre|ReleaseDate|Rating|   Revenue|   Budget|    Profit|\n",
            "+-------+-----------------+-------+-----------+------+----------+---------+----------+\n",
            "|      1|        Inception| Sci-Fi| 2010-07-16|   8.8| 825532764|160000000| 665532764|\n",
            "|      2|  The Dark Knight| Action| 2008-07-18|   9.0|1004558444|185000000| 819558444|\n",
            "|      3|          Titanic|Romance| 1997-12-19|   7.8|2187463944|200000000|1987463944|\n",
            "|      4|     Interstellar| Sci-Fi| 2014-11-07|   8.6| 677471339|165000000| 512471339|\n",
            "|      5|            Joker|  Drama| 2019-10-04|   8.4|1074251311| 55000000|1019251311|\n",
            "|      6|     The Notebook|Romance| 2004-06-25|   7.9|      NULL| 29000000|      NULL|\n",
            "|      7|Avengers: Endgame| Action| 2019-04-26|   8.4|2797800564|356000000|2441800564|\n",
            "|      8|           Barbie|  Drama|       NULL|   7.5|1456000000|145000000|      NULL|\n",
            "|      9|      Oppenheimer|  Drama|       NULL|   8.6| 950000000|100000000|      NULL|\n",
            "+-------+-----------------+-------+-----------+------+----------+---------+----------+\n",
            "\n"
          ]
        }
      ]
    },
    {
      "cell_type": "code",
      "source": [
        "# i am cleaning the null values in Profit of latest added data for further use (calculating ROI)\n",
        "merged_df = merged_df.withColumn(\"Profit\", when(col(\"Profit\").isNull(), col(\"Revenue\") - col(\"Budget\")).otherwise(col(\"Profit\")))\n",
        "merged_df.show()"
      ],
      "metadata": {
        "colab": {
          "base_uri": "https://localhost:8080/"
        },
        "id": "CA1lB9Gkq3kc",
        "outputId": "0ba988cd-86e8-46a1-db98-59ae68a6f6c1"
      },
      "execution_count": 161,
      "outputs": [
        {
          "output_type": "stream",
          "name": "stdout",
          "text": [
            "+-------+-----------------+-------+-----------+------+----------+---------+----------+\n",
            "|MovieID|            Title|  Genre|ReleaseDate|Rating|   Revenue|   Budget|    Profit|\n",
            "+-------+-----------------+-------+-----------+------+----------+---------+----------+\n",
            "|      1|        Inception| Sci-Fi| 2010-07-16|   8.8| 825532764|160000000| 665532764|\n",
            "|      2|  The Dark Knight| Action| 2008-07-18|   9.0|1004558444|185000000| 819558444|\n",
            "|      3|          Titanic|Romance| 1997-12-19|   7.8|2187463944|200000000|1987463944|\n",
            "|      4|     Interstellar| Sci-Fi| 2014-11-07|   8.6| 677471339|165000000| 512471339|\n",
            "|      5|            Joker|  Drama| 2019-10-04|   8.4|1074251311| 55000000|1019251311|\n",
            "|      6|     The Notebook|Romance| 2004-06-25|   7.9|      NULL| 29000000|      NULL|\n",
            "|      7|Avengers: Endgame| Action| 2019-04-26|   8.4|2797800564|356000000|2441800564|\n",
            "|      8|           Barbie|  Drama|       NULL|   7.5|1456000000|145000000|1311000000|\n",
            "|      9|      Oppenheimer|  Drama|       NULL|   8.6| 950000000|100000000| 850000000|\n",
            "+-------+-----------------+-------+-----------+------+----------+---------+----------+\n",
            "\n"
          ]
        }
      ]
    },
    {
      "cell_type": "code",
      "source": [
        "# 3. Show top 5 highest grossing movies.\n",
        "merged_df.orderBy(col(\"Revenue\").desc()).select(\"Title\", \"Revenue\").show(5)"
      ],
      "metadata": {
        "colab": {
          "base_uri": "https://localhost:8080/"
        },
        "id": "FXTUiaJdppmV",
        "outputId": "59e2daba-e59b-4ef3-ad7b-c29885a312b2"
      },
      "execution_count": 162,
      "outputs": [
        {
          "output_type": "stream",
          "name": "stdout",
          "text": [
            "+-----------------+----------+\n",
            "|            Title|   Revenue|\n",
            "+-----------------+----------+\n",
            "|Avengers: Endgame|2797800564|\n",
            "|          Titanic|2187463944|\n",
            "|           Barbie|1456000000|\n",
            "|            Joker|1074251311|\n",
            "|  The Dark Knight|1004558444|\n",
            "+-----------------+----------+\n",
            "only showing top 5 rows\n",
            "\n"
          ]
        }
      ]
    },
    {
      "cell_type": "code",
      "source": [
        "# 4. Save final merged DataFrame as CSV.\n",
        "merged_df.write.mode(\"overwrite\").option(\"header\", True).csv(\"final_movies.csv\")"
      ],
      "metadata": {
        "id": "Sk9Aujt8p4cz"
      },
      "execution_count": 163,
      "outputs": []
    },
    {
      "cell_type": "markdown",
      "source": [
        "#Bonus:\n"
      ],
      "metadata": {
        "id": "jcyMA6r9epiL"
      }
    },
    {
      "cell_type": "code",
      "source": [
        "# Create a column ReturnOnInvestment = Profit / Budget\n",
        "merged_df = merged_df.withColumn(\"ROI\", col(\"Profit\") / col(\"Budget\"))"
      ],
      "metadata": {
        "id": "5WP5xGHGenPZ"
      },
      "execution_count": 164,
      "outputs": []
    },
    {
      "cell_type": "code",
      "source": [
        "# Show top ROI movies (minimum budget50M)\n",
        "merged_df.filter(col(\"Budget\") >= 50000000).orderBy(col(\"ROI\").desc()).select(\"Title\", \"ROI\").show()"
      ],
      "metadata": {
        "colab": {
          "base_uri": "https://localhost:8080/"
        },
        "id": "8ZE4h8Q6fN9C",
        "outputId": "fd6d9513-1023-47a9-b7c6-d51b4adcd28e"
      },
      "execution_count": 165,
      "outputs": [
        {
          "output_type": "stream",
          "name": "stdout",
          "text": [
            "+-----------------+-----------------+\n",
            "|            Title|              ROI|\n",
            "+-----------------+-----------------+\n",
            "|            Joker|18.53184201818182|\n",
            "|          Titanic|       9.93731972|\n",
            "|           Barbie|9.041379310344828|\n",
            "|      Oppenheimer|              8.5|\n",
            "|Avengers: Endgame|6.858990348314607|\n",
            "|  The Dark Knight|4.430045643243243|\n",
            "|        Inception|      4.159579775|\n",
            "|     Interstellar|3.105886903030303|\n",
            "+-----------------+-----------------+\n",
            "\n"
          ]
        }
      ]
    },
    {
      "cell_type": "code",
      "source": [
        "# Plot genre-wise ROI as a bar chart using Pandas\n",
        "pds = merged_df.select(\"Genre\", \"ROI\").toPandas()\n",
        "import matplotlib.pyplot as plt\n",
        "pds.groupby(\"Genre\")[\"ROI\"].mean().plot(kind=\"bar\", title=\"Genre-wise ROI\")\n",
        "plt.ylabel(\"ROI\")\n",
        "plt.show()"
      ],
      "metadata": {
        "colab": {
          "base_uri": "https://localhost:8080/",
          "height": 522
        },
        "id": "HMWdUsJcfXzS",
        "outputId": "fdc70b1a-f38b-4e38-a456-edc6dee30b29"
      },
      "execution_count": 166,
      "outputs": [
        {
          "output_type": "display_data",
          "data": {
            "text/plain": [
              "<Figure size 640x480 with 1 Axes>"
            ],
            "image/png": "[encoded data removed]"
          },
          "metadata": {}
        }
      ]
    }
  ]
}