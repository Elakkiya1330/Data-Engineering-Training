{
  "nbformat": 4,
  "nbformat_minor": 0,
  "metadata": {
    "colab": {
      "provenance": []
    },
    "kernelspec": {
      "name": "python3",
      "display_name": "Python 3"
    },
    "language_info": {
      "name": "python"
    }
  },
  "cells": [
    {
      "cell_type": "code",
      "source": [
        "from pyspark.sql import SparkSession"
      ],
      "metadata": {
        "id": "aSSMfTEcx1er"
      },
      "execution_count": 4,
      "outputs": []
    },
    {
      "cell_type": "code",
      "source": [
        "spark = SparkSession.builder\\\n",
        ".appName('pysparkbasics')\\\n",
        ".getOrCreate()\n",
        "spark"
      ],
      "metadata": {
        "colab": {
          "base_uri": "https://localhost:8080/",
          "height": 219
        },
        "id": "seySTmM5yAiF",
        "outputId": "a86836bf-fc09-4a42-f368-78de92564b8d"
      },
      "execution_count": 5,
      "outputs": [
        {
          "output_type": "execute_result",
          "data": {
            "text/plain": [
              "<pyspark.sql.session.SparkSession at 0x79446dc5f610>"
            ],
            "text/html": [
              "\n",
              "            <div>\n",
              "                <p><b>SparkSession - in-memory</b></p>\n",
              "                \n",
              "        <div>\n",
              "            <p><b>SparkContext</b></p>\n",
              "\n",
              "            <p><a href=\"http://e0f86eea29d5:4040\">Spark UI</a></p>\n",
              "\n",
              "            <dl>\n",
              "              <dt>Version</dt>\n",
              "                <dd><code>v3.5.1</code></dd>\n",
              "              <dt>Master</dt>\n",
              "                <dd><code>local[*]</code></dd>\n",
              "              <dt>AppName</dt>\n",
              "                <dd><code>pysparkbasics</code></dd>\n",
              "            </dl>\n",
              "        </div>\n",
              "        \n",
              "            </div>\n",
              "        "
            ]
          },
          "metadata": {},
          "execution_count": 5
        }
      ]
    },
    {
      "cell_type": "code",
      "source": [
        "data = [('Elakkiya',21),('Harish',22)]\n",
        "columns = ['Name','Age']\n",
        "df = spark.createDataFrame(data,columns)\n",
        "df.show()"
      ],
      "metadata": {
        "colab": {
          "base_uri": "https://localhost:8080/"
        },
        "id": "ew7TcWQOym_9",
        "outputId": "a8fff610-b971-41f6-ab85-bce5c345e49a"
      },
      "execution_count": 6,
      "outputs": [
        {
          "output_type": "stream",
          "name": "stdout",
          "text": [
            "+--------+---+\n",
            "|    Name|Age|\n",
            "+--------+---+\n",
            "|Elakkiya| 21|\n",
            "|  Harish| 22|\n",
            "+--------+---+\n",
            "\n"
          ]
        }
      ]
    },
    {
      "cell_type": "code",
      "source": [
        "csv_data = \"\"\"Name,Age,Department,Salary\n",
        "Aarav,28,Sales,50000\n",
        "Sneha,,Engineering,80000\n",
        "Kabir,25,HR,\n",
        "Anaya,29,,60000\n",
        "Rohan,35,Engineering,85000\n",
        "\"\"\"\n",
        "\n",
        "with open('employees_missing.csv', 'w') as f:\n",
        "  f.write(csv_data)\n",
        "\n",
        "df = spark.read.csv('employees.csv', header= True, inferSchema= True)\n",
        "df.show()\n",
        "df.printSchema()"
      ],
      "metadata": {
        "colab": {
          "base_uri": "https://localhost:8080/"
        },
        "id": "ulas9ryF2yM7",
        "outputId": "cf610514-5e4f-400b-d0ce-e2d543f516ec"
      },
      "execution_count": 9,
      "outputs": [
        {
          "output_type": "stream",
          "name": "stdout",
          "text": [
            "+-----+-----+-----------+\n",
            "|EmpID| Name| Department|\n",
            "+-----+-----+-----------+\n",
            "|  101| Amit|      Sales|\n",
            "|  102|Anita|Engineering|\n",
            "|  103|Kabir|         HR|\n",
            "|  104|Sneha|  Marketing|\n",
            "|  105| Ravi|Engineering|\n",
            "+-----+-----+-----------+\n",
            "\n",
            "root\n",
            " |-- EmpID: integer (nullable = true)\n",
            " |-- Name: string (nullable = true)\n",
            " |-- Department: string (nullable = true)\n",
            "\n"
          ]
        }
      ]
    }
  ]
}