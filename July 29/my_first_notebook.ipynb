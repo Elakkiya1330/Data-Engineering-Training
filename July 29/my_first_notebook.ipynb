{
  "nbformat": 4,
  "nbformat_minor": 0,
  "metadata": {
    "colab": {
      "provenance": []
    },
    "kernelspec": {
      "name": "python3",
      "display_name": "Python 3"
    },
    "language_info": {
      "name": "python"
    }
  },
  "cells": [
    {
      "cell_type": "markdown",
      "source": [
        "# My first notebook\n",
        "This notebook prints a greeting using variable"
      ],
      "metadata": {
        "id": "8Aqfr8bn_w4t"
      }
    },
    {
      "cell_type": "code",
      "execution_count": 25,
      "metadata": {
        "colab": {
          "base_uri": "https://localhost:8080/"
        },
        "id": "Adm8thMb9AD_",
        "outputId": "3beab7e1-f450-4a81-ec18-3b8297776f28"
      },
      "outputs": [
        {
          "output_type": "stream",
          "name": "stdout",
          "text": [
            "Hello Elakkiya\n"
          ]
        }
      ],
      "source": [
        "name = \"Elakkiya\"\n",
        "print(\"Hello\", name)"
      ]
    },
    {
      "cell_type": "code",
      "source": [
        "length = 10\n",
        "width = 5\n",
        "area = length * width\n",
        "print(\"Area of the rectance is \",area)"
      ],
      "metadata": {
        "colab": {
          "base_uri": "https://localhost:8080/"
        },
        "id": "_t1OqOmnBR1P",
        "outputId": "1a690787-62bb-495a-9cc9-7586fc16af67"
      },
      "execution_count": 26,
      "outputs": [
        {
          "output_type": "stream",
          "name": "stdout",
          "text": [
            "Area of the rectance is  50\n"
          ]
        }
      ]
    },
    {
      "cell_type": "code",
      "source": [
        "import pandas as pd\n",
        "data = {\n",
        "    'Name': ['Raj', 'Priya', 'Amit'],\n",
        "    'Age': [25, 30, 22],\n",
        "    'City': ['Delhi', 'Mumbai', 'Bangalore']\n",
        "}\n",
        "df = pd.DataFrame(data)\n",
        "print(df)"
      ],
      "metadata": {
        "colab": {
          "base_uri": "https://localhost:8080/"
        },
        "id": "cUNkmxcnCeGi",
        "outputId": "7605488a-8b29-4055-9e6d-6e36c4bcc4a7"
      },
      "execution_count": 27,
      "outputs": [
        {
          "output_type": "stream",
          "name": "stdout",
          "text": [
            "    Name  Age       City\n",
            "0    Raj   25      Delhi\n",
            "1  Priya   30     Mumbai\n",
            "2   Amit   22  Bangalore\n"
          ]
        }
      ]
    },
    {
      "cell_type": "code",
      "source": [
        "print(df['Name'])"
      ],
      "metadata": {
        "colab": {
          "base_uri": "https://localhost:8080/"
        },
        "id": "69zt2VoHZx-9",
        "outputId": "14bf1bb5-8b7f-40af-945b-ea2ad9838640"
      },
      "execution_count": 28,
      "outputs": [
        {
          "output_type": "stream",
          "name": "stdout",
          "text": [
            "0      Raj\n",
            "1    Priya\n",
            "2     Amit\n",
            "Name: Name, dtype: object\n"
          ]
        }
      ]
    },
    {
      "cell_type": "code",
      "source": [
        "print(df.columns) #list the columns"
      ],
      "metadata": {
        "colab": {
          "base_uri": "https://localhost:8080/"
        },
        "id": "MTLf8ryjaYi5",
        "outputId": "9442aeb6-5270-4234-d1f0-e268050c00b7"
      },
      "execution_count": 29,
      "outputs": [
        {
          "output_type": "stream",
          "name": "stdout",
          "text": [
            "Index(['Name', 'Age', 'City'], dtype='object')\n"
          ]
        }
      ]
    },
    {
      "cell_type": "code",
      "source": [
        "print(df.shape) #rows,columns"
      ],
      "metadata": {
        "colab": {
          "base_uri": "https://localhost:8080/"
        },
        "id": "RWgrUnj3aYXm",
        "outputId": "30e8ea90-c3a6-463a-bb98-137ba667ab09"
      },
      "execution_count": 30,
      "outputs": [
        {
          "output_type": "stream",
          "name": "stdout",
          "text": [
            "(3, 3)\n"
          ]
        }
      ]
    },
    {
      "cell_type": "code",
      "source": [
        "print(df.info()) #data types and memory usage"
      ],
      "metadata": {
        "colab": {
          "base_uri": "https://localhost:8080/"
        },
        "id": "Jh_SQbLjaYIB",
        "outputId": "2b8035d9-071d-4997-a33b-84d3117783af"
      },
      "execution_count": 31,
      "outputs": [
        {
          "output_type": "stream",
          "name": "stdout",
          "text": [
            "<class 'pandas.core.frame.DataFrame'>\n",
            "RangeIndex: 3 entries, 0 to 2\n",
            "Data columns (total 3 columns):\n",
            " #   Column  Non-Null Count  Dtype \n",
            "---  ------  --------------  ----- \n",
            " 0   Name    3 non-null      object\n",
            " 1   Age     3 non-null      int64 \n",
            " 2   City    3 non-null      object\n",
            "dtypes: int64(1), object(2)\n",
            "memory usage: 204.0+ bytes\n",
            "None\n"
          ]
        }
      ]
    },
    {
      "cell_type": "code",
      "source": [
        "print(df.describe()) #perform all these fun like count,mean,max,min... on numeric column"
      ],
      "metadata": {
        "colab": {
          "base_uri": "https://localhost:8080/"
        },
        "id": "mZ4DZQL4aqDN",
        "outputId": "985e3d0c-3343-4616-acd9-9ca537fe61b5"
      },
      "execution_count": 32,
      "outputs": [
        {
          "output_type": "stream",
          "name": "stdout",
          "text": [
            "             Age\n",
            "count   3.000000\n",
            "mean   25.666667\n",
            "std     4.041452\n",
            "min    22.000000\n",
            "25%    23.500000\n",
            "50%    25.000000\n",
            "75%    27.500000\n",
            "max    30.000000\n"
          ]
        }
      ]
    },
    {
      "cell_type": "code",
      "source": [
        "# Create a CSV in Colab using file I/O\n",
        "csv_data = \"\"\"Name,Age,Department,Salary\n",
        "Aarav,28,Sales,50000\n",
        "Sneha,32,Engineering,80000\n",
        "Kabir,25,HR,45000\n",
        "Anaya,29,Marketing,60000\n",
        "Rohan,35,Engineering,85000\n",
        "\"\"\"\n",
        "\n",
        "with open('employees.csv', 'w') as f:\n",
        "  f.write(csv_data)"
      ],
      "metadata": {
        "id": "fn_-_goebMLb"
      },
      "execution_count": 33,
      "outputs": []
    },
    {
      "cell_type": "code",
      "source": [
        "df = pd.read_csv('employees.csv')\n",
        "print(df)"
      ],
      "metadata": {
        "colab": {
          "base_uri": "https://localhost:8080/"
        },
        "id": "oUUzG_RUfaEf",
        "outputId": "0dbec803-9e7d-4ffb-8e74-bac40283ff67"
      },
      "execution_count": 34,
      "outputs": [
        {
          "output_type": "stream",
          "name": "stdout",
          "text": [
            "    Name  Age   Department  Salary\n",
            "0  Aarav   28        Sales   50000\n",
            "1  Sneha   32  Engineering   80000\n",
            "2  Kabir   25           HR   45000\n",
            "3  Anaya   29    Marketing   60000\n",
            "4  Rohan   35  Engineering   85000\n"
          ]
        }
      ]
    },
    {
      "cell_type": "code",
      "source": [
        "engg_employees = df[df['Department']=='Engineering']\n",
        "print(engg_employees)"
      ],
      "metadata": {
        "colab": {
          "base_uri": "https://localhost:8080/"
        },
        "id": "xsv8xMMNf0S5",
        "outputId": "6b38cca1-cc25-4f6d-8007-5446a7f0d9cc"
      },
      "execution_count": 35,
      "outputs": [
        {
          "output_type": "stream",
          "name": "stdout",
          "text": [
            "    Name  Age   Department  Salary\n",
            "1  Sneha   32  Engineering   80000\n",
            "4  Rohan   35  Engineering   85000\n"
          ]
        }
      ]
    },
    {
      "cell_type": "code",
      "source": [
        "print(\"Average salary: \",df['Salary'].mean())"
      ],
      "metadata": {
        "colab": {
          "base_uri": "https://localhost:8080/"
        },
        "id": "mA0aYnH2iD8S",
        "outputId": "bf92b20b-0266-48a3-c5d2-3de4b226e805"
      },
      "execution_count": 36,
      "outputs": [
        {
          "output_type": "stream",
          "name": "stdout",
          "text": [
            "Average salary:  64000.0\n"
          ]
        }
      ]
    },
    {
      "cell_type": "code",
      "source": [
        "print(\"Highest paid employee:\\n\",df[df['Salary']==df['Salary'].max()])"
      ],
      "metadata": {
        "colab": {
          "base_uri": "https://localhost:8080/"
        },
        "id": "8Azqx4fYiXrS",
        "outputId": "c76a4ba2-62b2-4a13-bb0b-9de02a76f961"
      },
      "execution_count": 37,
      "outputs": [
        {
          "output_type": "stream",
          "name": "stdout",
          "text": [
            "Highest paid employee:\n",
            "     Name  Age   Department  Salary\n",
            "4  Rohan   35  Engineering   85000\n"
          ]
        }
      ]
    },
    {
      "cell_type": "code",
      "source": [
        "avg_salary_by_dept = df.groupby('Department')['Salary'].mean()\n",
        "print(avg_salary_by_dept)"
      ],
      "metadata": {
        "colab": {
          "base_uri": "https://localhost:8080/"
        },
        "id": "A4gQLbIIi6V9",
        "outputId": "754e10cb-61ad-4c84-d0da-326444c0c8ae"
      },
      "execution_count": 38,
      "outputs": [
        {
          "output_type": "stream",
          "name": "stdout",
          "text": [
            "Department\n",
            "Engineering    82500.0\n",
            "HR             45000.0\n",
            "Marketing      60000.0\n",
            "Sales          50000.0\n",
            "Name: Salary, dtype: float64\n"
          ]
        }
      ]
    },
    {
      "cell_type": "code",
      "source": [
        "sorted_by_age = df.sort_values(by='Age')\n",
        "print(sorted_by_age)"
      ],
      "metadata": {
        "colab": {
          "base_uri": "https://localhost:8080/"
        },
        "id": "Qs9tiHmzlwJM",
        "outputId": "72477da1-d9aa-427c-95cf-a49f8a1fc923"
      },
      "execution_count": 39,
      "outputs": [
        {
          "output_type": "stream",
          "name": "stdout",
          "text": [
            "    Name  Age   Department  Salary\n",
            "2  Kabir   25           HR   45000\n",
            "0  Aarav   28        Sales   50000\n",
            "3  Anaya   29    Marketing   60000\n",
            "1  Sneha   32  Engineering   80000\n",
            "4  Rohan   35  Engineering   85000\n"
          ]
        }
      ]
    },
    {
      "cell_type": "code",
      "source": [
        "import matplotlib.pyplot as plt\n",
        "plt.figure(figsize=(8,5))\n",
        "plt.bar(df['Name'],df['Salary'],color = 'cyan')\n",
        "plt.xlabel('Name')\n",
        "plt.ylabel('Salary')\n",
        "plt.title('employees salary')\n",
        "plt.xticks(rotation = 45)\n",
        "plt.grid(True)\n",
        "plt.tight_layout()\n",
        "plt.show()"
      ],
      "metadata": {
        "colab": {
          "base_uri": "https://localhost:8080/",
          "height": 507
        },
        "id": "K7WT1zYVmHwz",
        "outputId": "f2579689-9e18-4d04-eddc-84411aa73e1b"
      },
      "execution_count": 44,
      "outputs": [
        {
          "output_type": "display_data",
          "data": {
            "text/plain": [
              "<Figure size 800x500 with 1 Axes>"
            ],
            "image/png": "[encoded data removed]"
          },
          "metadata": {}
        }
      ]
    }
  ]
}