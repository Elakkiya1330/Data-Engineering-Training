{
  "nbformat": 4,
  "nbformat_minor": 0,
  "metadata": {
    "colab": {
      "provenance": []
    },
    "kernelspec": {
      "name": "python3",
      "display_name": "Python 3"
    },
    "language_info": {
      "name": "python"
    }
  },
  "cells": [
    {
      "cell_type": "code",
      "execution_count": 32,
      "metadata": {
        "colab": {
          "base_uri": "https://localhost:8080/"
        },
        "id": "OV_1Hg_c10sD",
        "outputId": "643dc5cd-4aa7-48dc-ea53-3035adbe6082"
      },
      "outputs": [
        {
          "output_type": "stream",
          "name": "stdout",
          "text": [
            "Requirement already satisfied: pyspark==3.5.0 in /usr/local/lib/python3.11/dist-packages (3.5.0)\n",
            "Requirement already satisfied: delta-spark==3.1.0 in /usr/local/lib/python3.11/dist-packages (3.1.0)\n",
            "Requirement already satisfied: py4j==0.10.9.7 in /usr/local/lib/python3.11/dist-packages (from pyspark==3.5.0) (0.10.9.7)\n",
            "Requirement already satisfied: importlib-metadata>=1.0.0 in /usr/local/lib/python3.11/dist-packages (from delta-spark==3.1.0) (8.7.0)\n",
            "Requirement already satisfied: zipp>=3.20 in /usr/local/lib/python3.11/dist-packages (from importlib-metadata>=1.0.0->delta-spark==3.1.0) (3.23.0)\n"
          ]
        }
      ],
      "source": [
        "!pip install pyspark==3.5.0 delta-spark==3.1.0\n",
        "from pyspark.sql import SparkSession\n",
        "from delta import configure_spark_with_delta_pip\n",
        "builder = (\n",
        "SparkSession.builder.appName(\"DeltaDemo\")\n",
        ".config(\"spark.sql.extensions\", \"io.delta.sql.DeltaSparkSessionExtension\")\n",
        ".config(\"spark.sql.catalog.spark_catalog\",\n",
        "\"org.apache.spark.sql.delta.catalog.DeltaCatalog\")\n",
        ")\n",
        "spark = configure_spark_with_delta_pip(builder).getOrCreate()\n",
        "# Create sample DataFrame\n",
        "data = [\n",
        "(1, \"John\", \"Electronics\", 2, 300),\n",
        "(2, \"Sara\", \"Clothing\", 1, 50),\n",
        "(3, \"Mike\", \"Electronics\", 4, 600),\n",
        "(4, \"Nina\", \"Clothing\", 3, 150),\n",
        "]\n",
        "columns = [\"order_id\", \"customer_name\", \"category\", \"quantity\", \"amount\"]\n",
        "df = spark.createDataFrame(data, columns)\n",
        "# Save as Delta table\n",
        "df.write.format(\"delta\").mode(\"overwrite\").save(\"/tmp/orders_delta\")"
      ]
    },
    {
      "cell_type": "code",
      "source": [
        "df.show()"
      ],
      "metadata": {
        "colab": {
          "base_uri": "https://localhost:8080/"
        },
        "id": "p88o9heS2Zti",
        "outputId": "a48f70b0-9c0d-4bcf-c5ee-e77d7adb2085"
      },
      "execution_count": 33,
      "outputs": [
        {
          "output_type": "stream",
          "name": "stdout",
          "text": [
            "+--------+-------------+-----------+--------+------+\n",
            "|order_id|customer_name|   category|quantity|amount|\n",
            "+--------+-------------+-----------+--------+------+\n",
            "|       1|         John|Electronics|       2|   300|\n",
            "|       2|         Sara|   Clothing|       1|    50|\n",
            "|       3|         Mike|Electronics|       4|   600|\n",
            "|       4|         Nina|   Clothing|       3|   150|\n",
            "+--------+-------------+-----------+--------+------+\n",
            "\n"
          ]
        }
      ]
    },
    {
      "cell_type": "markdown",
      "source": [
        "#1. Managed vs Unmanaged Tables"
      ],
      "metadata": {
        "id": "VxgRb-1d2kHB"
      }
    },
    {
      "cell_type": "code",
      "source": [
        "# Create a managed table orders_managed from /tmp/orders_delta\n",
        "spark.sql(\"create table orders_managed using delta location '/tmp/orders_delta'\")\n",
        "# Create an unmanaged table orders_unmanaged pointing to the same location\n",
        "spark.sql(\"create table orders_unmanaged using delta location '/tmp/orders_delta'\")"
      ],
      "metadata": {
        "colab": {
          "base_uri": "https://localhost:8080/"
        },
        "id": "wLWtxXv42gvw",
        "outputId": "e81431e4-77fe-401d-b081-4815b831680c"
      },
      "execution_count": 34,
      "outputs": [
        {
          "output_type": "execute_result",
          "data": {
            "text/plain": [
              "DataFrame[]"
            ]
          },
          "metadata": {},
          "execution_count": 34
        }
      ]
    },
    {
      "cell_type": "markdown",
      "source": [
        "#2. CRUD Operations"
      ],
      "metadata": {
        "id": "LRsVWJli21HM"
      }
    },
    {
      "cell_type": "code",
      "source": [
        "# Read from the table\n",
        "spark.sql('select * from orders_managed').show()"
      ],
      "metadata": {
        "colab": {
          "base_uri": "https://localhost:8080/"
        },
        "id": "SISkfvXh4eRC",
        "outputId": "4d3ed2ee-6d3c-4bb9-f2a5-9b88030f3041"
      },
      "execution_count": 35,
      "outputs": [
        {
          "output_type": "stream",
          "name": "stdout",
          "text": [
            "+--------+-------------+-----------+--------+------+\n",
            "|order_id|customer_name|   category|quantity|amount|\n",
            "+--------+-------------+-----------+--------+------+\n",
            "|       3|         Mike|Electronics|       4|   600|\n",
            "|       4|         Nina|   Clothing|       3|   150|\n",
            "|       1|         John|Electronics|       2|   300|\n",
            "|       2|         Sara|   Clothing|       1|    50|\n",
            "+--------+-------------+-----------+--------+------+\n",
            "\n"
          ]
        }
      ]
    },
    {
      "cell_type": "code",
      "source": [
        "# Update all \"Clothing\" category orders to have amount = amount + 20\n",
        "spark.sql(\"update orders_managed set amount = amount + 20 where category = 'Clothing'\")\n",
        "spark.sql('select * from orders_managed').show()"
      ],
      "metadata": {
        "colab": {
          "base_uri": "https://localhost:8080/"
        },
        "id": "Gx7p2DHm5JzG",
        "outputId": "a8a28dee-c76d-45cc-a957-ce46df8b0abe"
      },
      "execution_count": 36,
      "outputs": [
        {
          "output_type": "stream",
          "name": "stdout",
          "text": [
            "+--------+-------------+-----------+--------+------+\n",
            "|order_id|customer_name|   category|quantity|amount|\n",
            "+--------+-------------+-----------+--------+------+\n",
            "|       3|         Mike|Electronics|       4|   600|\n",
            "|       4|         Nina|   Clothing|       3|   170|\n",
            "|       1|         John|Electronics|       2|   300|\n",
            "|       2|         Sara|   Clothing|       1|    70|\n",
            "+--------+-------------+-----------+--------+------+\n",
            "\n"
          ]
        }
      ]
    },
    {
      "cell_type": "code",
      "source": [
        "# Delete all orders with quantity < 2\n",
        "spark.sql(\"delete from orders_managed where quantity < 2\")\n",
        "spark.sql('select * from orders_managed').show()"
      ],
      "metadata": {
        "colab": {
          "base_uri": "https://localhost:8080/"
        },
        "id": "xDY1CDpT3DQm",
        "outputId": "1f1fcfea-c40e-4362-8f9f-9721ad434921"
      },
      "execution_count": 37,
      "outputs": [
        {
          "output_type": "stream",
          "name": "stdout",
          "text": [
            "+--------+-------------+-----------+--------+------+\n",
            "|order_id|customer_name|   category|quantity|amount|\n",
            "+--------+-------------+-----------+--------+------+\n",
            "|       1|         John|Electronics|       2|   300|\n",
            "|       3|         Mike|Electronics|       4|   600|\n",
            "|       4|         Nina|   Clothing|       3|   170|\n",
            "+--------+-------------+-----------+--------+------+\n",
            "\n"
          ]
        }
      ]
    },
    {
      "cell_type": "code",
      "source": [
        "# Merge in a new dataset (new orders & updated orders)\n",
        "# here new data is orderid 2 Elakkiya and the updation is orderid 3\n",
        "new_data = [(2,\"Elakkiya\",\"Electronics\",4,650),(3,\"Mike\",\"Electronics\",4,700)]\n",
        "spark.createDataFrame(new_data, columns).createOrReplaceTempView(\"new_orders\")\n",
        "spark.sql(\"merge into orders_managed as t using new_orders as s on t.order_id = s.order_id when matched then update set * when not matched then insert *\")\n"
      ],
      "metadata": {
        "colab": {
          "base_uri": "https://localhost:8080/"
        },
        "id": "x3Nzyhe95a6Y",
        "outputId": "aabadab7-0a33-49dd-b1d6-697466bf70a3"
      },
      "execution_count": 38,
      "outputs": [
        {
          "output_type": "execute_result",
          "data": {
            "text/plain": [
              "DataFrame[num_affected_rows: bigint, num_updated_rows: bigint, num_deleted_rows: bigint, num_inserted_rows: bigint]"
            ]
          },
          "metadata": {},
          "execution_count": 38
        }
      ]
    },
    {
      "cell_type": "code",
      "source": [
        "spark.sql('select * from orders_managed').show()"
      ],
      "metadata": {
        "colab": {
          "base_uri": "https://localhost:8080/"
        },
        "id": "zOIYAeAo55E0",
        "outputId": "9e1cf6d7-0dcf-4a81-8e49-dd11f6d26619"
      },
      "execution_count": 39,
      "outputs": [
        {
          "output_type": "stream",
          "name": "stdout",
          "text": [
            "+--------+-------------+-----------+--------+------+\n",
            "|order_id|customer_name|   category|quantity|amount|\n",
            "+--------+-------------+-----------+--------+------+\n",
            "|       2|     Elakkiya|Electronics|       4|   650|\n",
            "|       3|         Mike|Electronics|       4|   700|\n",
            "|       4|         Nina|   Clothing|       3|   170|\n",
            "|       1|         John|Electronics|       2|   300|\n",
            "+--------+-------------+-----------+--------+------+\n",
            "\n"
          ]
        }
      ]
    },
    {
      "cell_type": "markdown",
      "source": [
        "#3. History & Time Travel"
      ],
      "metadata": {
        "id": "SGF7aeyl6BMU"
      }
    },
    {
      "cell_type": "code",
      "source": [
        "# Use DESCRIBE HISTORY to check previous versions\n",
        "spark.sql('describe history orders_managed').show()"
      ],
      "metadata": {
        "colab": {
          "base_uri": "https://localhost:8080/"
        },
        "id": "dYx3DH-P58Am",
        "outputId": "4b26ae21-bf5a-4494-b14e-2d4d47fde294"
      },
      "execution_count": 40,
      "outputs": [
        {
          "output_type": "stream",
          "name": "stdout",
          "text": [
            "+-------+--------------------+------+--------+---------+--------------------+----+--------+---------+-----------+--------------+-------------+--------------------+------------+--------------------+\n",
            "|version|           timestamp|userId|userName|operation| operationParameters| job|notebook|clusterId|readVersion|isolationLevel|isBlindAppend|    operationMetrics|userMetadata|          engineInfo|\n",
            "+-------+--------------------+------+--------+---------+--------------------+----+--------+---------+-----------+--------------+-------------+--------------------+------------+--------------------+\n",
            "|     11|2025-08-14 04:56:...|  NULL|    NULL|    MERGE|{predicate -> [\"(...|NULL|    NULL|     NULL|         10|  Serializable|        false|{numTargetRowsCop...|        NULL|Apache-Spark/3.5....|\n",
            "|     10|2025-08-14 04:54:...|  NULL|    NULL|   DELETE|{predicate -> [\"(...|NULL|    NULL|     NULL|          9|  Serializable|        false|{numRemovedFiles ...|        NULL|Apache-Spark/3.5....|\n",
            "|      9|2025-08-14 04:53:...|  NULL|    NULL|   UPDATE|{predicate -> [\"(...|NULL|    NULL|     NULL|          8|  Serializable|        false|{numRemovedFiles ...|        NULL|Apache-Spark/3.5....|\n",
            "|      8|2025-08-14 04:53:...|  NULL|    NULL|    WRITE|{mode -> Overwrit...|NULL|    NULL|     NULL|          7|  Serializable|        false|{numFiles -> 2, n...|        NULL|Apache-Spark/3.5....|\n",
            "|      7|2025-08-14 04:47:...|  NULL|    NULL|    MERGE|{predicate -> [\"(...|NULL|    NULL|     NULL|          6|  Serializable|        false|{numTargetRowsCop...|        NULL|Apache-Spark/3.5....|\n",
            "|      6|2025-08-14 04:45:...|  NULL|    NULL|   DELETE|{predicate -> [\"(...|NULL|    NULL|     NULL|          5|  Serializable|        false|{numRemovedFiles ...|        NULL|Apache-Spark/3.5....|\n",
            "|      5|2025-08-14 04:44:...|  NULL|    NULL|   UPDATE|{predicate -> [\"(...|NULL|    NULL|     NULL|          4|  Serializable|        false|{numRemovedFiles ...|        NULL|Apache-Spark/3.5....|\n",
            "|      4|2025-08-14 04:41:...|  NULL|    NULL|    WRITE|{mode -> Overwrit...|NULL|    NULL|     NULL|          3|  Serializable|        false|{numFiles -> 2, n...|        NULL|Apache-Spark/3.5....|\n",
            "|      3|2025-08-14 04:36:...|  NULL|    NULL|   UPDATE|{predicate -> [\"(...|NULL|    NULL|     NULL|          2|  Serializable|        false|{numRemovedFiles ...|        NULL|Apache-Spark/3.5....|\n",
            "|      2|2025-08-14 04:35:...|  NULL|    NULL|   UPDATE|{predicate -> [\"(...|NULL|    NULL|     NULL|          1|  Serializable|        false|{numRemovedFiles ...|        NULL|Apache-Spark/3.5....|\n",
            "|      1|2025-08-14 04:35:...|  NULL|    NULL|   UPDATE|{predicate -> [\"(...|NULL|    NULL|     NULL|          0|  Serializable|        false|{numRemovedFiles ...|        NULL|Apache-Spark/3.5....|\n",
            "|      0|2025-08-14 04:31:...|  NULL|    NULL|    WRITE|{mode -> Overwrit...|NULL|    NULL|     NULL|       NULL|  Serializable|        false|{numFiles -> 2, n...|        NULL|Apache-Spark/3.5....|\n",
            "+-------+--------------------+------+--------+---------+--------------------+----+--------+---------+-----------+--------------+-------------+--------------------+------------+--------------------+\n",
            "\n"
          ]
        }
      ]
    },
    {
      "cell_type": "code",
      "source": [
        "# Read data from version 0 and compare with the latest version\n",
        "print(\"version 0: \")\n",
        "spark.read.format(\"delta\").option(\"versionAsOf\",0).load(\"/tmp/orders_delta\").show()\n",
        "print(\"latest version: \")\n",
        "spark.sql(\"select * from orders_managed\").show()"
      ],
      "metadata": {
        "colab": {
          "base_uri": "https://localhost:8080/"
        },
        "id": "KQMiEHeG6J3d",
        "outputId": "7ab3aec4-5d63-430e-a389-2c5f0eb6eca4"
      },
      "execution_count": 41,
      "outputs": [
        {
          "output_type": "stream",
          "name": "stdout",
          "text": [
            "version 0: \n",
            "+--------+-------------+-----------+--------+------+\n",
            "|order_id|customer_name|   category|quantity|amount|\n",
            "+--------+-------------+-----------+--------+------+\n",
            "|       3|         Mike|Electronics|       4|   600|\n",
            "|       4|         Nina|   Clothing|       3|   150|\n",
            "|       1|         John|Electronics|       2|   300|\n",
            "|       2|         Sara|   Clothing|       1|    50|\n",
            "+--------+-------------+-----------+--------+------+\n",
            "\n",
            "latest version: \n",
            "+--------+-------------+-----------+--------+------+\n",
            "|order_id|customer_name|   category|quantity|amount|\n",
            "+--------+-------------+-----------+--------+------+\n",
            "|       2|     Elakkiya|Electronics|       4|   650|\n",
            "|       3|         Mike|Electronics|       4|   700|\n",
            "|       4|         Nina|   Clothing|       3|   170|\n",
            "|       1|         John|Electronics|       2|   300|\n",
            "+--------+-------------+-----------+--------+------+\n",
            "\n"
          ]
        }
      ]
    },
    {
      "cell_type": "markdown",
      "source": [
        "#4. Incremental Load Pattern"
      ],
      "metadata": {
        "id": "um9FzhUu6k_J"
      }
    },
    {
      "cell_type": "code",
      "source": [
        "# Create a new mini-batch with only new orders (IDs 5 & 6)\n",
        "# Append to the Delta table\n",
        "# Show final result\n",
        "new_data = [(5,\"Harish\",\"Clothing\",1,500),(6,\"Kashifa\",\"Electronics\",3,450)]\n",
        "spark.createDataFrame(new_data, columns).write.format(\"delta\").mode(\"append\").save(\"/tmp/orders_delta\")\n",
        "spark.read.format(\"delta\").load(\"/tmp/orders_delta\").show()"
      ],
      "metadata": {
        "colab": {
          "base_uri": "https://localhost:8080/"
        },
        "id": "U-rbthbD6jZg",
        "outputId": "de554767-1f39-434f-ff5f-5f12cd18909d"
      },
      "execution_count": 42,
      "outputs": [
        {
          "output_type": "stream",
          "name": "stdout",
          "text": [
            "+--------+-------------+-----------+--------+------+\n",
            "|order_id|customer_name|   category|quantity|amount|\n",
            "+--------+-------------+-----------+--------+------+\n",
            "|       2|     Elakkiya|Electronics|       4|   650|\n",
            "|       3|         Mike|Electronics|       4|   700|\n",
            "|       4|         Nina|   Clothing|       3|   170|\n",
            "|       6|      Kashifa|Electronics|       3|   450|\n",
            "|       1|         John|Electronics|       2|   300|\n",
            "|       5|       Harish|   Clothing|       1|   500|\n",
            "+--------+-------------+-----------+--------+------+\n",
            "\n"
          ]
        }
      ]
    },
    {
      "cell_type": "markdown",
      "source": [
        "#5. Simple Streaming Read"
      ],
      "metadata": {
        "id": "R753IFn08xY9"
      }
    },
    {
      "cell_type": "code",
      "source": [
        "stream_df = spark.readStream.format(\"delta\").load(\"/tmp/orders_delta\")\n",
        "query = stream_df.writeStream.format(\"console\").outputMode(\"append\").trigger(processingTime=\"5 seconds\").start()"
      ],
      "metadata": {
        "id": "XrBDR7HK8olr"
      },
      "execution_count": 56,
      "outputs": []
    },
    {
      "cell_type": "markdown",
      "source": [
        "#6. Visualization"
      ],
      "metadata": {
        "id": "KI4GmtfXAahN"
      }
    },
    {
      "cell_type": "code",
      "source": [
        "# Read Delta table into Pandas\n",
        "# Create a bar chart of category vs total amount\n",
        "import pandas as pd\n",
        "import matplotlib.pyplot as plt\n",
        "pdf = spark.read.format(\"delta\").load(\"/tmp/orders_delta\").toPandas()\n",
        "pdf.groupby(\"category\")[\"amount\"].sum().plot(kind=\"barh\", color=\"skyblue\")\n",
        "plt.title(\"category vs total amount\")\n",
        "plt.xlabel(\"total amount\")\n",
        "plt.show()"
      ],
      "metadata": {
        "colab": {
          "base_uri": "https://localhost:8080/",
          "height": 472
        },
        "id": "vtYcaycKAeLX",
        "outputId": "7c376666-fce1-4408-f336-c0fad24a106c"
      },
      "execution_count": 66,
      "outputs": [
        {
          "output_type": "display_data",
          "data": {
            "text/plain": [
              "<Figure size 640x480 with 1 Axes>"
            ],
            "image/png": "[encoded data removed]"
          },
          "metadata": {}
        }
      ]
    }
  ]
}