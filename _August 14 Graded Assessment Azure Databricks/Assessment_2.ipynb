{
  "nbformat": 4,
  "nbformat_minor": 0,
  "metadata": {
    "colab": {
      "provenance": []
    },
    "kernelspec": {
      "name": "python3",
      "display_name": "Python 3"
    },
    "language_info": {
      "name": "python"
    }
  },
  "cells": [
    {
      "cell_type": "code",
      "execution_count": 7,
      "metadata": {
        "colab": {
          "base_uri": "https://localhost:8080/"
        },
        "id": "cx8zCAaoE6MC",
        "outputId": "7d39ccb8-501d-4f2e-dfd9-dd9a1bacc9f6"
      },
      "outputs": [
        {
          "output_type": "stream",
          "name": "stdout",
          "text": [
            "Requirement already satisfied: pyspark==3.5.0 in /usr/local/lib/python3.11/dist-packages (3.5.0)\n",
            "Requirement already satisfied: delta-spark==3.1.0 in /usr/local/lib/python3.11/dist-packages (3.1.0)\n",
            "Requirement already satisfied: py4j==0.10.9.7 in /usr/local/lib/python3.11/dist-packages (from pyspark==3.5.0) (0.10.9.7)\n",
            "Requirement already satisfied: importlib-metadata>=1.0.0 in /usr/local/lib/python3.11/dist-packages (from delta-spark==3.1.0) (8.7.0)\n",
            "Requirement already satisfied: zipp>=3.20 in /usr/local/lib/python3.11/dist-packages (from importlib-metadata>=1.0.0->delta-spark==3.1.0) (3.23.0)\n",
            "Seeded:\n",
            " Trips -> /tmp/delta/ride_hailing/trips\n",
            " Drivers-> /tmp/delta/ride_hailing/drivers\n"
          ]
        }
      ],
      "source": [
        "!pip install pyspark==3.5.0 delta-spark==3.1.0\n",
        "\n",
        "from pyspark.sql import SparkSession, functions as F, types as T\n",
        "from delta import configure_spark_with_delta_pip\n",
        "\n",
        "builder = (SparkSession.builder.appName(\"delta_ridehailing\")\n",
        "           .config(\"spark.sql.extensions\",\"io.delta.sql.DeltaSparkSessionExtension\")\n",
        "           .config(\"spark.sql.catalog.spark_catalog\",\"org.apache.spark.sql.delta.catalog.DeltaCatalog\"))\n",
        "spark = configure_spark_with_delta_pip(builder).getOrCreate()\n",
        "# ---------- Inline data ----------\n",
        "trip_schema = T.StructType([\n",
        "T.StructField(\"trip_id\", T.IntegerType()),\n",
        "T.StructField(\"rider_id\", T.StringType()),\n",
        "T.StructField(\"driver_id\", T.StringType()),\n",
        "T.StructField(\"city\", T.StringType()),\n",
        "T.StructField(\"distance_km\", T.DoubleType()),\n",
        "T.StructField(\"fare\", T.DoubleType()),\n",
        "T.StructField(\"tip\", T.DoubleType()),\n",
        "T.StructField(\"ts\", T.StringType())\n",
        "])\n",
        "driver_schema = T.StructType([\n",
        "T.StructField(\"driver_id\", T.StringType()),\n",
        "T.StructField(\"driver_name\",T.StringType()),\n",
        "T.StructField(\"rating\", T.DoubleType()),\n",
        "T.StructField(\"vehicle\", T.StringType())\n",
        "])\n",
        "trips_rows = trips_rows = [\n",
        "    (1001,\"R001\",\"D010\",\"Bengaluru\",12.4,320.0,20.0,\"2025-08-08 08:05:00\"),\n",
        "    (1002,\"R002\",\"D011\",\"Hyderabad\",6.2,150.0,10.0,\"2025-08-08 08:15:00\"),\n",
        "    (1003,\"R003\",\"D012\",\"Pune\",3.5,90.0,0.0,\"2025-08-08 08:20:00\"),\n",
        "    (1004,\"R001\",\"D010\",\"Bengaluru\",18.9,480.0,25.0,\"2025-08-08 08:45:00\"),\n",
        "    (1005,\"R004\",\"D013\",\"Chennai\",10.0,260.0,15.0,\"2025-08-08 09:05:00\"),\n",
        "    (1006,\"R005\",\"D012\",\"Pune\",2.2,70.0,0.0,\"2025-08-08 09:10:00\")\n",
        "]\n",
        "drivers_rows = [\n",
        "(\"D010\",\"Anil\", 4.8,\"WagonR\"),\n",
        "(\"D011\",\"Sana\", 4.6,\"i20\"),\n",
        "(\"D012\",\"Rakesh\", 4.4,\"Swift\"),\n",
        "(\"D013\",\"Meera\", 4.9,\"Ciaz\")\n",
        "]\n",
        "trips_df = spark.createDataFrame(trips_rows, schema=trip_schema).withColumn(\"ts\", F.to_timestamp(\"ts\"))\n",
        "drivers_df = spark.createDataFrame(drivers_rows, schema=driver_schema)\n",
        "# Save as Delta (fresh paths)\n",
        "BASE = \"/tmp/delta/ride_hailing\" # Databricks & Colab local FS compatible\n",
        "TRIPS_PATH = f\"{BASE}/trips\"\n",
        "DRIVERS_PATH = f\"{BASE}/drivers\"\n",
        "trips_df.write.format(\"delta\").mode(\"overwrite\").save(TRIPS_PATH)\n",
        "drivers_df.write.format(\"delta\").mode(\"overwrite\").save(DRIVERS_PATH)\n",
        "print(\"Seeded:\")\n",
        "print(\" Trips ->\", TRIPS_PATH)\n",
        "print(\" Drivers->\", DRIVERS_PATH)"
      ]
    },
    {
      "cell_type": "code",
      "source": [
        "trips_df.show()\n",
        "drivers_df.show()"
      ],
      "metadata": {
        "colab": {
          "base_uri": "https://localhost:8080/"
        },
        "id": "ZdY-CZCMIWHS",
        "outputId": "31ce3a71-743c-485b-c807-e8f714e97490"
      },
      "execution_count": 8,
      "outputs": [
        {
          "output_type": "stream",
          "name": "stdout",
          "text": [
            "+-------+--------+---------+---------+-----------+-----+----+-------------------+\n",
            "|trip_id|rider_id|driver_id|     city|distance_km| fare| tip|                 ts|\n",
            "+-------+--------+---------+---------+-----------+-----+----+-------------------+\n",
            "|   1001|    R001|     D010|Bengaluru|       12.4|320.0|20.0|2025-08-08 08:05:00|\n",
            "|   1002|    R002|     D011|Hyderabad|        6.2|150.0|10.0|2025-08-08 08:15:00|\n",
            "|   1003|    R003|     D012|     Pune|        3.5| 90.0| 0.0|2025-08-08 08:20:00|\n",
            "|   1004|    R001|     D010|Bengaluru|       18.9|480.0|25.0|2025-08-08 08:45:00|\n",
            "|   1005|    R004|     D013|  Chennai|       10.0|260.0|15.0|2025-08-08 09:05:00|\n",
            "|   1006|    R005|     D012|     Pune|        2.2| 70.0| 0.0|2025-08-08 09:10:00|\n",
            "+-------+--------+---------+---------+-----------+-----+----+-------------------+\n",
            "\n",
            "+---------+-----------+------+-------+\n",
            "|driver_id|driver_name|rating|vehicle|\n",
            "+---------+-----------+------+-------+\n",
            "|     D010|       Anil|   4.8| WagonR|\n",
            "|     D011|       Sana|   4.6|    i20|\n",
            "|     D012|     Rakesh|   4.4|  Swift|\n",
            "|     D013|      Meera|   4.9|   Ciaz|\n",
            "+---------+-----------+------+-------+\n",
            "\n"
          ]
        }
      ]
    },
    {
      "cell_type": "markdown",
      "source": [
        "#1) Managed vs Unmanaged Tables"
      ],
      "metadata": {
        "id": "jzeFfgcXIlpa"
      }
    },
    {
      "cell_type": "code",
      "source": [
        "# Create a managed Delta table trips_managed by AS SELECT from the Delta path.\n",
        "trips_df.write.format(\"delta\").mode(\"overwrite\").saveAsTable(\"trips_managed\")\n",
        "spark.sql(f\"create table if not exists trips_managed using delta location '{TRIPS_PATH}' as select * from delta.`{TRIPS_PATH}`\")\n",
        "# Create an external (unmanaged) table drivers_ext that points to DRIVERS_PATH .\n",
        "spark.sql(f\"create table if not exists drivers_ext using delta location '{DRIVERS_PATH}'\")\n",
        "# Verify locations with DESCRIBE DETAIL and explain the difference in your own words.\n",
        "spark.sql(\"describe detail trips_managed\").show()\n",
        "spark.sql(\"describe detail drivers_ext\").show()"
      ],
      "metadata": {
        "colab": {
          "base_uri": "https://localhost:8080/"
        },
        "id": "-nS96-hnIjVR",
        "outputId": "54070277-d5f0-4402-bf61-c3676fc380a4"
      },
      "execution_count": 13,
      "outputs": [
        {
          "output_type": "stream",
          "name": "stdout",
          "text": [
            "+------+--------------------+--------------------+-----------+--------------------+--------------------+--------------------+----------------+--------+-----------+----------+----------------+----------------+--------------------+\n",
            "|format|                  id|                name|description|            location|           createdAt|        lastModified|partitionColumns|numFiles|sizeInBytes|properties|minReaderVersion|minWriterVersion|       tableFeatures|\n",
            "+------+--------------------+--------------------+-----------+--------------------+--------------------+--------------------+----------------+--------+-----------+----------+----------------+----------------+--------------------+\n",
            "| delta|0d4cd752-53c8-403...|spark_catalog.def...|       NULL|file:/content/spa...|2025-08-14 05:58:...|2025-08-14 05:58:...|              []|       2|       4536|        {}|               1|               2|[appendOnly, inva...|\n",
            "+------+--------------------+--------------------+-----------+--------------------+--------------------+--------------------+----------------+--------+-----------+----------+----------------+----------------+--------------------+\n",
            "\n",
            "+------+--------------------+--------------------+-----------+--------------------+--------------------+--------------------+----------------+--------+-----------+----------+----------------+----------------+--------------------+\n",
            "|format|                  id|                name|description|            location|           createdAt|        lastModified|partitionColumns|numFiles|sizeInBytes|properties|minReaderVersion|minWriterVersion|       tableFeatures|\n",
            "+------+--------------------+--------------------+-----------+--------------------+--------------------+--------------------+----------------+--------+-----------+----------+----------------+----------------+--------------------+\n",
            "| delta|b51d8c4b-ca3e-4d7...|spark_catalog.def...|       NULL|file:/tmp/delta/r...|2025-08-14 05:51:...|2025-08-14 05:51:...|              []|       2|       2481|        {}|               1|               2|[appendOnly, inva...|\n",
            "+------+--------------------+--------------------+-----------+--------------------+--------------------+--------------------+----------------+--------+-----------+----------+----------------+----------------+--------------------+\n",
            "\n"
          ]
        }
      ]
    },
    {
      "cell_type": "code",
      "source": [
        "location = spark.sql('describe detail trips_managed').collect()[0]['location']\n",
        "print(\"trips_managed location: \",location)\n",
        "print(\"In managed, Data is stored in the warehouse folder. Dropping the table also deletes the data.\\n\")\n",
        "location2 = spark.sql('describe detail drivers_ext').collect()[0]['location']\n",
        "print(\"drivers_ext location: \",location2)\n",
        "print(\"In unmanaged, Data is stored wherever I specified (external path). Dropping the table does NOT delete the data.\")"
      ],
      "metadata": {
        "colab": {
          "base_uri": "https://localhost:8080/"
        },
        "id": "MNpxBf57Kdwi",
        "outputId": "132f55f7-a060-4011-9de9-e41408f429de"
      },
      "execution_count": 18,
      "outputs": [
        {
          "output_type": "stream",
          "name": "stdout",
          "text": [
            "trips_managed location:  file:/content/spark-warehouse/trips_managed\n",
            "In managed, Data is stored in the warehouse folder. Dropping the table also deletes the data.\n",
            "\n",
            "drivers_ext location:  file:/tmp/delta/ride_hailing/drivers\n",
            "In unmanaged, Data is stored wherever I specified (external path). Dropping the table does NOT delete the data.\n"
          ]
        }
      ]
    },
    {
      "cell_type": "markdown",
      "source": [
        "#2) Read & Explore"
      ],
      "metadata": {
        "id": "0EzHIW26LbY7"
      }
    },
    {
      "cell_type": "code",
      "source": [
        "# Read both tables, print schemas, and show 10 rows.\n",
        "trips_df = spark.read.format(\"delta\").load(TRIPS_PATH)\n",
        "drivers_df = spark.read.format(\"delta\").load(DRIVERS_PATH)\n",
        "print(\"Trips Schema:\")\n",
        "trips_df.printSchema()\n",
        "print(\"Drivers Schema:\")\n",
        "drivers_df.printSchema()\n",
        "print(\"Trips:\")\n",
        "trips_df.show(10)\n",
        "print(\"Drivers:\")\n",
        "drivers_df.show(10)"
      ],
      "metadata": {
        "colab": {
          "base_uri": "https://localhost:8080/"
        },
        "id": "0_UI-dI1Kt1F",
        "outputId": "75edc352-b58b-48e5-ba20-8eb7006d4a4a"
      },
      "execution_count": 20,
      "outputs": [
        {
          "output_type": "stream",
          "name": "stdout",
          "text": [
            "Trips Schema:\n",
            "root\n",
            " |-- trip_id: integer (nullable = true)\n",
            " |-- rider_id: string (nullable = true)\n",
            " |-- driver_id: string (nullable = true)\n",
            " |-- city: string (nullable = true)\n",
            " |-- distance_km: double (nullable = true)\n",
            " |-- fare: double (nullable = true)\n",
            " |-- tip: double (nullable = true)\n",
            " |-- ts: timestamp (nullable = true)\n",
            "\n",
            "Drivers Schema:\n",
            "root\n",
            " |-- driver_id: string (nullable = true)\n",
            " |-- driver_name: string (nullable = true)\n",
            " |-- rating: double (nullable = true)\n",
            " |-- vehicle: string (nullable = true)\n",
            "\n",
            "Trips:\n",
            "+-------+--------+---------+---------+-----------+-----+----+-------------------+\n",
            "|trip_id|rider_id|driver_id|     city|distance_km| fare| tip|                 ts|\n",
            "+-------+--------+---------+---------+-----------+-----+----+-------------------+\n",
            "|   1001|    R001|     D010|Bengaluru|       12.4|320.0|20.0|2025-08-08 08:05:00|\n",
            "|   1002|    R002|     D011|Hyderabad|        6.2|150.0|10.0|2025-08-08 08:15:00|\n",
            "|   1003|    R003|     D012|     Pune|        3.5| 90.0| 0.0|2025-08-08 08:20:00|\n",
            "|   1004|    R001|     D010|Bengaluru|       18.9|480.0|25.0|2025-08-08 08:45:00|\n",
            "|   1005|    R004|     D013|  Chennai|       10.0|260.0|15.0|2025-08-08 09:05:00|\n",
            "|   1006|    R005|     D012|     Pune|        2.2| 70.0| 0.0|2025-08-08 09:10:00|\n",
            "+-------+--------+---------+---------+-----------+-----+----+-------------------+\n",
            "\n",
            "Drivers:\n",
            "+---------+-----------+------+-------+\n",
            "|driver_id|driver_name|rating|vehicle|\n",
            "+---------+-----------+------+-------+\n",
            "|     D012|     Rakesh|   4.4|  Swift|\n",
            "|     D013|      Meera|   4.9|   Ciaz|\n",
            "|     D010|       Anil|   4.8| WagonR|\n",
            "|     D011|       Sana|   4.6|    i20|\n",
            "+---------+-----------+------+-------+\n",
            "\n"
          ]
        }
      ]
    },
    {
      "cell_type": "code",
      "source": [
        "# Compute a derived column total_amount = fare + tip and show top 5 trips by total_amount .\n",
        "trips_df = trips_df.withColumn(\"total_amount\", F.col(\"fare\") + F.col(\"tip\"))\n",
        "trips_df.orderBy(F.col(\"total_amount\").desc()).show(5)"
      ],
      "metadata": {
        "colab": {
          "base_uri": "https://localhost:8080/"
        },
        "id": "iZsd3tljLZ-v",
        "outputId": "6f4a5382-775b-455a-d161-aa84b186e981"
      },
      "execution_count": 21,
      "outputs": [
        {
          "output_type": "stream",
          "name": "stdout",
          "text": [
            "+-------+--------+---------+---------+-----------+-----+----+-------------------+------------+\n",
            "|trip_id|rider_id|driver_id|     city|distance_km| fare| tip|                 ts|total_amount|\n",
            "+-------+--------+---------+---------+-----------+-----+----+-------------------+------------+\n",
            "|   1004|    R001|     D010|Bengaluru|       18.9|480.0|25.0|2025-08-08 08:45:00|       505.0|\n",
            "|   1001|    R001|     D010|Bengaluru|       12.4|320.0|20.0|2025-08-08 08:05:00|       340.0|\n",
            "|   1005|    R004|     D013|  Chennai|       10.0|260.0|15.0|2025-08-08 09:05:00|       275.0|\n",
            "|   1002|    R002|     D011|Hyderabad|        6.2|150.0|10.0|2025-08-08 08:15:00|       160.0|\n",
            "|   1003|    R003|     D012|     Pune|        3.5| 90.0| 0.0|2025-08-08 08:20:00|        90.0|\n",
            "+-------+--------+---------+---------+-----------+-----+----+-------------------+------------+\n",
            "only showing top 5 rows\n",
            "\n"
          ]
        }
      ]
    },
    {
      "cell_type": "markdown",
      "source": [
        "#3) Update (Business Rule)"
      ],
      "metadata": {
        "id": "OjDdoLZgL3i0"
      }
    },
    {
      "cell_type": "code",
      "source": [
        "# Increase tip by 5 for trips in Bengaluru where distance_km > 15 .\n",
        "trips_df=trips_df.withColumn(\"tip\", F.when((F.col(\"city\")==\"Bengaluru\") & (F.col(\"distance_km\")>15),F.col(\"tip\")+5).otherwise(F.col(\"tip\")))"
      ],
      "metadata": {
        "id": "KCPYxsstL1bu"
      },
      "execution_count": 34,
      "outputs": []
    },
    {
      "cell_type": "code",
      "source": [
        "# Show before/after for affected rows only.\n",
        "print(\"before: \")\n",
        "trips_df.filter((F.col(\"city\") == \"Bengaluru\") & (F.col(\"distance_km\") > 15)).show()\n",
        "print(\"after: \")\n",
        "trips_df.filter((F.col(\"city\") == \"Bengaluru\") & (F.col(\"distance_km\") > 15)).withColumn(\"tip\", F.col(\"tip\") + 5).show()"
      ],
      "metadata": {
        "colab": {
          "base_uri": "https://localhost:8080/"
        },
        "id": "r0X8rx0aMKTv",
        "outputId": "d74ec5e4-3e4c-4e78-c795-6dedeca5ff6f"
      },
      "execution_count": 32,
      "outputs": [
        {
          "output_type": "stream",
          "name": "stdout",
          "text": [
            "before: \n",
            "+-------+--------+---------+---------+-----------+-----+----+-------------------+------------+\n",
            "|trip_id|rider_id|driver_id|     city|distance_km| fare| tip|                 ts|total_amount|\n",
            "+-------+--------+---------+---------+-----------+-----+----+-------------------+------------+\n",
            "|   1004|    R001|     D010|Bengaluru|       18.9|480.0|25.0|2025-08-08 08:45:00|       505.0|\n",
            "+-------+--------+---------+---------+-----------+-----+----+-------------------+------------+\n",
            "\n",
            "after: \n",
            "+-------+--------+---------+---------+-----------+-----+----+-------------------+------------+\n",
            "|trip_id|rider_id|driver_id|     city|distance_km| fare| tip|                 ts|total_amount|\n",
            "+-------+--------+---------+---------+-----------+-----+----+-------------------+------------+\n",
            "|   1004|    R001|     D010|Bengaluru|       18.9|480.0|30.0|2025-08-08 08:45:00|       505.0|\n",
            "+-------+--------+---------+---------+-----------+-----+----+-------------------+------------+\n",
            "\n"
          ]
        }
      ]
    },
    {
      "cell_type": "markdown",
      "source": [
        "#4) Delete (Data Quality)"
      ],
      "metadata": {
        "id": "LotUoju6MtmH"
      }
    },
    {
      "cell_type": "code",
      "source": [
        "# Delete trips where fare <= 0 or distance_km <= 0 (simulate bad ingest).\n",
        "trips_df.filter((F.col(\"fare\") <= 0) | (F.col(\"distance_km\") <= 0)).show()"
      ],
      "metadata": {
        "colab": {
          "base_uri": "https://localhost:8080/"
        },
        "id": "s0ZBYFmJMrAf",
        "outputId": "0b313e4d-284d-48bc-d800-2a65e50312fc"
      },
      "execution_count": 25,
      "outputs": [
        {
          "output_type": "stream",
          "name": "stdout",
          "text": [
            "+-------+--------+---------+----+-----------+----+---+---+------------+\n",
            "|trip_id|rider_id|driver_id|city|distance_km|fare|tip| ts|total_amount|\n",
            "+-------+--------+---------+----+-----------+----+---+---+------------+\n",
            "+-------+--------+---------+----+-----------+----+---+---+------------+\n",
            "\n"
          ]
        }
      ]
    },
    {
      "cell_type": "code",
      "source": [
        "# Show remaining row count.\n",
        "trips_df.filter((F.col(\"fare\") > 0) & (F.col(\"distance_km\") > 0)).count()"
      ],
      "metadata": {
        "colab": {
          "base_uri": "https://localhost:8080/"
        },
        "id": "4uNXF4Z_M8G5",
        "outputId": "80864994-f6ad-4e67-8640-bd215bbf2edf"
      },
      "execution_count": 26,
      "outputs": [
        {
          "output_type": "execute_result",
          "data": {
            "text/plain": [
              "6"
            ]
          },
          "metadata": {},
          "execution_count": 26
        }
      ]
    },
    {
      "cell_type": "markdown",
      "source": [
        "#5) Merge (Upsert New Batch)"
      ],
      "metadata": {
        "id": "x3AgeZGbNCYg"
      }
    },
    {
      "cell_type": "code",
      "source": [
        "# Create a new inline batch with:\n",
        "# one existing trip_id (e.g., 1004) but a corrected fare or tip, and one new trip (e.g., 1007).\n",
        "new_trips_rows = [\n",
        "    (1004,\"R001\",\"D010\",\"Bengaluru\",18.9,500.0,25.0, \"2025-08-08 08:45:00\"), # updated fare\n",
        "    (1007,\"R006\",\"D011\",\"Hyderabad\",5.5,140.0,12.0, \"2025-08-09 07:35:00\")   # new trip\n",
        "]\n",
        "new_trips_df = spark.createDataFrame(new_trips_rows, schema=trip_schema).withColumn(\"ts\", F.to_timestamp(\"ts\"))"
      ],
      "metadata": {
        "id": "QuLgAl-kNA39"
      },
      "execution_count": 43,
      "outputs": []
    },
    {
      "cell_type": "code",
      "source": [
        "# Perform a MERGE (match on trip_id ) to update the existing and insert the new.\n",
        "from delta.tables import DeltaTable\n",
        "delta_trips = DeltaTable.forPath(spark, TRIPS_PATH)\n",
        "delta_trips.alias(\"old\").merge(\n",
        "    new_trips_df.alias(\"new\"),\n",
        "    \"old.trip_id = new.trip_id\"\n",
        ").whenMatchedUpdateAll() \\\n",
        " .whenNotMatchedInsertAll() \\\n",
        " .execute()\n"
      ],
      "metadata": {
        "id": "xN4WxpaOP59Z"
      },
      "execution_count": 45,
      "outputs": []
    },
    {
      "cell_type": "code",
      "source": [
        "# Show rows for trip_id IN (1004,1007) to confirm.\n",
        "delta_trips.toDF().filter(F.col(\"trip_id\").isin([1004,1007])).show()"
      ],
      "metadata": {
        "colab": {
          "base_uri": "https://localhost:8080/"
        },
        "id": "1OQdXcR-RJXy",
        "outputId": "1ff58e02-7efd-4b9a-bd85-04465d67a6d0"
      },
      "execution_count": 46,
      "outputs": [
        {
          "output_type": "stream",
          "name": "stdout",
          "text": [
            "+-------+--------+---------+---------+-----------+-----+----+-------------------+\n",
            "|trip_id|rider_id|driver_id|     city|distance_km| fare| tip|                 ts|\n",
            "+-------+--------+---------+---------+-----------+-----+----+-------------------+\n",
            "|   1004|    R001|     D010|Bengaluru|       18.9|500.0|25.0|2025-08-08 08:45:00|\n",
            "|   1007|    R006|     D011|Hyderabad|        5.5|140.0|12.0|2025-08-09 07:35:00|\n",
            "+-------+--------+---------+---------+-----------+-----+----+-------------------+\n",
            "\n"
          ]
        }
      ]
    },
    {
      "cell_type": "markdown",
      "source": [
        "#6) Gold View (Join & KPIs)\n",
        "Join trips with drivers on driver_id .\n",
        "Create a gold view with columns: trip_id, city, driver_name, rating,distance_km, total_amount, ts .\n"
      ],
      "metadata": {
        "id": "Hkw538nwRUur"
      }
    },
    {
      "cell_type": "code",
      "source": [
        "from pyspark.sql import functions as f\n",
        "trips = spark.read.format(\"delta\").load(TRIPS_PATH)\n",
        "drivers = spark.read.format(\"delta\").load(DRIVERS_PATH)\n",
        "\n",
        "# join and compute total_amount\n",
        "gold_df = trips.alias(\"t\").join( drivers.alias(\"d\"), trips.driver_id == drivers.driver_id,\"left\").select(\n",
        "    f.col(\"t.trip_id\"),\n",
        "    f.col(\"t.city\"),\n",
        "    f.col(\"d.driver_name\"),\n",
        "    f.col(\"d.rating\"),\n",
        "    f.col(\"t.distance_km\"),\n",
        "    (f.col(\"t.fare\") + f.col(\"t.tip\")).alias(\"total_amount\"),\n",
        "    f.col(\"t.ts\")\n",
        ")\n",
        "\n",
        "# create a temp view\n",
        "gold_df.createOrReplaceTempView(\"gold_view\")\n"
      ],
      "metadata": {
        "id": "-oLCFACvRTAd"
      },
      "execution_count": 47,
      "outputs": []
    },
    {
      "cell_type": "markdown",
      "source": [
        "##From this gold view:\n",
        "* Compute city-wise total revenue and average driver rating.\n",
        "* Compute driver-wise total trips and top 3 drivers by revenue."
      ],
      "metadata": {
        "id": "jcjVUsA_Sp7Y"
      }
    },
    {
      "cell_type": "code",
      "source": [
        "spark.sql(\"select city, sum(total_amount) as total_revenue, round(avg(rating),2) as avg_driver_rating from gold_view group by city\").show()"
      ],
      "metadata": {
        "colab": {
          "base_uri": "https://localhost:8080/"
        },
        "id": "GLWHAyEDSEL5",
        "outputId": "4b5c0dc0-0c7e-453d-9588-48f50480b639"
      },
      "execution_count": 57,
      "outputs": [
        {
          "output_type": "stream",
          "name": "stdout",
          "text": [
            "+---------+-------------+-----------------+\n",
            "|     city|total_revenue|avg_driver_rating|\n",
            "+---------+-------------+-----------------+\n",
            "|  Chennai|        275.0|              4.9|\n",
            "|     Pune|        160.0|              4.4|\n",
            "|Bengaluru|        865.0|              4.8|\n",
            "|Hyderabad|        312.0|              4.6|\n",
            "|   Mumbai|        345.0|              4.5|\n",
            "+---------+-------------+-----------------+\n",
            "\n"
          ]
        }
      ]
    },
    {
      "cell_type": "markdown",
      "source": [
        "as per task 9 the above code is rerunned and the changes are observed"
      ],
      "metadata": {
        "id": "Wmg-k6t2VEDQ"
      }
    },
    {
      "cell_type": "code",
      "source": [
        "spark.sql(\"select driver_name,count(trip_id) as total_trips,sum(total_amount) as total_revenue from gold_view group by driver_name order by total_revenue desc limit 3\").show()\n"
      ],
      "metadata": {
        "colab": {
          "base_uri": "https://localhost:8080/"
        },
        "id": "nzdE9E4rSRNE",
        "outputId": "46b7f915-5d94-4f47-e322-8310ff0957fe"
      },
      "execution_count": 49,
      "outputs": [
        {
          "output_type": "stream",
          "name": "stdout",
          "text": [
            "+-----------+-----------+-------------+\n",
            "|driver_name|total_trips|total_revenue|\n",
            "+-----------+-----------+-------------+\n",
            "|       Anil|          2|        865.0|\n",
            "|       Sana|          2|        312.0|\n",
            "|      Meera|          1|        275.0|\n",
            "+-----------+-----------+-------------+\n",
            "\n"
          ]
        }
      ]
    },
    {
      "cell_type": "markdown",
      "source": [
        "#7) Time Travel & History"
      ],
      "metadata": {
        "id": "ZmkyXZmpSyjY"
      }
    },
    {
      "cell_type": "code",
      "source": [
        "# Show DESCRIBE HISTORY for the trips table (the one you updated/merged).\n",
        "spark.sql(\"describe history trips_managed\").show()"
      ],
      "metadata": {
        "colab": {
          "base_uri": "https://localhost:8080/"
        },
        "id": "A6y7Aw3dS1Nc",
        "outputId": "d78e4e2e-5133-417c-f1b0-c0a2c726d0b4"
      },
      "execution_count": 50,
      "outputs": [
        {
          "output_type": "stream",
          "name": "stdout",
          "text": [
            "+-------+--------------------+------+--------+--------------------+--------------------+----+--------+---------+-----------+--------------+-------------+--------------------+------------+--------------------+\n",
            "|version|           timestamp|userId|userName|           operation| operationParameters| job|notebook|clusterId|readVersion|isolationLevel|isBlindAppend|    operationMetrics|userMetadata|          engineInfo|\n",
            "+-------+--------------------+------+--------+--------------------+--------------------+----+--------+---------+-----------+--------------+-------------+--------------------+------------+--------------------+\n",
            "|      0|2025-08-14 05:58:...|  NULL|    NULL|CREATE OR REPLACE...|{isManaged -> tru...|NULL|    NULL|     NULL|       NULL|  Serializable|        false|{numFiles -> 2, n...|        NULL|Apache-Spark/3.5....|\n",
            "+-------+--------------------+------+--------+--------------------+--------------------+----+--------+---------+-----------+--------------+-------------+--------------------+------------+--------------------+\n",
            "\n"
          ]
        }
      ]
    },
    {
      "cell_type": "code",
      "source": [
        "# Read the table as of version 0, and compare counts and a few rows with the latest version.\n",
        "trips_df_v0 = spark.read.format(\"delta\").option(\"versionAsOf\", 0).load(TRIPS_PATH)\n",
        "trips_df_latest = spark.read.format(\"delta\").load(TRIPS_PATH)\n",
        "print(\"trips_df_v0 count: \",trips_df_v0.count())\n",
        "print(\"trips_df_latest count: \",trips_df_latest.count())\n",
        "trips_df_v0.show(5)\n",
        "trips_df_latest.show(5)"
      ],
      "metadata": {
        "colab": {
          "base_uri": "https://localhost:8080/"
        },
        "id": "vPLPg4SQS7Yp",
        "outputId": "4e3cee3f-fb5c-4901-82ba-fed54f28c75f"
      },
      "execution_count": 52,
      "outputs": [
        {
          "output_type": "stream",
          "name": "stdout",
          "text": [
            "trips_df_v0 count:  6\n",
            "trips_df_latest count:  7\n",
            "+-------+--------+---------+---------+-----------+-----+----+-------------------+\n",
            "|trip_id|rider_id|driver_id|     city|distance_km| fare| tip|                 ts|\n",
            "+-------+--------+---------+---------+-----------+-----+----+-------------------+\n",
            "|   1001|    R001|     D010|Bengaluru|       12.4|320.0|20.0|2025-08-08 08:05:00|\n",
            "|   1002|    R002|     D011|Hyderabad|        6.2|150.0|10.0|2025-08-08 08:15:00|\n",
            "|   1003|    R003|     D012|     Pune|        3.5| 90.0| 0.0|2025-08-08 08:20:00|\n",
            "|   1004|    R001|     D010|Bengaluru|       18.9|480.0|25.0|2025-08-08 08:45:00|\n",
            "|   1005|    R004|     D013|  Chennai|       10.0|260.0|15.0|2025-08-08 09:05:00|\n",
            "+-------+--------+---------+---------+-----------+-----+----+-------------------+\n",
            "only showing top 5 rows\n",
            "\n",
            "+-------+--------+---------+---------+-----------+-----+----+-------------------+\n",
            "|trip_id|rider_id|driver_id|     city|distance_km| fare| tip|                 ts|\n",
            "+-------+--------+---------+---------+-----------+-----+----+-------------------+\n",
            "|   1004|    R001|     D010|Bengaluru|       18.9|500.0|25.0|2025-08-08 08:45:00|\n",
            "|   1005|    R004|     D013|  Chennai|       10.0|260.0|15.0|2025-08-08 09:05:00|\n",
            "|   1006|    R005|     D012|     Pune|        2.2| 70.0| 0.0|2025-08-08 09:10:00|\n",
            "|   1007|    R006|     D011|Hyderabad|        5.5|140.0|12.0|2025-08-09 07:35:00|\n",
            "|   1001|    R001|     D010|Bengaluru|       12.4|320.0|20.0|2025-08-08 08:05:00|\n",
            "+-------+--------+---------+---------+-----------+-----+----+-------------------+\n",
            "only showing top 5 rows\n",
            "\n"
          ]
        }
      ]
    },
    {
      "cell_type": "markdown",
      "source": [
        "#8) Partitioned Rewrite (Performance)"
      ],
      "metadata": {
        "id": "UuHNUU_LTUtI"
      }
    },
    {
      "cell_type": "code",
      "source": [
        "# Rewrite the trips table partitioned by city into a new Delta path.\n",
        "trips_df.write.format(\"delta\").partitionBy(\"city\").mode(\"overwrite\").save(f\"{BASE}/trips_partitioned\")"
      ],
      "metadata": {
        "id": "bcabJW0eTTG8"
      },
      "execution_count": 53,
      "outputs": []
    },
    {
      "cell_type": "code",
      "source": [
        "# Compare file layout (optional: list files) and run a simple filter city='Bengaluru' to observe read behavior/time.\n",
        "partitioned_trips = spark.read.format(\"delta\").load(f\"{BASE}/trips_partitioned\")\n",
        "# filter Bengaluru trips\n",
        "partitioned_trips.filter(\"city='Bengaluru'\").show()\n"
      ],
      "metadata": {
        "colab": {
          "base_uri": "https://localhost:8080/"
        },
        "id": "hDqfDoE9TccO",
        "outputId": "88edde88-7374-462f-976c-6089f0012961"
      },
      "execution_count": 54,
      "outputs": [
        {
          "output_type": "stream",
          "name": "stdout",
          "text": [
            "+-------+--------+---------+---------+-----------+-----+----+-------------------+------------+\n",
            "|trip_id|rider_id|driver_id|     city|distance_km| fare| tip|                 ts|total_amount|\n",
            "+-------+--------+---------+---------+-----------+-----+----+-------------------+------------+\n",
            "|   1004|    R001|     D010|Bengaluru|       18.9|500.0|30.0|2025-08-08 08:45:00|       525.0|\n",
            "|   1001|    R001|     D010|Bengaluru|       12.4|320.0|20.0|2025-08-08 08:05:00|       340.0|\n",
            "+-------+--------+---------+---------+-----------+-----+----+-------------------+------------+\n",
            "\n"
          ]
        }
      ]
    },
    {
      "cell_type": "markdown",
      "source": [
        "#9) Incremental Load Simulation"
      ],
      "metadata": {
        "id": "fXQUvLurT_XH"
      }
    },
    {
      "cell_type": "code",
      "source": [
        "# Create a small incremental batch (e.g., trip_ids 1008–1009) with a new city (e.g., Mumbai).\n",
        "\n",
        "incremental_rows = [\n",
        "    (1008,\"R007\",\"D011\",\"Mumbai\",7.0,180.0,15.0, \"2025-08-08 11:00:00\"),\n",
        "    (1009,\"R008\",\"D012\",\"Mumbai\",5.5,140.0,10.0, \"2025-08-08 11:30:00\")\n",
        "]\n",
        "\n",
        "incremental_df = spark.createDataFrame(incremental_rows, schema=trip_schema).withColumn(\"ts\", f.to_timestamp(\"ts\"))"
      ],
      "metadata": {
        "id": "sWj5uWX_T6i9"
      },
      "execution_count": 55,
      "outputs": []
    },
    {
      "cell_type": "code",
      "source": [
        "# Append to the trips table.\n",
        "incremental_df.write.format(\"delta\").mode(\"append\").save(TRIPS_PATH)"
      ],
      "metadata": {
        "id": "VE2_HD0gUkER"
      },
      "execution_count": 56,
      "outputs": []
    },
    {
      "cell_type": "code",
      "source": [
        "# Re-run the city-wise revenue aggregation and note the change.\n",
        "# Done"
      ],
      "metadata": {
        "id": "tuCTGicWUuF4"
      },
      "execution_count": null,
      "outputs": []
    },
    {
      "cell_type": "markdown",
      "source": [
        "#10) Simple Streaming (File Stream → Console)"
      ],
      "metadata": {
        "id": "Via599HnVWcH"
      }
    },
    {
      "cell_type": "code",
      "source": [
        "# Start a structured stream that reads Delta from TRIPS_PATH in readStream mode and writes to console (append).\n",
        "stream_df = spark.readStream.format(\"delta\").load(TRIPS_PATH)\n",
        "query = stream_df.writeStream.format(\"console\").outputMode(\"append\").trigger(processingTime='5 seconds').start()\n",
        "query.awaitTermination()"
      ],
      "metadata": {
        "id": "sjz6r7-AVUQ9"
      },
      "execution_count": null,
      "outputs": []
    },
    {
      "cell_type": "code",
      "source": [
        "# While the stream runs, append another tiny batch (e.g., one more Mumbai trip) and observe the new row displayed.\n",
        "new_batch_rows = [(1010,\"R009\",\"D013\",\"Mumbai\",6.0,150.0,12.0,\"2025-08-08 12:00:00\")]\n",
        "new_batch_df = spark.createDataFrame(new_batch_rows, schema=trip_schema).withColumn(\"ts\", f.to_timestamp(\"ts\"))\n",
        "new_batch_df.write.format(\"delta\").mode(\"append\").save(TRIPS_PATH)"
      ],
      "metadata": {
        "id": "_7VLE0hbYeUb"
      },
      "execution_count": null,
      "outputs": []
    },
    {
      "cell_type": "markdown",
      "source": [
        "It is not possible to run two cells at a time in colab so while streaming i am unable to run a new cell to append and see output.\n"
      ],
      "metadata": {
        "id": "FNbZkf4TYgNx"
      }
    },
    {
      "cell_type": "markdown",
      "source": [
        "#11) Visualization"
      ],
      "metadata": {
        "id": "mljf3ZzZceM2"
      }
    },
    {
      "cell_type": "code",
      "source": [
        "# Convert the gold view results (city revenue) to Pandas and plot a bar chart of city vs total revenue.\n",
        "import matplotlib.pyplot as plt\n",
        "import pandas as pd\n",
        "gold_df = trips.alias(\"t\").join(drivers.alias(\"d\"), \"driver_id\").select(\n",
        "        \"t.trip_id\",\n",
        "        \"t.city\",\n",
        "        \"d.driver_name\",\n",
        "        \"d.rating\",\n",
        "        \"t.distance_km\",\n",
        "        (f.col(\"t.fare\")+f.col(\"t.tip\")).alias(\"total_amount\"),\n",
        "        \"t.ts\"\n",
        "    )\n",
        "city_rev = gold_df.groupBy(\"city\").sum(\"total_amount\").toPandas()\n",
        "city_rev.columns = [\"city\",\"total_revenue\"]\n",
        "plt.figure(figsize=(6,4))\n",
        "plt.bar(city_rev[\"city\"], city_rev[\"total_revenue\"], color=\"skyblue\")\n",
        "plt.xlabel(\"city\")\n",
        "plt.ylabel(\"total revenue\")\n",
        "plt.title(\"city vs total revenue\")\n",
        "plt.show()"
      ],
      "metadata": {
        "colab": {
          "base_uri": "https://localhost:8080/",
          "height": 410
        },
        "id": "EBeehZ_Ict9P",
        "outputId": "9ca6ab22-ed89-460e-8ac3-e73f3c0b0ac9"
      },
      "execution_count": 92,
      "outputs": [
        {
          "output_type": "display_data",
          "data": {
            "text/plain": [
              "<Figure size 600x400 with 1 Axes>"
            ],
            "image/png": "[encoded data removed]"
          },
          "metadata": {}
        }
      ]
    },
    {
      "cell_type": "code",
      "source": [
        "# Plot a line chart of hourly revenue: group by hour(ts) and sum total_amount .\n",
        "gold_df = gold_df.withColumn(\"hour\", f.hour(\"ts\"))\n",
        "hourly_rev = gold_df.groupBy(\"hour\").sum(\"total_amount\").orderBy(\"hour\").toPandas()\n",
        "hourly_rev.columns = [\"hour\",\"total_revenue\"]\n",
        "plt.figure(figsize=(6,4))\n",
        "plt.plot(hourly_rev[\"hour\"], hourly_rev[\"total_revenue\"], marker=\"o\")\n",
        "plt.xlabel(\"hour of day\")\n",
        "plt.ylabel(\"total revenue\")\n",
        "plt.title(\"hourly revenue\")\n",
        "plt.grid(True)\n",
        "plt.show()"
      ],
      "metadata": {
        "colab": {
          "base_uri": "https://localhost:8080/",
          "height": 410
        },
        "id": "iy6WQ3azdEcN",
        "outputId": "7488ad1e-7df3-44df-d2c1-a6c1c3aac7d2"
      },
      "execution_count": 93,
      "outputs": [
        {
          "output_type": "display_data",
          "data": {
            "text/plain": [
              "<Figure size 600x400 with 1 Axes>"
            ],
            "image/png": "[encoded data removed]"
          },
          "metadata": {}
        }
      ]
    },
    {
      "cell_type": "markdown",
      "source": [
        "#12) Managed vs Unmanaged Cleanup"
      ],
      "metadata": {
        "id": "7ZFOxPFgeVDe"
      }
    },
    {
      "cell_type": "code",
      "source": [
        "# DROP TABLE the managed and unmanaged tables; verify:\n",
        "# Data for managed is removed with the table (when stored in the warehouse).\n",
        "# Data for unmanaged stays at DRIVERS_PATH after drop.\n",
        "spark.sql(\"drop table if exists trips_managed\")\n",
        "spark.sql(\"drop table if exists drivers_ext\")"
      ],
      "metadata": {
        "colab": {
          "base_uri": "https://localhost:8080/"
        },
        "id": "buwKluFueHvf",
        "outputId": "4abd8b4f-f45c-4027-a7ac-d40b7547a9b5"
      },
      "execution_count": 94,
      "outputs": [
        {
          "output_type": "execute_result",
          "data": {
            "text/plain": [
              "DataFrame[]"
            ]
          },
          "metadata": {},
          "execution_count": 94
        }
      ]
    },
    {
      "cell_type": "markdown",
      "source": [
        "#13) Constraint/Quality Check (Optional)"
      ],
      "metadata": {
        "id": "QNGlSSKpfFMM"
      }
    },
    {
      "cell_type": "code",
      "source": [
        "# Add a check to reject rows where tip < 0 (enforce during write or simulate with a filter before save).\n",
        "# Demonstrate an attempt to write bad data and show how you prevented it.\n",
        "from pyspark.sql import functions as f\n",
        "bad_rows = [(1011,\"R010\",\"D011\",\"Chennai\",5.0,120.0,-10.0,\"2025-08-08 13:00:00\"),(1012,\"R012\",\"D012\",\"Chennai\",3.0,300.0,20.0,\"2025-08-08 12:00:00\")]\n",
        "bad_df = spark.createDataFrame(bad_rows, schema=trip_schema).withColumn(\"ts\", f.to_timestamp(\"ts\"))\n",
        "bad_df.show()"
      ],
      "metadata": {
        "colab": {
          "base_uri": "https://localhost:8080/"
        },
        "id": "-2wFKLRpe_K9",
        "outputId": "dca60266-4d1b-40c0-aacf-cd4f2e52be8b"
      },
      "execution_count": 108,
      "outputs": [
        {
          "output_type": "stream",
          "name": "stdout",
          "text": [
            "+-------+--------+---------+-------+-----------+-----+-----+-------------------+\n",
            "|trip_id|rider_id|driver_id|   city|distance_km| fare|  tip|                 ts|\n",
            "+-------+--------+---------+-------+-----------+-----+-----+-------------------+\n",
            "|   1011|    R010|     D011|Chennai|        5.0|120.0|-10.0|2025-08-08 13:00:00|\n",
            "|   1012|    R012|     D012|Chennai|        3.0|300.0| 20.0|2025-08-08 12:00:00|\n",
            "+-------+--------+---------+-------+-----------+-----+-----+-------------------+\n",
            "\n"
          ]
        }
      ]
    },
    {
      "cell_type": "code",
      "source": [
        "valid_df = bad_df.filter(f.col(\"tip\") >= 0)\n",
        "valid_df.show()"
      ],
      "metadata": {
        "colab": {
          "base_uri": "https://localhost:8080/"
        },
        "id": "p96KfD09fha6",
        "outputId": "8b2f1ba9-8423-4d85-d30e-aa9cd0c43b2e"
      },
      "execution_count": 109,
      "outputs": [
        {
          "output_type": "stream",
          "name": "stdout",
          "text": [
            "+-------+--------+---------+-------+-----------+-----+----+-------------------+\n",
            "|trip_id|rider_id|driver_id|   city|distance_km| fare| tip|                 ts|\n",
            "+-------+--------+---------+-------+-----------+-----+----+-------------------+\n",
            "|   1012|    R012|     D012|Chennai|        3.0|300.0|20.0|2025-08-08 12:00:00|\n",
            "+-------+--------+---------+-------+-----------+-----+----+-------------------+\n",
            "\n"
          ]
        }
      ]
    },
    {
      "cell_type": "code",
      "source": [
        "trips_df.show()"
      ],
      "metadata": {
        "colab": {
          "base_uri": "https://localhost:8080/"
        },
        "id": "IWWsngkDgy-7",
        "outputId": "5750108a-5ab2-4acd-937a-b153e0ebf6ea"
      },
      "execution_count": 105,
      "outputs": [
        {
          "output_type": "stream",
          "name": "stdout",
          "text": [
            "+-------+--------+---------+---------+-----------+-----+----+-------------------+------------+\n",
            "|trip_id|rider_id|driver_id|     city|distance_km| fare| tip|                 ts|total_amount|\n",
            "+-------+--------+---------+---------+-----------+-----+----+-------------------+------------+\n",
            "|   1004|    R001|     D010|Bengaluru|       18.9|500.0|30.0|2025-08-08 08:45:00|       525.0|\n",
            "|   1005|    R004|     D013|  Chennai|       10.0|260.0|15.0|2025-08-08 09:05:00|       275.0|\n",
            "|   1006|    R005|     D012|     Pune|        2.2| 70.0| 0.0|2025-08-08 09:10:00|        70.0|\n",
            "|   1007|    R006|     D011|Hyderabad|        5.5|140.0|12.0|2025-08-09 07:35:00|       152.0|\n",
            "|   1001|    R001|     D010|Bengaluru|       12.4|320.0|20.0|2025-08-08 08:05:00|       340.0|\n",
            "|   1002|    R002|     D011|Hyderabad|        6.2|150.0|10.0|2025-08-08 08:15:00|       160.0|\n",
            "|   1003|    R003|     D012|     Pune|        3.5| 90.0| 0.0|2025-08-08 08:20:00|        90.0|\n",
            "|   1012|    R012|     D012|  Chennai|        3.0|300.0|20.0|2025-08-08 12:00:00|       320.0|\n",
            "|   1009|    R008|     D012|   Mumbai|        5.5|140.0|10.0|2025-08-08 11:30:00|       150.0|\n",
            "|   1008|    R007|     D011|   Mumbai|        7.0|180.0|15.0|2025-08-08 11:00:00|       195.0|\n",
            "+-------+--------+---------+---------+-----------+-----+----+-------------------+------------+\n",
            "\n"
          ]
        }
      ]
    },
    {
      "cell_type": "markdown",
      "source": [
        "14) Convert Parquet → Delta (Optional)"
      ],
      "metadata": {
        "id": "elWTOYxThyJ_"
      }
    },
    {
      "cell_type": "code",
      "source": [
        "# Save a small subset of trips as Parquet in a new folder and CONVERT TO DELTA.\n",
        "# took first 2 rows as a sample\n",
        "parquet_path = \"/tmp/delta/ride_hailing/trips_parquet\"\n",
        "sample_df = spark.read.format(\"delta\").load(TRIPS_PATH).limit(2)\n",
        "sample_df.write.mode(\"overwrite\").parquet(parquet_path)\n",
        "from delta.tables import DeltaTable\n",
        "DeltaTable.convertToDelta(spark, f\"parquet.`{parquet_path}`\")\n",
        "delta_df = spark.read.format(\"delta\").load(parquet_path)\n",
        "delta_df.show()"
      ],
      "metadata": {
        "colab": {
          "base_uri": "https://localhost:8080/"
        },
        "id": "-va_c23Shx_3",
        "outputId": "940aaf35-1d52-4a6e-c4d4-5a8582ec1426"
      },
      "execution_count": 113,
      "outputs": [
        {
          "output_type": "stream",
          "name": "stdout",
          "text": [
            "+-------+--------+---------+---------+-----------+-----+----+-------------------+\n",
            "|trip_id|rider_id|driver_id|     city|distance_km| fare| tip|                 ts|\n",
            "+-------+--------+---------+---------+-----------+-----+----+-------------------+\n",
            "|   1001|    R001|     D010|Bengaluru|       12.4|320.0|20.0|2025-08-08 08:05:00|\n",
            "|   1002|    R002|     D011|Hyderabad|        6.2|150.0|10.0|2025-08-08 08:15:00|\n",
            "+-------+--------+---------+---------+-----------+-----+----+-------------------+\n",
            "\n"
          ]
        }
      ]
    },
    {
      "cell_type": "code",
      "source": [
        "# Show it can now accept MERGE and time travel.\n",
        "from delta.tables import DeltaTable\n",
        "import pyspark.sql.functions as f\n",
        "\n",
        "# load delta table\n",
        "delta_table = DeltaTable.forPath(spark, parquet_path)\n",
        "\n",
        "# new batch: one existing trip_id (update) + one new trip_id (insert)\n",
        "new_rows = [\n",
        "    (1001, \"R003\", \"D010\", \"Bengaluru\", 12.0, 300.0, 15.0, \"2025-08-08 15:00:00\"),\n",
        "    (1012, \"R011\", \"D012\", \"Pune\", 5.0, 100.0, 5.0, \"2025-08-08 15:05:00\")\n",
        "]\n",
        "\n",
        "new_df = spark.createDataFrame(new_rows, schema=trip_schema).withColumn(\"ts\", f.to_timestamp(\"ts\"))\n",
        "\n",
        "# merge\n",
        "delta_table.alias(\"t\").merge(\n",
        "    new_df.alias(\"s\"),\n",
        "    \"t.trip_id = s.trip_id\"\n",
        ").whenMatchedUpdateAll() \\\n",
        " .whenNotMatchedInsertAll() \\\n",
        " .execute()\n",
        "spark.read.format(\"delta\").load(parquet_path).filter(f.col(\"trip_id\").isin([sample_df.collect()[0][\"trip_id\"], 1012])).show()"
      ],
      "metadata": {
        "colab": {
          "base_uri": "https://localhost:8080/"
        },
        "id": "MeojYjqbiQCT",
        "outputId": "ca475223-165e-417f-dca4-f7a3b1eaba2d"
      },
      "execution_count": 114,
      "outputs": [
        {
          "output_type": "stream",
          "name": "stdout",
          "text": [
            "+-------+--------+---------+---------+-----------+-----+----+-------------------+\n",
            "|trip_id|rider_id|driver_id|     city|distance_km| fare| tip|                 ts|\n",
            "+-------+--------+---------+---------+-----------+-----+----+-------------------+\n",
            "|   1001|    R003|     D010|Bengaluru|       12.0|300.0|15.0|2025-08-08 15:00:00|\n",
            "|   1012|    R011|     D012|     Pune|        5.0|100.0| 5.0|2025-08-08 15:05:00|\n",
            "+-------+--------+---------+---------+-----------+-----+----+-------------------+\n",
            "\n"
          ]
        }
      ]
    },
    {
      "cell_type": "code",
      "source": [
        "# time travel. read version 0\n",
        "print(\"latest:\")\n",
        "spark.read.format(\"delta\").load(parquet_path).show()\n",
        "df_v0 = spark.read.format(\"delta\").option(\"versionAsOf\", 0).load(parquet_path)\n",
        "print(\"version 0:\")\n",
        "df_v0.show()"
      ],
      "metadata": {
        "colab": {
          "base_uri": "https://localhost:8080/"
        },
        "id": "vlVMS7PUjKXU",
        "outputId": "cdfa8e24-2225-4781-e473-a2e178f293cf"
      },
      "execution_count": 117,
      "outputs": [
        {
          "output_type": "stream",
          "name": "stdout",
          "text": [
            "latest:\n",
            "+-------+--------+---------+---------+-----------+-----+----+-------------------+\n",
            "|trip_id|rider_id|driver_id|     city|distance_km| fare| tip|                 ts|\n",
            "+-------+--------+---------+---------+-----------+-----+----+-------------------+\n",
            "|   1001|    R003|     D010|Bengaluru|       12.0|300.0|15.0|2025-08-08 15:00:00|\n",
            "|   1002|    R002|     D011|Hyderabad|        6.2|150.0|10.0|2025-08-08 08:15:00|\n",
            "|   1012|    R011|     D012|     Pune|        5.0|100.0| 5.0|2025-08-08 15:05:00|\n",
            "+-------+--------+---------+---------+-----------+-----+----+-------------------+\n",
            "\n",
            "version 0:\n",
            "+-------+--------+---------+---------+-----------+-----+----+-------------------+\n",
            "|trip_id|rider_id|driver_id|     city|distance_km| fare| tip|                 ts|\n",
            "+-------+--------+---------+---------+-----------+-----+----+-------------------+\n",
            "|   1001|    R001|     D010|Bengaluru|       12.4|320.0|20.0|2025-08-08 08:05:00|\n",
            "|   1002|    R002|     D011|Hyderabad|        6.2|150.0|10.0|2025-08-08 08:15:00|\n",
            "+-------+--------+---------+---------+-----------+-----+----+-------------------+\n",
            "\n"
          ]
        }
      ]
    },
    {
      "cell_type": "markdown",
      "source": [
        "#15) Bonus KPI Dashboard (Notebook Display)"
      ],
      "metadata": {
        "id": "7vqv4-7JjwK1"
      }
    },
    {
      "cell_type": "code",
      "source": [
        "import matplotlib.pyplot as plt\n",
        "import pandas as pd\n",
        "from pyspark.sql import functions as f\n",
        "\n",
        "# create gold_df with ts included (if not already)\n",
        "gold_df = trips.alias(\"t\").join(drivers.alias(\"d\"), \"driver_id\").select(\n",
        "        \"t.trip_id\",\n",
        "        \"t.city\",\n",
        "        \"d.driver_name\",\n",
        "        \"d.rating\",\n",
        "        \"t.distance_km\",\n",
        "        (f.col(\"t.fare\")+f.col(\"t.tip\")).alias(\"total_amount\"),\n",
        "        \"t.ts\"\n",
        "    )\n",
        "\n",
        "# total revenue\n",
        "total_rev = gold_df.agg(f.sum(\"total_amount\")).collect()[0][0]\n",
        "print(\"total revenue:\", total_rev)\n",
        "\n",
        "# trips per city (bar chart)\n",
        "city_trips = gold_df.groupBy(\"city\").count().toPandas()\n",
        "plt.figure(figsize=(6,4))\n",
        "plt.bar(city_trips[\"city\"], city_trips[\"count\"], color=\"skyblue\")\n",
        "plt.xlabel(\"city\")\n",
        "plt.ylabel(\"number of trips\")\n",
        "plt.title(\"trips per city\")\n",
        "plt.show()\n",
        "\n",
        "# top drivers by revenue (bar chart)\n",
        "driver_rev = gold_df.groupBy(\"driver_name\").sum(\"total_amount\").toPandas()\n",
        "driver_rev.columns = [\"driver_name\",\"revenue\"]\n",
        "driver_rev = driver_rev.sort_values(\"revenue\", ascending=False).head(3)\n",
        "\n",
        "plt.figure(figsize=(6,4))\n",
        "plt.bar(driver_rev[\"driver_name\"], driver_rev[\"revenue\"], color=\"orange\")\n",
        "plt.xlabel(\"driver\")\n",
        "plt.ylabel(\"revenue\")\n",
        "plt.title(\"top 3 drivers by revenue\")\n",
        "plt.show()\n",
        "\n",
        "#  revenue by hour (line chart)\n",
        "gold_df = gold_df.withColumn(\"hour\", f.hour(\"ts\"))\n",
        "hourly_rev = gold_df.groupBy(\"hour\").sum(\"total_amount\").orderBy(\"hour\").toPandas()\n",
        "hourly_rev.columns = [\"hour\",\"total_revenue\"]\n",
        "\n",
        "plt.figure(figsize=(6,4))\n",
        "plt.plot(hourly_rev[\"hour\"], hourly_rev[\"total_revenue\"], marker=\"o\")\n",
        "plt.xlabel(\"hour of day\")\n",
        "plt.ylabel(\"total revenue\")\n",
        "plt.title(\"hourly revenue\")\n",
        "plt.grid(True)\n",
        "plt.show()\n"
      ],
      "metadata": {
        "colab": {
          "base_uri": "https://localhost:8080/",
          "height": 1000
        },
        "id": "7nU_QLtIjt58",
        "outputId": "50fcad98-b6ba-4270-830e-8e4f77fe98c1"
      },
      "execution_count": 118,
      "outputs": [
        {
          "output_type": "stream",
          "name": "stdout",
          "text": [
            "total revenue: 2387.0\n"
          ]
        },
        {
          "output_type": "display_data",
          "data": {
            "text/plain": [
              "<Figure size 600x400 with 1 Axes>"
            ],
            "image/png": "[encoded data removed]"
          },
          "metadata": {}
        },
        {
          "output_type": "display_data",
          "data": {
            "text/plain": [
              "<Figure size 600x400 with 1 Axes>"
            ],
            "image/png": "[encoded data removed]"
          },
          "metadata": {}
        },
        {
          "output_type": "display_data",
          "data": {
            "text/plain": [
              "<Figure size 600x400 with 1 Axes>"
            ],
            "image/png": "[encoded data removed]"
          },
          "metadata": {}
        }
      ]
    }
  ]
}