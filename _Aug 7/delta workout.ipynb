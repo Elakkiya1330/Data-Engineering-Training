{
 "cells": [
  {
   "cell_type": "code",
   "execution_count": 0,
   "metadata": {
    "application/vnd.databricks.v1+cell": {
     "cellMetadata": {
      "byteLimit": 2048000,
      "rowLimit": 10000
     },
     "inputWidgets": {},
     "nuid": "60053767-aa7b-4125-a22b-f571fd50e90f",
     "showTitle": false,
     "tableResultSettingsMap": {},
     "title": ""
    }
   },
   "outputs": [
    {
     "output_type": "stream",
     "name": "stdout",
     "output_type": "stream",
     "text": [
      "Wrote 139 bytes.\n+---+-------+-----------+-----+\n| id|   name|   category|price|\n+---+-------+-----------+-----+\n|  1|   Amit|Electronics|50000|\n|  2|  Priya|  Furniture| 3000|\n|  3|  Rahul| Stationery|  200|\n|  4|   Neha|      Books|  800|\n|  5|Karthik|Electronics|45000|\n+---+-------+-----------+-----+\n\n"
     ]
    }
   ],
   "source": [
    "csv_data = \"\"\"id,name,category,price\n",
    "1,Amit,Electronics,50000\n",
    "2,Priya,Furniture,3000\n",
    "3,Rahul,Stationery,200\n",
    "4,Neha,Books,800\n",
    "5,Karthik,Electronics,45000\n",
    "\"\"\"\n",
    "dbutils.fs.put(\"dbfs:/tmp/example.csv\", csv_data, True)\n",
    "df = spark.read.csv(\"dbfs:/tmp/example.csv\", header=True)\n",
    "df.show()"
   ]
  },
  {
   "cell_type": "code",
   "execution_count": 0,
   "metadata": {
    "application/vnd.databricks.v1+cell": {
     "cellMetadata": {
      "byteLimit": 2048000,
      "rowLimit": 10000
     },
     "inputWidgets": {},
     "nuid": "17ded56f-76a8-42c6-84e8-17106e20c81a",
     "showTitle": false,
     "tableResultSettingsMap": {},
     "title": ""
    }
   },
   "outputs": [],
   "source": [
    "df.write.format(\"delta\").mode(\"overwrite\").save(\"/tmp/delta_example\")"
   ]
  },
  {
   "cell_type": "code",
   "execution_count": 0,
   "metadata": {
    "application/vnd.databricks.v1+cell": {
     "cellMetadata": {
      "byteLimit": 2048000,
      "rowLimit": 10000
     },
     "inputWidgets": {},
     "nuid": "22c35482-9000-45a2-826e-25e8909850cc",
     "showTitle": false,
     "tableResultSettingsMap": {},
     "title": ""
    }
   },
   "outputs": [
    {
     "output_type": "stream",
     "name": "stdout",
     "output_type": "stream",
     "text": [
      "+---+-------+-----------+-----+\n| id|   name|   category|price|\n+---+-------+-----------+-----+\n|  1|   Amit|Electronics|50000|\n|  2|  Priya|  Furniture| 3000|\n|  3|  Rahul| Stationery|  200|\n|  4|   Neha|      Books|  800|\n|  5|Karthik|Electronics|45000|\n+---+-------+-----------+-----+\n\n"
     ]
    }
   ],
   "source": [
    "df_delta = spark.read.format(\"delta\").load(\"/tmp/delta_example\")\n",
    "df_delta.show()"
   ]
  },
  {
   "cell_type": "code",
   "execution_count": 0,
   "metadata": {
    "application/vnd.databricks.v1+cell": {
     "cellMetadata": {
      "byteLimit": 2048000,
      "rowLimit": 10000
     },
     "inputWidgets": {},
     "nuid": "8d8a8c7b-24e6-4cf2-8bca-e48bb0c4eb59",
     "showTitle": false,
     "tableResultSettingsMap": {},
     "title": ""
    }
   },
   "outputs": [
    {
     "output_type": "stream",
     "name": "stdout",
     "output_type": "stream",
     "text": [
      "+---+-------+-----------+-----+\n| id|   name|   category|price|\n+---+-------+-----------+-----+\n|  1|   Amit|Electronics|50000|\n|  3|  Rahul| Stationery|  200|\n|  4|   Neha|      Books|  800|\n|  5|Karthik|Electronics|45000|\n|  2|  Priya|  Furniture| 4000|\n+---+-------+-----------+-----+\n\n"
     ]
    }
   ],
   "source": [
    "from delta.tables import DeltaTable\n",
    "delta_table = DeltaTable.forPath(spark, \"/tmp/delta_example\")\n",
    "delta_table.update(\n",
    "  condition = \"id = 2\",\n",
    "  set = {\"price\": \"4000\"}\n",
    ")\n",
    "df_delta.show()"
   ]
  },
  {
   "cell_type": "code",
   "execution_count": 0,
   "metadata": {
    "application/vnd.databricks.v1+cell": {
     "cellMetadata": {
      "byteLimit": 2048000,
      "rowLimit": 10000
     },
     "inputWidgets": {},
     "nuid": "7cec4817-ac9c-437f-95dd-0e239fdb9d47",
     "showTitle": false,
     "tableResultSettingsMap": {},
     "title": ""
    }
   },
   "outputs": [
    {
     "output_type": "stream",
     "name": "stdout",
     "output_type": "stream",
     "text": [
      "+---+-------+-----------+-----+\n| id|   name|   category|price|\n+---+-------+-----------+-----+\n|  1|   Amit|Electronics|50000|\n|  3|  Rahul| Stationery|  200|\n|  4|   Neha|      Books|  800|\n|  5|Karthik|Electronics|45000|\n|  2|  Priya|  Furniture| 4000|\n|  6|  Sneha|    Kitchen| 1200|\n+---+-------+-----------+-----+\n\n"
     ]
    }
   ],
   "source": [
    "new_data = [\n",
    "    (2, \"Priya\", \"Furniture\", 4000),     # Update\n",
    "    (6, \"Sneha\", \"Kitchen\", 1200)        # Insert\n",
    "]\n",
    "\n",
    "updates_df = spark.createDataFrame(new_data, [\"id\", \"name\", \"category\", \"price\"])\n",
    "# perform upsert\n",
    "delta_table.alias(\"t\").merge(\n",
    "  updates_df.alias(\"u\"),\n",
    "  \"t.id = u.id\").whenMatchedUpdateAll().whenNotMatchedInsertAll().execute()\n",
    "delta_table.toDF().show()"
   ]
  },
  {
   "cell_type": "code",
   "execution_count": 0,
   "metadata": {
    "application/vnd.databricks.v1+cell": {
     "cellMetadata": {
      "byteLimit": 2048000,
      "rowLimit": 10000
     },
     "inputWidgets": {},
     "nuid": "7f7fe3c7-4a7b-4d70-882d-2568c36e8fa6",
     "showTitle": false,
     "tableResultSettingsMap": {},
     "title": ""
    }
   },
   "outputs": [
    {
     "output_type": "stream",
     "name": "stdout",
     "output_type": "stream",
     "text": [
      "+---+-------+-----------+-----+\n| id|   name|   category|price|\n+---+-------+-----------+-----+\n|  1|   Amit|Electronics|50000|\n|  2|  Priya|  Furniture| 3000|\n|  3|  Rahul| Stationery|  200|\n|  4|   Neha|      Books|  800|\n|  5|Karthik|Electronics|45000|\n+---+-------+-----------+-----+\n\n"
     ]
    }
   ],
   "source": [
    "# read previous version\n",
    "previous_df = spark.read.format(\"delta\").option(\"versionAsOf\", 0).load(\"/tmp/delta_example\")\n",
    "previous_df.show()"
   ]
  },
  {
   "cell_type": "code",
   "execution_count": 0,
   "metadata": {
    "application/vnd.databricks.v1+cell": {
     "cellMetadata": {
      "byteLimit": 2048000,
      "rowLimit": 10000
     },
     "inputWidgets": {},
     "nuid": "90e97d5f-2afa-4597-8af6-a17320f62f64",
     "showTitle": false,
     "tableResultSettingsMap": {},
     "title": ""
    }
   },
   "outputs": [
    {
     "output_type": "stream",
     "name": "stdout",
     "output_type": "stream",
     "text": [
      "+---+-------+-----------+-----+\n| id|   name|   category|price|\n+---+-------+-----------+-----+\n|  5|Karthik|Electronics|45000|\n|  1|   Amit|Electronics|50000|\n|  2|  Priya|  Furniture| 3000|\n|  3|  Rahul| Stationery|  200|\n|  4|   Neha|      Books|  800|\n+---+-------+-----------+-----+\n\n"
     ]
    }
   ],
   "source": [
    "# patitioning\n",
    "df.write.format(\"delta\").mode(\"overwrite\").partitionBy('category').save(\"/tmp/product_partioned\")\n",
    "spark.read.format(\"delta\").load(\"/tmp/product_partioned\").show()"
   ]
  },
  {
   "cell_type": "code",
   "execution_count": 0,
   "metadata": {
    "application/vnd.databricks.v1+cell": {
     "cellMetadata": {},
     "inputWidgets": {},
     "nuid": "3ef2d2fc-5841-42d0-b3d4-768146a0b071",
     "showTitle": false,
     "tableResultSettingsMap": {},
     "title": ""
    }
   },
   "outputs": [],
   "source": []
  },
  {
   "cell_type": "code",
   "execution_count": 0,
   "metadata": {
    "application/vnd.databricks.v1+cell": {
     "cellMetadata": {},
     "inputWidgets": {},
     "nuid": "09b00de0-add5-4fda-ae3c-206eceb948f2",
     "showTitle": false,
     "tableResultSettingsMap": {},
     "title": ""
    }
   },
   "outputs": [],
   "source": []
  }
 ],
 "metadata": {
  "application/vnd.databricks.v1+notebook": {
   "computePreferences": null,
   "dashboards": [],
   "environmentMetadata": {
    "base_environment": "",
    "environment_version": "2"
   },
   "inputWidgetPreferences": null,
   "language": "python",
   "notebookMetadata": {
    "pythonIndentUnit": 4
   },
   "notebookName": "delta workout",
   "widgets": {}
  },
  "language_info": {
   "name": "python"
  }
 },
 "nbformat": 4,
 "nbformat_minor": 0
}