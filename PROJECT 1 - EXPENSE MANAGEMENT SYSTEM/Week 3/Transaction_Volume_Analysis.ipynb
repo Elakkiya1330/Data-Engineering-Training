{
  "nbformat": 4,
  "nbformat_minor": 0,
  "metadata": {
    "colab": {
      "provenance": []
    },
    "kernelspec": {
      "name": "python3",
      "display_name": "Python 3"
    },
    "language_info": {
      "name": "python"
    }
  },
  "cells": [
    {
      "cell_type": "markdown",
      "source": [
        "#Load a large set of expense transactions"
      ],
      "metadata": {
        "id": "BphUYdpA3Azx"
      }
    },
    {
      "cell_type": "code",
      "execution_count": 8,
      "metadata": {
        "colab": {
          "base_uri": "https://localhost:8080/"
        },
        "id": "zXo4_zcK0EG0",
        "outputId": "9865770c-c927-455e-814e-8b192cdf1910"
      },
      "outputs": [
        {
          "output_type": "stream",
          "name": "stdout",
          "text": [
            "Drive already mounted at /content/drive; to attempt to forcibly remount, call drive.mount(\"/content/drive\", force_remount=True).\n"
          ]
        }
      ],
      "source": [
        "# I have the the cleaned data from python(week2) in drive\n",
        "from google.colab import drive\n",
        "drive.mount('/content/drive')"
      ]
    },
    {
      "cell_type": "code",
      "source": [
        "from pyspark.sql import SparkSession\n",
        "spark = SparkSession.builder.appName(\"TransactionVolume\").getOrCreate()"
      ],
      "metadata": {
        "id": "tazzli_l1g83"
      },
      "execution_count": 2,
      "outputs": []
    },
    {
      "cell_type": "code",
      "source": [
        "df = spark.read.csv('/content/drive/My Drive/cleaned_expenses.csv', header=True, inferSchema=True)\n",
        "from pyspark.sql.functions import date_format\n",
        "df = df.withColumn(\"month\", date_format(\"expense_date\", \"yyyy-MM\"))\n",
        "df.show()"
      ],
      "metadata": {
        "colab": {
          "base_uri": "https://localhost:8080/"
        },
        "id": "gkj_yqla2Ie-",
        "outputId": "ac2c5258-e16d-4228-ed20-360c8fdfae5b"
      },
      "execution_count": 17,
      "outputs": [
        {
          "output_type": "stream",
          "name": "stdout",
          "text": [
            "+-------+-----------+-------+------------+--------------------+-------+\n",
            "|user_id|category_id| amount|expense_date|         description|  month|\n",
            "+-------+-----------+-------+------------+--------------------+-------+\n",
            "|      1|          1| 2500.0|  2025-07-01|Weekly groceries ...|2025-07|\n",
            "|      2|          2|10000.0|  2025-07-01|  Monthly house rent|2025-07|\n",
            "|      3|          5| 1200.0|  2025-07-02| Dinner with friends|2025-07|\n",
            "|      4|          3| 1800.0|  2025-03-07|Electricity and w...|2025-03|\n",
            "|      5|          6| 2200.0|  2025-07-04|General health ch...|2025-07|\n",
            "|      6|          4|  800.0|  2025-07-04|Local transport c...|2025-07|\n",
            "|      7|          7| 5000.0|  2025-07-05|        Tuition fees|2025-07|\n",
            "|      8|          8|  950.0|  2025-07-05|    Movie and snacks|2025-07|\n",
            "|      1|          5|  700.0|  2025-07-06|       Lunch at cafe|2025-07|\n",
            "|      2|          1| 3000.0|  2025-07-07|Vegetables and fr...|2025-07|\n",
            "|      3|          4|  600.0|  2025-07-08|   Bus pass recharge|2025-07|\n",
            "|      4|          8| 1200.0|  2025-07-09|     Concert tickets|2025-07|\n",
            "|      5|          2|10500.0|  2025-07-10|        Rent payment|2025-07|\n",
            "|      6|          6| 1500.0|  2025-11-07|      Dental checkup|2025-11|\n",
            "|      7|          3| 2500.0|  2025-07-12|          Water bill|2025-07|\n",
            "|      8|          1| 2800.0|  2025-07-13|    Grocery shopping|2025-07|\n",
            "|      1|          3|  950.0|  2025-07-14|Internet and elec...|2025-07|\n",
            "|      2|          5| 1400.0|  2025-07-15|Dinner at restaurant|2025-07|\n",
            "|      3|          6| 2300.0|  2025-07-16|Medical prescription|2025-07|\n",
            "|      4|          1| 3200.0|  2025-07-17|Supermarket groce...|2025-07|\n",
            "+-------+-----------+-------+------------+--------------------+-------+\n",
            "only showing top 20 rows\n",
            "\n"
          ]
        }
      ]
    },
    {
      "cell_type": "markdown",
      "source": [
        "#Group by user to calculate total monthly spend"
      ],
      "metadata": {
        "id": "lWkkopMs3fWq"
      }
    },
    {
      "cell_type": "code",
      "source": [
        "from pyspark.sql.functions import col, sum\n",
        "df = df.withColumn(\"amount\", col(\"amount\").cast(\"float\"))\n",
        "monthly_spend = df.groupBy(\"user_id\", \"month\").agg(sum(\"amount\").alias(\"total_spent\")).orderBy(\"user_id\",\"month\")\n",
        "monthly_spend.show()"
      ],
      "metadata": {
        "colab": {
          "base_uri": "https://localhost:8080/"
        },
        "id": "ckonrq8t3jkJ",
        "outputId": "2d757a29-036b-4154-e117-375c7ea463de"
      },
      "execution_count": 19,
      "outputs": [
        {
          "output_type": "stream",
          "name": "stdout",
          "text": [
            "+-------+-------+-----------+\n",
            "|user_id|  month|total_spent|\n",
            "+-------+-------+-----------+\n",
            "|      1|2025-07|     4150.0|\n",
            "|      2|2025-07|    14400.0|\n",
            "|      3|2025-07|     4100.0|\n",
            "|      4|2025-03|     1800.0|\n",
            "|      4|2025-07|     4400.0|\n",
            "|      5|2025-07|    13600.0|\n",
            "|      6|2025-07|     4800.0|\n",
            "|      6|2025-11|     1500.0|\n",
            "|      7|2025-07|     8600.0|\n",
            "|      8|2025-07|    13750.0|\n",
            "+-------+-------+-----------+\n",
            "\n"
          ]
        }
      ]
    },
    {
      "cell_type": "markdown",
      "source": [
        "#Detect unusual spikes or large one-time expenses"
      ],
      "metadata": {
        "id": "cr7W1_LJ5W8Z"
      }
    },
    {
      "cell_type": "code",
      "source": [
        "# Calculate average monthly spend per user\n",
        "from pyspark.sql.functions import when, avg\n",
        "avg_spend = monthly_spend.groupBy(\"user_id\").agg(avg(\"total_spent\").alias(\"avg_monthly_spend\"))\n",
        "joined = monthly_spend.join(avg_spend, on=\"user_id\")\n",
        "spikes = joined.withColumn(\"spike\", when(col(\"total_spent\") > 1.5 * col(\"avg_monthly_spend\"), \"Yes\").otherwise(\"No\"))\n",
        "spikes.show()"
      ],
      "metadata": {
        "colab": {
          "base_uri": "https://localhost:8080/"
        },
        "id": "566qRgyW5byg",
        "outputId": "a5731387-8299-4a4d-9de6-ff4adabd827d"
      },
      "execution_count": 29,
      "outputs": [
        {
          "output_type": "stream",
          "name": "stdout",
          "text": [
            "+-------+-------+-----------+-----------------+-----+\n",
            "|user_id|  month|total_spent|avg_monthly_spend|spike|\n",
            "+-------+-------+-----------+-----------------+-----+\n",
            "|      1|2025-07|     4150.0|           4150.0|   No|\n",
            "|      6|2025-07|     4800.0|           3150.0|  Yes|\n",
            "|      6|2025-11|     1500.0|           3150.0|   No|\n",
            "|      3|2025-07|     4100.0|           4100.0|   No|\n",
            "|      5|2025-07|    13600.0|          13600.0|   No|\n",
            "|      4|2025-07|     4400.0|           3100.0|   No|\n",
            "|      4|2025-03|     1800.0|           3100.0|   No|\n",
            "|      8|2025-07|    13750.0|          13750.0|   No|\n",
            "|      7|2025-07|     8600.0|           8600.0|   No|\n",
            "|      2|2025-07|    14400.0|          14400.0|   No|\n",
            "+-------+-------+-----------+-----------------+-----+\n",
            "\n"
          ]
        }
      ]
    },
    {
      "cell_type": "code",
      "source": [
        "spikes.filter(col(\"spike\") == \"Yes\").show()"
      ],
      "metadata": {
        "colab": {
          "base_uri": "https://localhost:8080/"
        },
        "id": "E7TfWA8s6snH",
        "outputId": "1455990a-b99c-4685-ca03-0ae629e5ac7a"
      },
      "execution_count": 30,
      "outputs": [
        {
          "output_type": "stream",
          "name": "stdout",
          "text": [
            "+-------+-------+-----------+-----------------+-----+\n",
            "|user_id|  month|total_spent|avg_monthly_spend|spike|\n",
            "+-------+-------+-----------+-----------------+-----+\n",
            "|      6|2025-07|     4800.0|           3150.0|  Yes|\n",
            "+-------+-------+-----------+-----------------+-----+\n",
            "\n"
          ]
        }
      ]
    }
  ]
}