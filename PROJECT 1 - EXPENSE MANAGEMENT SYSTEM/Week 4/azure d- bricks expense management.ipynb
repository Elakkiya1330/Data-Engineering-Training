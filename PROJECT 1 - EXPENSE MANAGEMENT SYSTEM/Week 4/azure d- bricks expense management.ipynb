{
 "cells": [
  {
   "cell_type": "markdown",
   "metadata": {
    "application/vnd.databricks.v1+cell": {
     "cellMetadata": {},
     "inputWidgets": {},
     "nuid": "ab1d83b9-db81-46dc-aee6-81c0e84f3c5b",
     "showTitle": false,
     "tableResultSettingsMap": {},
     "title": ""
    }
   },
   "source": [
    "#1. Upload Cleaned Data into Databricks"
   ]
  },
  {
   "cell_type": "code",
   "execution_count": 0,
   "metadata": {
    "application/vnd.databricks.v1+cell": {
     "cellMetadata": {
      "byteLimit": 2048000,
      "rowLimit": 10000
     },
     "inputWidgets": {},
     "nuid": "307dafbe-275b-42ce-b737-bd80d8fc3f13",
     "showTitle": false,
     "tableResultSettingsMap": {},
     "title": ""
    }
   },
   "outputs": [],
   "source": [
    "expenses_df = spark.read.csv(\"dbfs:/FileStore/tables/cleaned_expenses.csv\", header=True, inferSchema=True)\n",
    "users_df = spark.read.csv(\"dbfs:/FileStore/tables/users-1.csv\", header=True, inferSchema=True)"
   ]
  },
  {
   "cell_type": "code",
   "execution_count": 0,
   "metadata": {
    "application/vnd.databricks.v1+cell": {
     "cellMetadata": {
      "byteLimit": 2048000,
      "rowLimit": 10000
     },
     "inputWidgets": {},
     "nuid": "dbe033ca-4bc0-43ec-a061-dc52468985c2",
     "showTitle": false,
     "tableResultSettingsMap": {},
     "title": ""
    }
   },
   "outputs": [
    {
     "output_type": "stream",
     "name": "stdout",
     "output_type": "stream",
     "text": [
      "+-------+-----------+-------+------------+--------------------+----------+\n|user_id|category_id| amount|expense_date|         description|     month|\n+-------+-----------+-------+------------+--------------------+----------+\n|      1|          1| 2500.0|  2025-07-01|Weekly groceries ...|2025-07-01|\n|      2|          2|10000.0|  2025-07-01|  Monthly house rent|2025-07-01|\n|      3|          5| 1200.0|  2025-07-02| Dinner with friends|2025-07-01|\n|      4|          3| 1800.0|  2025-03-07|Electricity and w...|2025-03-01|\n|      5|          6| 2200.0|  2025-07-04|General health ch...|2025-07-01|\n|      6|          4|  800.0|  2025-07-04|Local transport c...|2025-07-01|\n|      7|          7| 5000.0|  2025-07-05|        Tuition fees|2025-07-01|\n|      8|          8|  950.0|  2025-07-05|    Movie and snacks|2025-07-01|\n|      1|          5|  700.0|  2025-07-06|       Lunch at cafe|2025-07-01|\n|      2|          1| 3000.0|  2025-07-07|Vegetables and fr...|2025-07-01|\n|      3|          4|  600.0|  2025-07-08|   Bus pass recharge|2025-07-01|\n|      4|          8| 1200.0|  2025-07-09|     Concert tickets|2025-07-01|\n|      5|          2|10500.0|  2025-07-10|        Rent payment|2025-07-01|\n|      6|          6| 1500.0|  2025-11-07|      Dental checkup|2025-11-01|\n|      7|          3| 2500.0|  2025-07-12|          Water bill|2025-07-01|\n|      8|          1| 2800.0|  2025-07-13|    Grocery shopping|2025-07-01|\n|      1|          3|  950.0|  2025-07-14|Internet and elec...|2025-07-01|\n|      2|          5| 1400.0|  2025-07-15|Dinner at restaurant|2025-07-01|\n|      3|          6| 2300.0|  2025-07-16|Medical prescription|2025-07-01|\n|      4|          1| 3200.0|  2025-07-17|Supermarket groce...|2025-07-01|\n+-------+-----------+-------+------------+--------------------+----------+\nonly showing top 20 rows\n"
     ]
    }
   ],
   "source": [
    "expenses_df.show()"
   ]
  },
  {
   "cell_type": "code",
   "execution_count": 0,
   "metadata": {
    "application/vnd.databricks.v1+cell": {
     "cellMetadata": {
      "byteLimit": 2048000,
      "rowLimit": 10000
     },
     "inputWidgets": {},
     "nuid": "8a5036cb-f90c-478a-8d27-736e20f8f671",
     "showTitle": false,
     "tableResultSettingsMap": {},
     "title": ""
    }
   },
   "outputs": [
    {
     "output_type": "stream",
     "name": "stdout",
     "output_type": "stream",
     "text": [
      "+-------+--------+------------------+--------------+\n|user_id|    name|             email|monthly_income|\n+-------+--------+------------------+--------------+\n|      1|Elakkiya|elakkiya@gmail.com|          2000|\n|      2| Kashifa| kashifa@gmail.com|          4000|\n|      3|    Roja|    roja@gmail.com|          3000|\n|      4|Sereesha|sereesha@gmail.com|          5000|\n|      5| Lavanya| lavanya@gmail.com|          5000|\n|      6| Rithika| rithika@gmail.com|          4700|\n|      7|Shobitha|shobitha@gmail.com|          4900|\n|      8|  Harish|  harish@gmail.com|          3000|\n+-------+--------+------------------+--------------+\n\n"
     ]
    }
   ],
   "source": [
    "users_df.show()"
   ]
  },
  {
   "cell_type": "markdown",
   "metadata": {
    "application/vnd.databricks.v1+cell": {
     "cellMetadata": {},
     "inputWidgets": {},
     "nuid": "86d8bd3a-f467-43f5-9e5b-da10cf7bf280",
     "showTitle": false,
     "tableResultSettingsMap": {},
     "title": ""
    }
   },
   "source": [
    "#2. Combine User & Expense Data"
   ]
  },
  {
   "cell_type": "code",
   "execution_count": 0,
   "metadata": {
    "application/vnd.databricks.v1+cell": {
     "cellMetadata": {
      "byteLimit": 2048000,
      "rowLimit": 10000
     },
     "inputWidgets": {},
     "nuid": "d90312ac-50c1-4494-8213-bed77ac8769b",
     "showTitle": false,
     "tableResultSettingsMap": {},
     "title": ""
    }
   },
   "outputs": [
    {
     "output_type": "stream",
     "name": "stdout",
     "output_type": "stream",
     "text": [
      "+-------+--------+------------------+--------------+-----------+-------+------------+--------------------+----------+\n|user_id|    name|             email|monthly_income|category_id| amount|expense_date|         description|     month|\n+-------+--------+------------------+--------------+-----------+-------+------------+--------------------+----------+\n|      1|Elakkiya|elakkiya@gmail.com|          2000|          1| 2500.0|  2025-07-01|Weekly groceries ...|2025-07-01|\n|      1|Elakkiya|elakkiya@gmail.com|          2000|          5|  700.0|  2025-07-06|       Lunch at cafe|2025-07-01|\n|      1|Elakkiya|elakkiya@gmail.com|          2000|          3|  950.0|  2025-07-14|Internet and elec...|2025-07-01|\n|      6| Rithika| rithika@gmail.com|          4700|          4|  800.0|  2025-07-04|Local transport c...|2025-07-01|\n|      6| Rithika| rithika@gmail.com|          4700|          6| 1500.0|  2025-11-07|      Dental checkup|2025-11-01|\n|      6| Rithika| rithika@gmail.com|          4700|          7| 4000.0|  2025-07-19|   Online course fee|2025-07-01|\n|      3|    Roja|    roja@gmail.com|          3000|          5| 1200.0|  2025-07-02| Dinner with friends|2025-07-01|\n|      3|    Roja|    roja@gmail.com|          3000|          4|  600.0|  2025-07-08|   Bus pass recharge|2025-07-01|\n|      3|    Roja|    roja@gmail.com|          3000|          6| 2300.0|  2025-07-16|Medical prescription|2025-07-01|\n|      5| Lavanya| lavanya@gmail.com|          5000|          6| 2200.0|  2025-07-04|General health ch...|2025-07-01|\n|      5| Lavanya| lavanya@gmail.com|          5000|          2|10500.0|  2025-07-10|        Rent payment|2025-07-01|\n|      5| Lavanya| lavanya@gmail.com|          5000|          4|  900.0|  2025-07-18|        Fuel for car|2025-07-01|\n|      4|Sereesha|sereesha@gmail.com|          5000|          3| 1800.0|  2025-03-07|Electricity and w...|2025-03-01|\n|      4|Sereesha|sereesha@gmail.com|          5000|          8| 1200.0|  2025-07-09|     Concert tickets|2025-07-01|\n|      4|Sereesha|sereesha@gmail.com|          5000|          1| 3200.0|  2025-07-17|Supermarket groce...|2025-07-01|\n|      8|  Harish|  harish@gmail.com|          3000|          8|  950.0|  2025-07-05|    Movie and snacks|2025-07-01|\n|      8|  Harish|  harish@gmail.com|          3000|          1| 2800.0|  2025-07-13|    Grocery shopping|2025-07-01|\n|      8|  Harish|  harish@gmail.com|          3000|          2|10000.0|  2025-07-21|          House rent|2025-07-01|\n|      7|Shobitha|shobitha@gmail.com|          4900|          7| 5000.0|  2025-07-05|        Tuition fees|2025-07-01|\n|      7|Shobitha|shobitha@gmail.com|          4900|          3| 2500.0|  2025-07-12|          Water bill|2025-07-01|\n+-------+--------+------------------+--------------+-----------+-------+------------+--------------------+----------+\nonly showing top 20 rows\n"
     ]
    }
   ],
   "source": [
    "combined_df = users_df.join(expenses_df, on=\"user_id\", how=\"left\")\n",
    "combined_df.show()"
   ]
  },
  {
   "cell_type": "markdown",
   "metadata": {
    "application/vnd.databricks.v1+cell": {
     "cellMetadata": {},
     "inputWidgets": {},
     "nuid": "d3735d2c-be96-43a7-bb33-9de8b9304c7e",
     "showTitle": false,
     "tableResultSettingsMap": {},
     "title": ""
    }
   },
   "source": [
    "#3. Create Summary Table"
   ]
  },
  {
   "cell_type": "code",
   "execution_count": 0,
   "metadata": {
    "application/vnd.databricks.v1+cell": {
     "cellMetadata": {
      "byteLimit": 2048000,
      "rowLimit": 10000
     },
     "inputWidgets": {},
     "nuid": "4b276287-fdb4-45c1-8d17-e110620e041a",
     "showTitle": false,
     "tableResultSettingsMap": {},
     "title": ""
    }
   },
   "outputs": [
    {
     "output_type": "stream",
     "name": "stdout",
     "output_type": "stream",
     "text": [
      "+-------+-------+-------------+---------------+--------------+---------------+-------------+\n|user_id|  month|monthly_spend|avg_transaction|monthly_income|monthly_savings|        alert|\n+-------+-------+-------------+---------------+--------------+---------------+-------------+\n|      1|2025-07|       4150.0|        1383.33|          2000|            0.0|High Spending|\n|      2|2025-07|      14400.0|         4800.0|          4000|            0.0|High Spending|\n|      3|2025-07|       4100.0|        1366.67|          3000|            0.0|High Spending|\n|      4|2025-07|       4400.0|         2200.0|          5000|          600.0|       Normal|\n|      4|2025-03|       1800.0|         1800.0|          5000|         3200.0|       Normal|\n|      5|2025-07|      13600.0|        4533.33|          5000|            0.0|High Spending|\n|      6|2025-11|       1500.0|         1500.0|          4700|         3200.0|       Normal|\n|      6|2025-07|       4800.0|         2400.0|          4700|            0.0|High Spending|\n|      7|2025-07|       8600.0|        2866.67|          4900|            0.0|High Spending|\n|      8|2025-07|      13750.0|        4583.33|          3000|            0.0|High Spending|\n+-------+-------+-------------+---------------+--------------+---------------+-------------+\n\n"
     ]
    }
   ],
   "source": [
    "from pyspark.sql.functions import col, date_format, sum as _sum, avg, when,round,col\n",
    "combined_df = combined_df.withColumn(\"month\", date_format(\"expense_date\", \"yyyy-MM\"))\n",
    "summary_df = combined_df.groupBy(\"user_id\", \"month\").agg(\n",
    "    _sum(\"amount\").alias(\"monthly_spend\"),\n",
    "    round(avg(\"amount\"),2).alias(\"avg_transaction\")\n",
    ")\n",
    "\n",
    "summary_df = summary_df.join(users_df.select(\"user_id\", \"monthly_income\"), on=\"user_id\", how=\"left\")\n",
    "\n",
    "summary_df = summary_df.withColumn(\"monthly_savings\",when((col(\"monthly_income\") - col(\"monthly_spend\")) < 0, 0).otherwise (col(\"monthly_income\") - col(\"monthly_spend\")))\n",
    "\n",
    "summary_df = summary_df.withColumn(\"alert\",when(col(\"monthly_spend\") > col(\"monthly_income\") * 0.9, \"High Spending\").otherwise(\"Normal\"))\n",
    "summary_df.orderBy(\"user_id\").show()"
   ]
  },
  {
   "cell_type": "markdown",
   "metadata": {
    "application/vnd.databricks.v1+cell": {
     "cellMetadata": {},
     "inputWidgets": {},
     "nuid": "38f7ed19-fdc6-4e2d-9db0-7509aeaf5f1b",
     "showTitle": false,
     "tableResultSettingsMap": {},
     "title": ""
    }
   },
   "source": [
    "as the sample expenses are of small amount i have given the monthly income less than 5000 for all user inorder to get variation in savings and alerts."
   ]
  },
  {
   "cell_type": "markdown",
   "metadata": {
    "application/vnd.databricks.v1+cell": {
     "cellMetadata": {},
     "inputWidgets": {},
     "nuid": "16e0ca01-e391-42ff-83af-e579b08437df",
     "showTitle": false,
     "tableResultSettingsMap": {},
     "title": ""
    }
   },
   "source": [
    "#4. Save as Delta or CSV "
   ]
  },
  {
   "cell_type": "code",
   "execution_count": 0,
   "metadata": {
    "application/vnd.databricks.v1+cell": {
     "cellMetadata": {
      "byteLimit": 2048000,
      "rowLimit": 10000
     },
     "inputWidgets": {},
     "nuid": "b9df8bcb-c663-4502-9d43-6c807d0dd7d4",
     "showTitle": false,
     "tableResultSettingsMap": {},
     "title": ""
    }
   },
   "outputs": [],
   "source": [
    "summary_df.write.format(\"delta\").mode(\"overwrite\").save(\"dbfs:/FileStore/expense_summary_delta\")\n",
    "summary_df.write.csv(\"dbfs:/FileStore/expense_summary_csv\", header=True, mode=\"overwrite\")"
   ]
  }
 ],
 "metadata": {
  "application/vnd.databricks.v1+notebook": {
   "computePreferences": null,
   "dashboards": [],
   "environmentMetadata": {
    "base_environment": "",
    "environment_version": "2"
   },
   "inputWidgetPreferences": null,
   "language": "python",
   "notebookMetadata": {
    "pythonIndentUnit": 4
   },
   "notebookName": "expense management",
   "widgets": {}
  },
  "language_info": {
   "name": "python"
  }
 },
 "nbformat": 4,
 "nbformat_minor": 0
}