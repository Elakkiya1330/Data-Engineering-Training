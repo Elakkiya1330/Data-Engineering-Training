{
  "nbformat": 4,
  "nbformat_minor": 0,
  "metadata": {
    "colab": {
      "provenance": []
    },
    "kernelspec": {
      "name": "python3",
      "display_name": "Python 3"
    },
    "language_info": {
      "name": "python"
    }
  },
  "cells": [
    {
      "cell_type": "code",
      "source": [
        "from pyspark.sql import SparkSession\n",
        "spark = SparkSession.builder.appName(\"Practice\").master(\"local[*]\").getOrCreate()"
      ],
      "metadata": {
        "id": "RfjG0LvoK9ip"
      },
      "execution_count": 2,
      "outputs": []
    },
    {
      "cell_type": "code",
      "execution_count": 3,
      "metadata": {
        "id": "phe0WhFBKjtq",
        "outputId": "de79c6e3-b23e-493f-e38c-b6791b80ff56",
        "colab": {
          "base_uri": "https://localhost:8080/"
        }
      },
      "outputs": [
        {
          "output_type": "stream",
          "name": "stdout",
          "text": [
            "+-----+------+----------+---------+---------+\n",
            "|EmpID|  Name|Department|UnitsSold|UnitPrice|\n",
            "+-----+------+----------+---------+---------+\n",
            "| E101|  Amit|     Sales|       10|     1200|\n",
            "| E102| Sneha| Marketing|        8|     1500|\n",
            "| E103|  Ravi|     Sales|       12|     1300|\n",
            "| E104|Anjali|        HR|        7|     1100|\n",
            "| E105|   Raj|     Sales|        5|     1000|\n",
            "+-----+------+----------+---------+---------+\n",
            "\n"
          ]
        }
      ],
      "source": [
        "data = [\n",
        "    (\"E101\", \"Amit\", \"Sales\", 10, 1200),\n",
        "    (\"E102\", \"Sneha\", \"Marketing\", 8, 1500),\n",
        "    (\"E103\", \"Ravi\", \"Sales\", 12, 1300),\n",
        "    (\"E104\", \"Anjali\", \"HR\", 7, 1100),\n",
        "    (\"E105\", \"Raj\", \"Sales\", 5, 1000)\n",
        "]\n",
        "\n",
        "columns = [\"EmpID\", \"Name\", \"Department\", \"UnitsSold\", \"UnitPrice\"]\n",
        "\n",
        "df = spark.createDataFrame(data, columns)\n",
        "df.show()"
      ]
    },
    {
      "cell_type": "code",
      "source": [
        "# total no of employees\n",
        "df.count()"
      ],
      "metadata": {
        "colab": {
          "base_uri": "https://localhost:8080/"
        },
        "id": "tUJXTbUuLJk_",
        "outputId": "e3778c30-8464-4b77-9948-ffe86528400c"
      },
      "execution_count": 4,
      "outputs": [
        {
          "output_type": "execute_result",
          "data": {
            "text/plain": [
              "5"
            ]
          },
          "metadata": {},
          "execution_count": 4
        }
      ]
    },
    {
      "cell_type": "code",
      "source": [
        "# add new column total sales\n",
        "from pyspark.sql.functions import col\n",
        "df = df.withColumn('TotalSales',col('UnitsSold') * col('UnitPrice'))\n",
        "df.show()"
      ],
      "metadata": {
        "colab": {
          "base_uri": "https://localhost:8080/"
        },
        "id": "g9bjf855LSVk",
        "outputId": "64580dc3-ec21-4372-f5a7-ca13db165d27"
      },
      "execution_count": 5,
      "outputs": [
        {
          "output_type": "stream",
          "name": "stdout",
          "text": [
            "+-----+------+----------+---------+---------+----------+\n",
            "|EmpID|  Name|Department|UnitsSold|UnitPrice|TotalSales|\n",
            "+-----+------+----------+---------+---------+----------+\n",
            "| E101|  Amit|     Sales|       10|     1200|     12000|\n",
            "| E102| Sneha| Marketing|        8|     1500|     12000|\n",
            "| E103|  Ravi|     Sales|       12|     1300|     15600|\n",
            "| E104|Anjali|        HR|        7|     1100|      7700|\n",
            "| E105|   Raj|     Sales|        5|     1000|      5000|\n",
            "+-----+------+----------+---------+---------+----------+\n",
            "\n"
          ]
        }
      ]
    },
    {
      "cell_type": "code",
      "source": [
        "# show only sales department employess with totalsales > 12000\n",
        "df.filter((col('Department')=='Sales') & (col(\"TotalSales\") >= 12000)).show()"
      ],
      "metadata": {
        "colab": {
          "base_uri": "https://localhost:8080/"
        },
        "id": "LtcRru0TLyM3",
        "outputId": "3500fdc9-df9f-4a7c-83af-2e291cc15141"
      },
      "execution_count": 7,
      "outputs": [
        {
          "output_type": "stream",
          "name": "stdout",
          "text": [
            "+-----+----+----------+---------+---------+----------+\n",
            "|EmpID|Name|Department|UnitsSold|UnitPrice|TotalSales|\n",
            "+-----+----+----------+---------+---------+----------+\n",
            "| E101|Amit|     Sales|       10|     1200|     12000|\n",
            "| E103|Ravi|     Sales|       12|     1300|     15600|\n",
            "+-----+----+----------+---------+---------+----------+\n",
            "\n"
          ]
        }
      ]
    },
    {
      "cell_type": "code",
      "source": [
        "# show employee with highest total sales\n",
        "from pyspark.sql.functions import desc\n",
        "df.orderBy(col(\"totalSales\").desc()).limit(1).show()"
      ],
      "metadata": {
        "colab": {
          "base_uri": "https://localhost:8080/"
        },
        "id": "ZJpFCkq6NH0J",
        "outputId": "bce9780a-bebc-4e27-842a-dc1898cc46e7"
      },
      "execution_count": 10,
      "outputs": [
        {
          "output_type": "stream",
          "name": "stdout",
          "text": [
            "+-----+----+----------+---------+---------+----------+\n",
            "|EmpID|Name|Department|UnitsSold|UnitPrice|TotalSales|\n",
            "+-----+----+----------+---------+---------+----------+\n",
            "| E103|Ravi|     Sales|       12|     1300|     15600|\n",
            "+-----+----+----------+---------+---------+----------+\n",
            "\n"
          ]
        }
      ]
    },
    {
      "cell_type": "code",
      "source": [
        "#  sort employees by total sales in decending order\n",
        "df.orderBy(col(\"totalSales\").desc()).show()"
      ],
      "metadata": {
        "colab": {
          "base_uri": "https://localhost:8080/"
        },
        "id": "1PLRzXgUN0Xa",
        "outputId": "28b1cee5-65d4-47bd-ef25-df1248522f3c"
      },
      "execution_count": 11,
      "outputs": [
        {
          "output_type": "stream",
          "name": "stdout",
          "text": [
            "+-----+------+----------+---------+---------+----------+\n",
            "|EmpID|  Name|Department|UnitsSold|UnitPrice|TotalSales|\n",
            "+-----+------+----------+---------+---------+----------+\n",
            "| E103|  Ravi|     Sales|       12|     1300|     15600|\n",
            "| E101|  Amit|     Sales|       10|     1200|     12000|\n",
            "| E102| Sneha| Marketing|        8|     1500|     12000|\n",
            "| E104|Anjali|        HR|        7|     1100|      7700|\n",
            "| E105|   Raj|     Sales|        5|     1000|      5000|\n",
            "+-----+------+----------+---------+---------+----------+\n",
            "\n"
          ]
        }
      ]
    }
  ]
}